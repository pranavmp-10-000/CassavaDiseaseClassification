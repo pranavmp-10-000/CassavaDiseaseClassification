{
  "nbformat": 4,
  "nbformat_minor": 0,
  "metadata": {
    "accelerator": "TPU",
    "colab": {
      "name": "cassavaclassification.ipynb",
      "provenance": [],
      "collapsed_sections": [
        "mP00kRXTxyDA",
        "dGIOT5hjXttb"
      ],
      "include_colab_link": true
    },
    "kernelspec": {
      "display_name": "Python 3",
      "language": "python",
      "name": "python3"
    },
    "language_info": {
      "codemirror_mode": {
        "name": "ipython",
        "version": 3
      },
      "file_extension": ".py",
      "mimetype": "text/x-python",
      "name": "python",
      "nbconvert_exporter": "python",
      "pygments_lexer": "ipython3",
      "version": "3.7.6"
    }
  },
  "cells": [
    {
      "cell_type": "markdown",
      "metadata": {
        "id": "view-in-github",
        "colab_type": "text"
      },
      "source": [
        "<a href=\"https://colab.research.google.com/github/pranavmp-10-000/CassavaDiseaseClassification/blob/main/cassavaclassification.ipynb\" target=\"_parent\"><img src=\"https://colab.research.google.com/assets/colab-badge.svg\" alt=\"Open In Colab\"/></a>"
      ]
    },
    {
      "cell_type": "markdown",
      "metadata": {
        "id": "VMeLEZr6iGWd"
      },
      "source": [
        "# Kaggle Data Import"
      ]
    },
    {
      "cell_type": "code",
      "metadata": {
        "colab": {
          "base_uri": "https://localhost:8080/"
        },
        "id": "arK14FWEx4jf",
        "outputId": "7e3e678f-cfb7-4153-8935-d5527aadf247"
      },
      "source": [
        "! pip uninstall kaggle\r\n",
        "!pip install kaggle"
      ],
      "execution_count": 1,
      "outputs": [
        {
          "output_type": "stream",
          "text": [
            "Uninstalling kaggle-1.5.10:\n",
            "  Would remove:\n",
            "    /usr/local/bin/kaggle\n",
            "    /usr/local/lib/python3.6/dist-packages/kaggle-1.5.10.dist-info/*\n",
            "    /usr/local/lib/python3.6/dist-packages/kaggle/*\n",
            "Proceed (y/n)? y\n",
            "  Successfully uninstalled kaggle-1.5.10\n",
            "Collecting kaggle\n",
            "\u001b[?25l  Downloading https://files.pythonhosted.org/packages/99/33/365c0d13f07a2a54744d027fe20b60dacdfdfb33bc04746db6ad0b79340b/kaggle-1.5.10.tar.gz (59kB)\n",
            "\u001b[K     |████████████████████████████████| 61kB 3.2MB/s \n",
            "\u001b[?25hRequirement already satisfied: six>=1.10 in /usr/local/lib/python3.6/dist-packages (from kaggle) (1.15.0)\n",
            "Requirement already satisfied: certifi in /usr/local/lib/python3.6/dist-packages (from kaggle) (2020.12.5)\n",
            "Requirement already satisfied: python-dateutil in /usr/local/lib/python3.6/dist-packages (from kaggle) (2.8.1)\n",
            "Requirement already satisfied: requests in /usr/local/lib/python3.6/dist-packages (from kaggle) (2.23.0)\n",
            "Requirement already satisfied: tqdm in /usr/local/lib/python3.6/dist-packages (from kaggle) (4.41.1)\n",
            "Requirement already satisfied: python-slugify in /usr/local/lib/python3.6/dist-packages (from kaggle) (4.0.1)\n",
            "Requirement already satisfied: urllib3 in /usr/local/lib/python3.6/dist-packages (from kaggle) (1.24.3)\n",
            "Requirement already satisfied: idna<3,>=2.5 in /usr/local/lib/python3.6/dist-packages (from requests->kaggle) (2.10)\n",
            "Requirement already satisfied: chardet<4,>=3.0.2 in /usr/local/lib/python3.6/dist-packages (from requests->kaggle) (3.0.4)\n",
            "Requirement already satisfied: text-unidecode>=1.3 in /usr/local/lib/python3.6/dist-packages (from python-slugify->kaggle) (1.3)\n",
            "Building wheels for collected packages: kaggle\n",
            "  Building wheel for kaggle (setup.py) ... \u001b[?25l\u001b[?25hdone\n",
            "  Created wheel for kaggle: filename=kaggle-1.5.10-cp36-none-any.whl size=73269 sha256=6bcf6f43ad5c4e151403d8126a75f9bfa8d763d2d49fbbbad91841a49c6cb8b4\n",
            "  Stored in directory: /root/.cache/pip/wheels/3a/d1/7e/6ce09b72b770149802c653a02783821629146983ee5a360f10\n",
            "Successfully built kaggle\n",
            "Installing collected packages: kaggle\n",
            "Successfully installed kaggle-1.5.10\n"
          ],
          "name": "stdout"
        }
      ]
    },
    {
      "cell_type": "code",
      "metadata": {
        "id": "NL0DiWJRyDXg"
      },
      "source": [
        "from google.colab import files"
      ],
      "execution_count": 2,
      "outputs": []
    },
    {
      "cell_type": "code",
      "metadata": {
        "id": "V4Uy0Ai7yGX3"
      },
      "source": [
        "! mkdir ~/.kaggle\n",
        "! cp kaggle.json ~/.kaggle/\n",
        "! chmod 600 ~/.kaggle/kaggle.json"
      ],
      "execution_count": 3,
      "outputs": []
    },
    {
      "cell_type": "code",
      "metadata": {
        "id": "A0mFgjiozD8_"
      },
      "source": [
        "!mkdir /content/data"
      ],
      "execution_count": 4,
      "outputs": []
    },
    {
      "cell_type": "code",
      "metadata": {
        "id": "XEKMXt9f0Vw_"
      },
      "source": [
        "!kaggle competitions files cassava-leaf-disease-classification"
      ],
      "execution_count": null,
      "outputs": []
    },
    {
      "cell_type": "code",
      "metadata": {
        "colab": {
          "base_uri": "https://localhost:8080/"
        },
        "id": "aibAxjqiyMAe",
        "outputId": "63017b07-a1b0-4ee5-dd7f-21a874094468"
      },
      "source": [
        "!kaggle competitions download -c cassava-leaf-disease-classification -p /content/data -f train.csv"
      ],
      "execution_count": 6,
      "outputs": [
        {
          "output_type": "stream",
          "text": [
            "404 - Not Found\n"
          ],
          "name": "stdout"
        }
      ]
    },
    {
      "cell_type": "code",
      "metadata": {
        "id": "HKczwJ-PxyC8",
        "colab": {
          "base_uri": "https://localhost:8080/"
        },
        "outputId": "62834621-7917-4a6d-ea2a-6d9c925fa104"
      },
      "source": [
        "import numpy as np # linear algebra\n",
        "import pandas as pd # data processing, CSV file I/O (e.g. pd.read_csv)\n",
        "import tensorflow as tf\n",
        "import tensorflow_hub as hub\n",
        "import seaborn as sns\n",
        "import matplotlib.pyplot as plt\n",
        "import shutil\n",
        "import glob\n",
        "from functools import partial\n",
        "import IPython.display as display\n",
        "# Input data files are available in the read-only \"../input/\" directory\n",
        "# For example, running this (by clicking run or pressing Shift+Enter) will list all files under the input directory\n",
        "\n",
        "import os\n",
        "for dirname, _, filenames in os.walk('/content/data'):\n",
        "    for filename in filenames:\n",
        "        print(os.path.join(dirname, filename))\n",
        "\n",
        "# You can write up to 20GB to the current directory (/kaggle/working/) that gets preserved as output when you create a version using \"Save & Run All\" \n",
        "# You can also write temporary files to /kaggle/temp/, but they won't be saved outside of the current session"
      ],
      "execution_count": 7,
      "outputs": [
        {
          "output_type": "stream",
          "text": [
            "/content/data/train.csv\n"
          ],
          "name": "stdout"
        }
      ]
    },
    {
      "cell_type": "code",
      "metadata": {
        "id": "WEtltWNqUd9V"
      },
      "source": [
        "tf.random.set_seed(10)"
      ],
      "execution_count": 8,
      "outputs": []
    },
    {
      "cell_type": "code",
      "metadata": {
        "colab": {
          "base_uri": "https://localhost:8080/"
        },
        "id": "_615hszxDc-V",
        "outputId": "1f4a8038-73b9-4075-fe07-5754fb817be3"
      },
      "source": [
        "!unzip data/\\*.zip -d /content/data"
      ],
      "execution_count": null,
      "outputs": [
        {
          "output_type": "stream",
          "text": [
            "unzip:  cannot find or open data/*.zip, data/*.zip.zip or data/*.zip.ZIP.\n",
            "\n",
            "No zipfiles found.\n"
          ],
          "name": "stdout"
        }
      ]
    },
    {
      "cell_type": "code",
      "metadata": {
        "colab": {
          "base_uri": "https://localhost:8080/"
        },
        "id": "vX8zLKUQxyC_",
        "outputId": "14c3eff3-2536-4d05-faa1-1d5ca1e8eb74"
      },
      "source": [
        "try: # detect TPUs\n",
        "    tpu = tf.distribute.cluster_resolver.TPUClusterResolver() # TPU detection\n",
        "    tf.config.experimental_connect_to_cluster(tpu)\n",
        "    tf.tpu.experimental.initialize_tpu_system(tpu)\n",
        "    strategy = tf.distribute.TPUStrategy(tpu)\n",
        "except ValueError: # no TPU found, detect GPUs\n",
        "    strategy = tf.distribute.MirroredStrategy() # for GPU or multi-GPU machines\n",
        "    #strategy = tf.distribute.get_strategy() # default strategy that works on CPU and single GPU\n",
        "    #strategy = tf.distribute.experimental.MultiWorkerMirroredStrategy() # for clusters of multi-GPU machines\n",
        "\n",
        "print(\"Number of accelerators: \", strategy.num_replicas_in_sync)"
      ],
      "execution_count": 9,
      "outputs": [
        {
          "output_type": "stream",
          "text": [
            "INFO:tensorflow:Initializing the TPU system: grpc://10.111.176.234:8470\n"
          ],
          "name": "stdout"
        },
        {
          "output_type": "stream",
          "text": [
            "INFO:tensorflow:Initializing the TPU system: grpc://10.111.176.234:8470\n"
          ],
          "name": "stderr"
        },
        {
          "output_type": "stream",
          "text": [
            "INFO:tensorflow:Clearing out eager caches\n"
          ],
          "name": "stdout"
        },
        {
          "output_type": "stream",
          "text": [
            "INFO:tensorflow:Clearing out eager caches\n"
          ],
          "name": "stderr"
        },
        {
          "output_type": "stream",
          "text": [
            "INFO:tensorflow:Finished initializing TPU system.\n"
          ],
          "name": "stdout"
        },
        {
          "output_type": "stream",
          "text": [
            "INFO:tensorflow:Finished initializing TPU system.\n"
          ],
          "name": "stderr"
        },
        {
          "output_type": "stream",
          "text": [
            "INFO:tensorflow:Found TPU system:\n"
          ],
          "name": "stdout"
        },
        {
          "output_type": "stream",
          "text": [
            "INFO:tensorflow:Found TPU system:\n"
          ],
          "name": "stderr"
        },
        {
          "output_type": "stream",
          "text": [
            "INFO:tensorflow:*** Num TPU Cores: 8\n"
          ],
          "name": "stdout"
        },
        {
          "output_type": "stream",
          "text": [
            "INFO:tensorflow:*** Num TPU Cores: 8\n"
          ],
          "name": "stderr"
        },
        {
          "output_type": "stream",
          "text": [
            "INFO:tensorflow:*** Num TPU Workers: 1\n"
          ],
          "name": "stdout"
        },
        {
          "output_type": "stream",
          "text": [
            "INFO:tensorflow:*** Num TPU Workers: 1\n"
          ],
          "name": "stderr"
        },
        {
          "output_type": "stream",
          "text": [
            "INFO:tensorflow:*** Num TPU Cores Per Worker: 8\n"
          ],
          "name": "stdout"
        },
        {
          "output_type": "stream",
          "text": [
            "INFO:tensorflow:*** Num TPU Cores Per Worker: 8\n"
          ],
          "name": "stderr"
        },
        {
          "output_type": "stream",
          "text": [
            "INFO:tensorflow:*** Available Device: _DeviceAttributes(/job:localhost/replica:0/task:0/device:CPU:0, CPU, 0, 0)\n"
          ],
          "name": "stdout"
        },
        {
          "output_type": "stream",
          "text": [
            "INFO:tensorflow:*** Available Device: _DeviceAttributes(/job:localhost/replica:0/task:0/device:CPU:0, CPU, 0, 0)\n"
          ],
          "name": "stderr"
        },
        {
          "output_type": "stream",
          "text": [
            "INFO:tensorflow:*** Available Device: _DeviceAttributes(/job:localhost/replica:0/task:0/device:XLA_CPU:0, XLA_CPU, 0, 0)\n"
          ],
          "name": "stdout"
        },
        {
          "output_type": "stream",
          "text": [
            "INFO:tensorflow:*** Available Device: _DeviceAttributes(/job:localhost/replica:0/task:0/device:XLA_CPU:0, XLA_CPU, 0, 0)\n"
          ],
          "name": "stderr"
        },
        {
          "output_type": "stream",
          "text": [
            "INFO:tensorflow:*** Available Device: _DeviceAttributes(/job:worker/replica:0/task:0/device:CPU:0, CPU, 0, 0)\n"
          ],
          "name": "stdout"
        },
        {
          "output_type": "stream",
          "text": [
            "INFO:tensorflow:*** Available Device: _DeviceAttributes(/job:worker/replica:0/task:0/device:CPU:0, CPU, 0, 0)\n"
          ],
          "name": "stderr"
        },
        {
          "output_type": "stream",
          "text": [
            "INFO:tensorflow:*** Available Device: _DeviceAttributes(/job:worker/replica:0/task:0/device:TPU:0, TPU, 0, 0)\n"
          ],
          "name": "stdout"
        },
        {
          "output_type": "stream",
          "text": [
            "INFO:tensorflow:*** Available Device: _DeviceAttributes(/job:worker/replica:0/task:0/device:TPU:0, TPU, 0, 0)\n"
          ],
          "name": "stderr"
        },
        {
          "output_type": "stream",
          "text": [
            "INFO:tensorflow:*** Available Device: _DeviceAttributes(/job:worker/replica:0/task:0/device:TPU:1, TPU, 0, 0)\n"
          ],
          "name": "stdout"
        },
        {
          "output_type": "stream",
          "text": [
            "INFO:tensorflow:*** Available Device: _DeviceAttributes(/job:worker/replica:0/task:0/device:TPU:1, TPU, 0, 0)\n"
          ],
          "name": "stderr"
        },
        {
          "output_type": "stream",
          "text": [
            "INFO:tensorflow:*** Available Device: _DeviceAttributes(/job:worker/replica:0/task:0/device:TPU:2, TPU, 0, 0)\n"
          ],
          "name": "stdout"
        },
        {
          "output_type": "stream",
          "text": [
            "INFO:tensorflow:*** Available Device: _DeviceAttributes(/job:worker/replica:0/task:0/device:TPU:2, TPU, 0, 0)\n"
          ],
          "name": "stderr"
        },
        {
          "output_type": "stream",
          "text": [
            "INFO:tensorflow:*** Available Device: _DeviceAttributes(/job:worker/replica:0/task:0/device:TPU:3, TPU, 0, 0)\n"
          ],
          "name": "stdout"
        },
        {
          "output_type": "stream",
          "text": [
            "INFO:tensorflow:*** Available Device: _DeviceAttributes(/job:worker/replica:0/task:0/device:TPU:3, TPU, 0, 0)\n"
          ],
          "name": "stderr"
        },
        {
          "output_type": "stream",
          "text": [
            "INFO:tensorflow:*** Available Device: _DeviceAttributes(/job:worker/replica:0/task:0/device:TPU:4, TPU, 0, 0)\n"
          ],
          "name": "stdout"
        },
        {
          "output_type": "stream",
          "text": [
            "INFO:tensorflow:*** Available Device: _DeviceAttributes(/job:worker/replica:0/task:0/device:TPU:4, TPU, 0, 0)\n"
          ],
          "name": "stderr"
        },
        {
          "output_type": "stream",
          "text": [
            "INFO:tensorflow:*** Available Device: _DeviceAttributes(/job:worker/replica:0/task:0/device:TPU:5, TPU, 0, 0)\n"
          ],
          "name": "stdout"
        },
        {
          "output_type": "stream",
          "text": [
            "INFO:tensorflow:*** Available Device: _DeviceAttributes(/job:worker/replica:0/task:0/device:TPU:5, TPU, 0, 0)\n"
          ],
          "name": "stderr"
        },
        {
          "output_type": "stream",
          "text": [
            "INFO:tensorflow:*** Available Device: _DeviceAttributes(/job:worker/replica:0/task:0/device:TPU:6, TPU, 0, 0)\n"
          ],
          "name": "stdout"
        },
        {
          "output_type": "stream",
          "text": [
            "INFO:tensorflow:*** Available Device: _DeviceAttributes(/job:worker/replica:0/task:0/device:TPU:6, TPU, 0, 0)\n"
          ],
          "name": "stderr"
        },
        {
          "output_type": "stream",
          "text": [
            "INFO:tensorflow:*** Available Device: _DeviceAttributes(/job:worker/replica:0/task:0/device:TPU:7, TPU, 0, 0)\n"
          ],
          "name": "stdout"
        },
        {
          "output_type": "stream",
          "text": [
            "INFO:tensorflow:*** Available Device: _DeviceAttributes(/job:worker/replica:0/task:0/device:TPU:7, TPU, 0, 0)\n"
          ],
          "name": "stderr"
        },
        {
          "output_type": "stream",
          "text": [
            "INFO:tensorflow:*** Available Device: _DeviceAttributes(/job:worker/replica:0/task:0/device:TPU_SYSTEM:0, TPU_SYSTEM, 0, 0)\n"
          ],
          "name": "stdout"
        },
        {
          "output_type": "stream",
          "text": [
            "INFO:tensorflow:*** Available Device: _DeviceAttributes(/job:worker/replica:0/task:0/device:TPU_SYSTEM:0, TPU_SYSTEM, 0, 0)\n"
          ],
          "name": "stderr"
        },
        {
          "output_type": "stream",
          "text": [
            "INFO:tensorflow:*** Available Device: _DeviceAttributes(/job:worker/replica:0/task:0/device:XLA_CPU:0, XLA_CPU, 0, 0)\n"
          ],
          "name": "stdout"
        },
        {
          "output_type": "stream",
          "text": [
            "INFO:tensorflow:*** Available Device: _DeviceAttributes(/job:worker/replica:0/task:0/device:XLA_CPU:0, XLA_CPU, 0, 0)\n"
          ],
          "name": "stderr"
        },
        {
          "output_type": "stream",
          "text": [
            "Number of accelerators:  8\n"
          ],
          "name": "stdout"
        }
      ]
    },
    {
      "cell_type": "code",
      "metadata": {
        "id": "727g5_PameAY"
      },
      "source": [
        "AUTOTUNE = tf.data.experimental.AUTOTUNE\n",
        "GCS_PATH = 'gs://kds-ac6f3a808fe8c761c0ecf2c65a91a1738280d65067984545e25cd4fb'\n",
        "IMAGE_SIZE = [512,512]"
      ],
      "execution_count": 10,
      "outputs": []
    },
    {
      "cell_type": "code",
      "metadata": {
        "colab": {
          "base_uri": "https://localhost:8080/",
          "height": 195
        },
        "id": "knLpgOBBxyC_",
        "outputId": "5530f9e7-40af-4335-b533-40fe227e000f"
      },
      "source": [
        "train_records = pd.read_csv('/content/data/train.csv')\n",
        "#test_records = pd.read_csv('../input/cassava-leaf-disease-classification/test.csv')\n",
        "train_records.head()"
      ],
      "execution_count": 11,
      "outputs": [
        {
          "output_type": "execute_result",
          "data": {
            "text/html": [
              "<div>\n",
              "<style scoped>\n",
              "    .dataframe tbody tr th:only-of-type {\n",
              "        vertical-align: middle;\n",
              "    }\n",
              "\n",
              "    .dataframe tbody tr th {\n",
              "        vertical-align: top;\n",
              "    }\n",
              "\n",
              "    .dataframe thead th {\n",
              "        text-align: right;\n",
              "    }\n",
              "</style>\n",
              "<table border=\"1\" class=\"dataframe\">\n",
              "  <thead>\n",
              "    <tr style=\"text-align: right;\">\n",
              "      <th></th>\n",
              "      <th>image_id</th>\n",
              "      <th>label</th>\n",
              "    </tr>\n",
              "  </thead>\n",
              "  <tbody>\n",
              "    <tr>\n",
              "      <th>0</th>\n",
              "      <td>1000015157.jpg</td>\n",
              "      <td>0</td>\n",
              "    </tr>\n",
              "    <tr>\n",
              "      <th>1</th>\n",
              "      <td>1000201771.jpg</td>\n",
              "      <td>3</td>\n",
              "    </tr>\n",
              "    <tr>\n",
              "      <th>2</th>\n",
              "      <td>100042118.jpg</td>\n",
              "      <td>1</td>\n",
              "    </tr>\n",
              "    <tr>\n",
              "      <th>3</th>\n",
              "      <td>1000723321.jpg</td>\n",
              "      <td>1</td>\n",
              "    </tr>\n",
              "    <tr>\n",
              "      <th>4</th>\n",
              "      <td>1000812911.jpg</td>\n",
              "      <td>3</td>\n",
              "    </tr>\n",
              "  </tbody>\n",
              "</table>\n",
              "</div>"
            ],
            "text/plain": [
              "         image_id  label\n",
              "0  1000015157.jpg      0\n",
              "1  1000201771.jpg      3\n",
              "2   100042118.jpg      1\n",
              "3  1000723321.jpg      1\n",
              "4  1000812911.jpg      3"
            ]
          },
          "metadata": {
            "tags": []
          },
          "execution_count": 11
        }
      ]
    },
    {
      "cell_type": "code",
      "metadata": {
        "id": "6KVDv85gKaet"
      },
      "source": [
        "data_value_c = pd.DataFrame(train_records['label'].value_counts())"
      ],
      "execution_count": 12,
      "outputs": []
    },
    {
      "cell_type": "code",
      "metadata": {
        "colab": {
          "base_uri": "https://localhost:8080/",
          "height": 335
        },
        "id": "9CwtqWbZldwq",
        "outputId": "ac4dfd9f-8f42-4ced-9e97-dfdddc50e29e"
      },
      "source": [
        "sns.barplot(data_value_c.index,data_value_c.label)"
      ],
      "execution_count": 13,
      "outputs": [
        {
          "output_type": "stream",
          "text": [
            "/usr/local/lib/python3.6/dist-packages/seaborn/_decorators.py:43: FutureWarning: Pass the following variables as keyword args: x, y. From version 0.12, the only valid positional argument will be `data`, and passing other arguments without an explicit keyword will result in an error or misinterpretation.\n",
            "  FutureWarning\n"
          ],
          "name": "stderr"
        },
        {
          "output_type": "execute_result",
          "data": {
            "text/plain": [
              "<matplotlib.axes._subplots.AxesSubplot at 0x7fdecaa9f240>"
            ]
          },
          "metadata": {
            "tags": []
          },
          "execution_count": 13
        },
        {
          "output_type": "display_data",
          "data": {
            "image/png": "[encoded data removed]",
            "text/plain": [
              "<Figure size 432x288 with 1 Axes>"
            ]
          },
          "metadata": {
            "tags": [],
            "needs_background": "light"
          }
        }
      ]
    },
    {
      "cell_type": "code",
      "metadata": {
        "id": "iPIhVmwszmrz"
      },
      "source": [
        "class_weights = train_records.groupby(['label']).count()\n",
        "class_weights['image_id'] = class_weights.image_id/train_records.shape[0]"
      ],
      "execution_count": 14,
      "outputs": []
    },
    {
      "cell_type": "code",
      "metadata": {
        "id": "zE4Uc2s80Fil"
      },
      "source": [
        "cl_w = class_weights.image_id.to_dict()"
      ],
      "execution_count": 15,
      "outputs": []
    },
    {
      "cell_type": "code",
      "metadata": {
        "id": "LPVGrrxhxyDA"
      },
      "source": [
        "TRAIN_DIRECTORY = '/content/data/'\n",
        "#TEST_DIRECTORY = '../input/cassava-leaf-disease-classification/test_images/'"
      ],
      "execution_count": 16,
      "outputs": []
    },
    {
      "cell_type": "code",
      "metadata": {
        "id": "Vjn98WujxyDA"
      },
      "source": [
        "def submit_gen(model,classes,dataset_path,col='image_id'):\n",
        "  test_data = os.listdir(dataset_path)\n",
        "  pred_array=[]\n",
        "  for i in test_data:\n",
        "    img = tf.keras.preprocessing.image.load_img(\n",
        "        dataset_path+i,target_size=(512,512))\n",
        "    img_array = tf.keras.preprocessing.image.img_to_array(img)\n",
        "    img_array = tf.expand_dims(img_array, 0)\n",
        "    prediction = np.squeeze(model.predict(img_array))\n",
        "    name_c = classes[np.argmax(prediction)]\n",
        "    pred_array.append(name_c)\n",
        "  return pred_array,test_data"
      ],
      "execution_count": 17,
      "outputs": []
    },
    {
      "cell_type": "code",
      "metadata": {
        "colab": {
          "base_uri": "https://localhost:8080/"
        },
        "id": "TstP7vTC3MXS",
        "outputId": "c16dff86-5fc0-4bbb-da24-f8a061540e99"
      },
      "source": [
        "gs_filenames = tf.io.gfile.glob(GCS_PATH + \"/train_tfrecords/*.tfrec\")\n",
        "gs_filenames"
      ],
      "execution_count": 18,
      "outputs": [
        {
          "output_type": "execute_result",
          "data": {
            "text/plain": [
              "['gs://kds-ac6f3a808fe8c761c0ecf2c65a91a1738280d65067984545e25cd4fb/train_tfrecords/ld_train00-1338.tfrec',\n",
              " 'gs://kds-ac6f3a808fe8c761c0ecf2c65a91a1738280d65067984545e25cd4fb/train_tfrecords/ld_train01-1338.tfrec',\n",
              " 'gs://kds-ac6f3a808fe8c761c0ecf2c65a91a1738280d65067984545e25cd4fb/train_tfrecords/ld_train02-1338.tfrec',\n",
              " 'gs://kds-ac6f3a808fe8c761c0ecf2c65a91a1738280d65067984545e25cd4fb/train_tfrecords/ld_train03-1338.tfrec',\n",
              " 'gs://kds-ac6f3a808fe8c761c0ecf2c65a91a1738280d65067984545e25cd4fb/train_tfrecords/ld_train04-1338.tfrec',\n",
              " 'gs://kds-ac6f3a808fe8c761c0ecf2c65a91a1738280d65067984545e25cd4fb/train_tfrecords/ld_train05-1338.tfrec',\n",
              " 'gs://kds-ac6f3a808fe8c761c0ecf2c65a91a1738280d65067984545e25cd4fb/train_tfrecords/ld_train06-1338.tfrec',\n",
              " 'gs://kds-ac6f3a808fe8c761c0ecf2c65a91a1738280d65067984545e25cd4fb/train_tfrecords/ld_train07-1338.tfrec',\n",
              " 'gs://kds-ac6f3a808fe8c761c0ecf2c65a91a1738280d65067984545e25cd4fb/train_tfrecords/ld_train08-1338.tfrec',\n",
              " 'gs://kds-ac6f3a808fe8c761c0ecf2c65a91a1738280d65067984545e25cd4fb/train_tfrecords/ld_train09-1338.tfrec',\n",
              " 'gs://kds-ac6f3a808fe8c761c0ecf2c65a91a1738280d65067984545e25cd4fb/train_tfrecords/ld_train10-1338.tfrec',\n",
              " 'gs://kds-ac6f3a808fe8c761c0ecf2c65a91a1738280d65067984545e25cd4fb/train_tfrecords/ld_train11-1338.tfrec',\n",
              " 'gs://kds-ac6f3a808fe8c761c0ecf2c65a91a1738280d65067984545e25cd4fb/train_tfrecords/ld_train12-1338.tfrec',\n",
              " 'gs://kds-ac6f3a808fe8c761c0ecf2c65a91a1738280d65067984545e25cd4fb/train_tfrecords/ld_train13-1338.tfrec',\n",
              " 'gs://kds-ac6f3a808fe8c761c0ecf2c65a91a1738280d65067984545e25cd4fb/train_tfrecords/ld_train14-1338.tfrec',\n",
              " 'gs://kds-ac6f3a808fe8c761c0ecf2c65a91a1738280d65067984545e25cd4fb/train_tfrecords/ld_train15-1327.tfrec']"
            ]
          },
          "metadata": {
            "tags": []
          },
          "execution_count": 18
        }
      ]
    },
    {
      "cell_type": "code",
      "metadata": {
        "id": "JfMwErjgEJmU"
      },
      "source": [
        "split_ind = int(0.9 * len(gs_filenames))\n",
        "TRAINING_FILENAMES, VALID_FILENAMES = gs_filenames[:split_ind], gs_filenames[split_ind:]\n",
        "dataset = tf.data.TFRecordDataset(filenames=TRAINING_FILENAMES)\n",
        "val_dataset = tf.data.TFRecordDataset(filenames=VALID_FILENAMES)"
      ],
      "execution_count": 66,
      "outputs": []
    },
    {
      "cell_type": "code",
      "metadata": {
        "id": "xFR5Gg_ALmpE"
      },
      "source": [
        "def augment(image):\n",
        "  #image = tf.keras.preprocessing.image.(image,channels=3)\n",
        "  image = tf.image.random_flip_left_right(image,seed=2)\n",
        "  image = tf.keras.preprocessing.image.img_to_array(image)\n",
        "  #image = tf.reshape(image,(3,512,512))\n",
        "  image = tf.keras.preprocessing.image.random_rotation(image,35,row_axis=1 ,col_axis=0, channel_axis=2)\n",
        "  image = tf.keras.preprocessing.image.random_shear(image,5,row_axis=1 ,col_axis=0, channel_axis=2)\n",
        "  image = tf.keras.preprocessing.image.random_shift(image,0.1,0.1,row_axis=1 ,col_axis=0, channel_axis=2)\n",
        "  #image = tf.reshape(image,(*IMAGE_SIZE,3))\n",
        "  image = tf.keras.preprocessing.image.array_to_img(image)\n",
        "  return image"
      ],
      "execution_count": 67,
      "outputs": []
    },
    {
      "cell_type": "code",
      "metadata": {
        "id": "677I809zUioo"
      },
      "source": [
        "image_feature_description = {\n",
        "    'image': tf.io.FixedLenFeature([], tf.string),\n",
        "    'image_name': tf.io.FixedLenFeature([], tf.string),\n",
        "    'target': tf.io.FixedLenFeature([], tf.int64),\n",
        "    \n",
        "}\n",
        "\n",
        "def _parse_image_function(example_proto):\n",
        "  # Parse the input tf.train.Example proto using the dictionary above.\n",
        "  example = tf.io.parse_single_example(example_proto, image_feature_description)\n",
        "  image = tf.image.decode_jpeg(example['image'],channels=3)\n",
        "  image = tf.cast(image, tf.float32)\n",
        "  image = tf.reshape(image,[*IMAGE_SIZE,3])\n",
        "  label = tf.cast(example[\"target\"], tf.int32)\n",
        "  return image,label"
      ],
      "execution_count": 68,
      "outputs": []
    },
    {
      "cell_type": "code",
      "metadata": {
        "id": "_QdqqDxOUwAi"
      },
      "source": [
        "parsed_image_dataset = dataset.map(partial( _parse_image_function),num_parallel_calls=AUTOTUNE)"
      ],
      "execution_count": 69,
      "outputs": []
    },
    {
      "cell_type": "code",
      "metadata": {
        "id": "ZmVBm944mD8w"
      },
      "source": [
        "val_image_dataset = val_dataset.map(partial( _parse_image_function),num_parallel_calls=AUTOTUNE)"
      ],
      "execution_count": 70,
      "outputs": []
    },
    {
      "cell_type": "code",
      "metadata": {
        "colab": {
          "base_uri": "https://localhost:8080/"
        },
        "id": "X5aNog8bM0OW",
        "outputId": "47dbb974-dcc8-4e22-c16b-a6ffba40267e"
      },
      "source": [
        "for i,x in parsed_image_dataset.take(1):\n",
        "  print(i.shape)"
      ],
      "execution_count": 71,
      "outputs": [
        {
          "output_type": "stream",
          "text": [
            "(512, 512, 3)\n"
          ],
          "name": "stdout"
        }
      ]
    },
    {
      "cell_type": "code",
      "metadata": {
        "id": "N9UsIQiYASdC"
      },
      "source": [
        "data_augmentation = tf.keras.Sequential([\n",
        "    tf.keras.layers.experimental.preprocessing.RandomFlip(\"horizontal_and_vertical\"),\n",
        "    tf.keras.layers.experimental.preprocessing.RandomRotation(35),\n",
        "    #tf.keras.layers.experimental.preprocessing.RandomZoom(height_factor=0.2,),\n",
        "    tf.keras.layers.experimental.preprocessing.Rescaling(scale=1./255)])"
      ],
      "execution_count": 72,
      "outputs": []
    },
    {
      "cell_type": "code",
      "metadata": {
        "colab": {
          "base_uri": "https://localhost:8080/"
        },
        "id": "w_A7ezFTATIR",
        "outputId": "5a6c7748-4e28-4890-d0f9-9b802eb0bceb"
      },
      "source": [
        "train_aug_ds = parsed_image_dataset.filter(lambda x,y: tf.math.not_equal(y,3))\n",
        "val_aug_ds = val_image_dataset.filter(lambda x,y: tf.math.not_equal(y,3))\n",
        "train_aug_ds = train_aug_ds.batch(32)\n",
        "val_aug_ds = val_aug_ds.batch(32)\n",
        "train_aug_ds = train_aug_ds.map(lambda x,y:(data_augmentation(x),y))\n",
        "val_aug_ds = val_aug_ds.map(lambda x,y:(data_augmentation(x),y))\n",
        "for i,x in train_aug_ds.take(1):\n",
        "  print(i.shape)\n"
      ],
      "execution_count": 73,
      "outputs": [
        {
          "output_type": "stream",
          "text": [
            "(32, 512, 512, 3)\n"
          ],
          "name": "stdout"
        }
      ]
    },
    {
      "cell_type": "code",
      "metadata": {
        "id": "sZGyaACkbOHv"
      },
      "source": [
        "aug_train_ds =train_aug_ds.unbatch()\n",
        "aug_val_ds = val_aug_ds.unbatch()\n",
        "parsed_image_dataset = parsed_image_dataset.concatenate(aug_train_ds)\n",
        "val_image_dataset = val_image_dataset.concatenate(aug_val_ds)"
      ],
      "execution_count": 74,
      "outputs": []
    },
    {
      "cell_type": "code",
      "metadata": {
        "id": "r69P3MUDk-Ea"
      },
      "source": [
        "def create_dataset(dataset):    \n",
        "    # Set the number of datapoints you want to load and shuffle \n",
        "    dataset = dataset.shuffle(4096)\n",
        "    dataset = dataset.prefetch(buffer_size=AUTOTUNE)\n",
        "    # Set the batchsize\n",
        "    dataset = dataset.batch(64)\n",
        "\n",
        "    return dataset"
      ],
      "execution_count": 75,
      "outputs": []
    },
    {
      "cell_type": "code",
      "metadata": {
        "id": "ADqnIjkdeFkz"
      },
      "source": [
        "train_dataset = create_dataset(parsed_image_dataset)\n",
        "validation_dataset = create_dataset(val_image_dataset)"
      ],
      "execution_count": 76,
      "outputs": []
    },
    {
      "cell_type": "code",
      "metadata": {
        "id": "bkbtpGbnwOPO"
      },
      "source": [
        "#train_dataset = train_dataset.map(lambda x,y:(data_augmentation(x),y))\n",
        "#validation_dataset = validation_dataset.map(lambda x,y:(data_augmentation(x),y))"
      ],
      "execution_count": 30,
      "outputs": []
    },
    {
      "cell_type": "markdown",
      "metadata": {
        "id": "mP00kRXTxyDA"
      },
      "source": [
        "# Preprocessing - Tensorflow"
      ]
    },
    {
      "cell_type": "code",
      "metadata": {
        "id": "IebVtM6PxyDA"
      },
      "source": [
        "datagen_train = tf.keras.preprocessing.image.ImageDataGenerator(rotation_range=20,\n",
        "      horizontal_flip=True,\n",
        "      #width_shift_range=0.2, height_shift_range=0.2,\n",
        "      shear_range=0.2, \n",
        "      zoom_range=0.3,\n",
        "      rescale=1./255, validation_split=.1,\n",
        "      )\n",
        "train_generator = datagen_train.flow_from_directory(\n",
        "    train_dataset., shuffle=True,subset='training')"
      ],
      "execution_count": null,
      "outputs": []
    },
    {
      "cell_type": "code",
      "metadata": {
        "id": "w5xUGY9qxyDB"
      },
      "source": [
        "datagen_val = tf.keras.preprocessing.image.ImageDataGenerator(\n",
        "    #rotation_range=40,\n",
        "      horizontal_flip=True,\n",
        "      #width_shift_range=0.2, height_shift_range=0.2,\n",
        "      #shear_range=0.2, zoom_range=0.2,\n",
        "      rescale=1./255, validation_split=.1,\n",
        "      )\n",
        "val_generator = datagen_val.NumpyArrayIterator(\n",
        "    TRAIN_IMAGE_DIRECTORY,target_size=(256,256), shuffle=True,subset='validation',class_mode='sparse')"
      ],
      "execution_count": null,
      "outputs": []
    },
    {
      "cell_type": "markdown",
      "metadata": {
        "id": "F0kvwDD1xyDB"
      },
      "source": [
        "# Model - Tensorflow"
      ]
    },
    {
      "cell_type": "code",
      "metadata": {
        "id": "RdIzzEHiQla5",
        "colab": {
          "base_uri": "https://localhost:8080/",
          "height": 128
        },
        "outputId": "f60173f4-350f-4f01-d34d-24349027a57a"
      },
      "source": [
        "data_augmentation = tf.keras.Sequential([\n",
        "  tf.keras.layers.experimental.preprocessing.RandomFlip(\"horizontal\"),\n",
        "  tf.keras.layers.experimental.preprocessing.RandomRotation(35),\n",
        "  tf.keras.layers.experimental.preprocessing.RandomZoom(\n",
        "    height_factor=0.2,),\n",
        "    tf.keras.layers.experimental.preprocessing.Rescaling(scale=1./255\n",
        "    )\n",
        "  \"\"\n",
        "])"
      ],
      "execution_count": null,
      "outputs": [
        {
          "output_type": "error",
          "ename": "SyntaxError",
          "evalue": "ignored",
          "traceback": [
            "\u001b[0;36m  File \u001b[0;32m\"<ipython-input-61-ec55ba50075a>\"\u001b[0;36m, line \u001b[0;32m8\u001b[0m\n\u001b[0;31m    \"\"\u001b[0m\n\u001b[0m     ^\u001b[0m\n\u001b[0;31mSyntaxError\u001b[0m\u001b[0;31m:\u001b[0m invalid syntax\n"
          ]
        }
      ]
    },
    {
      "cell_type": "code",
      "metadata": {
        "id": "vdFr4W0bwM7F"
      },
      "source": [
        ""
      ],
      "execution_count": null,
      "outputs": []
    },
    {
      "cell_type": "markdown",
      "metadata": {
        "id": "NuIBqEi3Xqnz"
      },
      "source": [
        "### Pretrained Model"
      ]
    },
    {
      "cell_type": "code",
      "metadata": {
        "id": "xHQRQbU_xyDB"
      },
      "source": [
        "with strategy.scope():\n",
        "    base = tf.keras.applications.EfficientNetB1(include_top=False,input_shape=(*IMAGE_SIZE,3),\n",
        "                                                weights='imagenet'\n",
        "                                            )\n",
        "    base.trainable = False\n",
        "    inputs = tf.keras.layers.Input([*IMAGE_SIZE, 3])\n",
        "    pre_layer = tf.keras.applications.efficientnet.preprocess_input(inputs)#.get_layer(\n",
        "    base_model = base(pre_layer)\n",
        "    base_model = tf.keras.layers.GlobalAveragePooling2D()(base_model)\n",
        "    base_model = tf.keras.layers.Flatten()(base_model)\n",
        "    base_model = tf.keras.layers.Dense(1024,activation='relu',kernel_regularizer=tf.keras.regularizers.l2())(base_model)\n",
        "    base_model = tf.keras.layers.Dense(512,activation='relu',kernel_regularizer=tf.keras.regularizers.l2())(base_model)\n",
        "    base_model = tf.keras.layers.Dense(256,activation='relu',kernel_regularizer=tf.keras.regularizers.l2())(base_model)\n",
        "    base_model = tf.keras.layers.Dense(128,activation='relu')(base_model)\n",
        "    base_model = tf.keras.layers.Dense(64,activation='relu',)(base_model)\n",
        "    base_model = tf.keras.layers.Dense(32,activation='relu',)(base_model)\n",
        "    base_model = tf.keras.layers.Dense(8,activation='relu',)(base_model)\n",
        "    base_model = tf.keras.layers.Dropout(0.2)(base_model)\n",
        "    base_model = tf.keras.layers.Dense(5,activation='softmax')(base_model)\n",
        "    \n",
        "    model_efficient_net = tf.keras.Model(inputs=inputs,outputs=base_model)\n",
        "\n"
      ],
      "execution_count": 38,
      "outputs": []
    },
    {
      "cell_type": "code",
      "metadata": {
        "id": "UKsAjpT4CQlb"
      },
      "source": [
        "base.summary()"
      ],
      "execution_count": null,
      "outputs": []
    },
    {
      "cell_type": "code",
      "metadata": {
        "colab": {
          "base_uri": "https://localhost:8080/"
        },
        "id": "SVDIFZy1xyDF",
        "outputId": "8c1ad683-5abe-423a-f03c-f3c72350cfae"
      },
      "source": [
        "model_efficient_net.summary()"
      ],
      "execution_count": 62,
      "outputs": [
        {
          "output_type": "stream",
          "text": [
            "Model: \"functional_3\"\n",
            "_________________________________________________________________\n",
            "Layer (type)                 Output Shape              Param #   \n",
            "=================================================================\n",
            "input_8 (InputLayer)         [(None, 512, 512, 3)]     0         \n",
            "_________________________________________________________________\n",
            "efficientnetb1 (Functional)  (None, 16, 16, 1280)      6575239   \n",
            "_________________________________________________________________\n",
            "global_average_pooling2d_1 ( (None, 1280)              0         \n",
            "_________________________________________________________________\n",
            "flatten_1 (Flatten)          (None, 1280)              0         \n",
            "_________________________________________________________________\n",
            "dense_8 (Dense)              (None, 1024)              1311744   \n",
            "_________________________________________________________________\n",
            "dense_9 (Dense)              (None, 512)               524800    \n",
            "_________________________________________________________________\n",
            "dense_10 (Dense)             (None, 256)               131328    \n",
            "_________________________________________________________________\n",
            "dense_11 (Dense)             (None, 128)               32896     \n",
            "_________________________________________________________________\n",
            "dense_12 (Dense)             (None, 64)                8256      \n",
            "_________________________________________________________________\n",
            "dense_13 (Dense)             (None, 32)                2080      \n",
            "_________________________________________________________________\n",
            "dense_14 (Dense)             (None, 8)                 264       \n",
            "_________________________________________________________________\n",
            "dropout_1 (Dropout)          (None, 8)                 0         \n",
            "_________________________________________________________________\n",
            "dense_15 (Dense)             (None, 5)                 45        \n",
            "=================================================================\n",
            "Total params: 8,586,652\n",
            "Trainable params: 8,524,597\n",
            "Non-trainable params: 62,055\n",
            "_________________________________________________________________\n"
          ],
          "name": "stdout"
        }
      ]
    },
    {
      "cell_type": "code",
      "metadata": {
        "id": "mbpJMLYbEwMn"
      },
      "source": [
        "model_efficient_net.compile(optimizer=tf.keras.optimizers.Adam(learning_rate=1e-4),\n",
        "              loss=tf.keras.losses.SparseCategoricalCrossentropy(),\n",
        "              metrics=['accuracy'])"
      ],
      "execution_count": 63,
      "outputs": []
    },
    {
      "cell_type": "code",
      "metadata": {
        "id": "JJrXk1V-VX05"
      },
      "source": [
        "initial_learning_rate_e = 0.001\n",
        "lr_schedule = tf.keras.optimizers.schedules.ExponentialDecay(\n",
        "    initial_learning_rate_e, decay_steps=100, decay_rate=0.96, staircase=True\n",
        ")\n",
        "\n",
        "checkpoint_cb_e = tf.keras.callbacks.ModelCheckpoint(\n",
        "    \"efficient_net_best_model.h5\", save_best_only=True\n",
        ")\n",
        "\n",
        "early_stopping_cb_e = tf.keras.callbacks.EarlyStopping(\n",
        "    patience=10, restore_best_weights=True\n",
        ")"
      ],
      "execution_count": 64,
      "outputs": []
    },
    {
      "cell_type": "code",
      "metadata": {
        "id": "jxlrUw_FXvj6"
      },
      "source": [
        "base.trainable = True"
      ],
      "execution_count": 60,
      "outputs": []
    },
    {
      "cell_type": "code",
      "metadata": {
        "id": "MzyU31ngxyDF",
        "colab": {
          "base_uri": "https://localhost:8080/"
        },
        "outputId": "dee2b658-e895-458d-a30e-c44522dff0f8"
      },
      "source": [
        "epochs=10\n",
        "history = model_efficient_net.fit(\n",
        "  train_dataset,\n",
        "  epochs=epochs,\n",
        "  validation_data = validation_dataset,\n",
        "  callbacks=[checkpoint_cb_e, early_stopping_cb_e]\n",
        "  #class_weight = cl_w\n",
        "  #steps_per_epoch = 600\n",
        "  #validation_data = val_generator,\n",
        "\n",
        " \n",
        ")"
      ],
      "execution_count": 77,
      "outputs": [
        {
          "output_type": "stream",
          "text": [
            "Epoch 1/10\n",
            "    406/Unknown - 344s 846ms/step - loss: 0.6925 - accuracy: 0.7291WARNING:tensorflow:Callbacks method `on_test_batch_end` is slow compared to the batch time (batch time: 0.0089s vs `on_test_batch_end` time: 0.1163s). Check your callbacks.\n"
          ],
          "name": "stdout"
        },
        {
          "output_type": "stream",
          "text": [
            "WARNING:tensorflow:Callbacks method `on_test_batch_end` is slow compared to the batch time (batch time: 0.0089s vs `on_test_batch_end` time: 0.1163s). Check your callbacks.\n"
          ],
          "name": "stderr"
        },
        {
          "output_type": "stream",
          "text": [
            "\b\b\b\b\b\b\b\b\b\b\b\b\b\b\b\b\b\b\b\b\b\b\b\b\b\b\b\b\b\b\b\b\b\b\b\b\b\b\b\b\b\b\b\b\b\b\b\b\b\b\b\b\b\b\b\b\b\b\b\b\b\b\b\b\b\b\b\r406/406 [==============================] - 352s 867ms/step - loss: 0.6925 - accuracy: 0.7291 - val_loss: 1.1960 - val_accuracy: 0.6049\n",
            "Epoch 2/10\n",
            "406/406 [==============================] - 239s 588ms/step - loss: 0.6674 - accuracy: 0.7374 - val_loss: 0.7949 - val_accuracy: 0.7283\n",
            "Epoch 3/10\n",
            "406/406 [==============================] - 240s 591ms/step - loss: 0.6366 - accuracy: 0.7485 - val_loss: 0.7245 - val_accuracy: 0.7572\n",
            "Epoch 4/10\n",
            "406/406 [==============================] - 239s 588ms/step - loss: 0.6104 - accuracy: 0.7578 - val_loss: 0.8854 - val_accuracy: 0.7122\n",
            "Epoch 5/10\n",
            "406/406 [==============================] - 239s 588ms/step - loss: 0.5951 - accuracy: 0.7657 - val_loss: 0.7734 - val_accuracy: 0.7332\n",
            "Epoch 6/10\n",
            "406/406 [==============================] - 242s 595ms/step - loss: 0.5762 - accuracy: 0.7772 - val_loss: 0.6729 - val_accuracy: 0.7801\n",
            "Epoch 7/10\n",
            "406/406 [==============================] - 241s 594ms/step - loss: 0.5526 - accuracy: 0.7832 - val_loss: 0.6298 - val_accuracy: 0.7974\n",
            "Epoch 8/10\n",
            "406/406 [==============================] - 240s 590ms/step - loss: 0.5377 - accuracy: 0.7904 - val_loss: 0.6890 - val_accuracy: 0.7887\n",
            "Epoch 9/10\n",
            "406/406 [==============================] - 240s 590ms/step - loss: 0.5271 - accuracy: 0.7941 - val_loss: 0.6620 - val_accuracy: 0.7895\n",
            "Epoch 10/10\n",
            "406/406 [==============================] - 241s 594ms/step - loss: 0.5164 - accuracy: 0.7952 - val_loss: 0.5603 - val_accuracy: 0.8567\n"
          ],
          "name": "stdout"
        }
      ]
    },
    {
      "cell_type": "code",
      "metadata": {
        "id": "Ag2HguGVOA1V"
      },
      "source": [
        "model_efficient_net.save('efficientnet_B1_model.h5')"
      ],
      "execution_count": 46,
      "outputs": []
    },
    {
      "cell_type": "markdown",
      "metadata": {
        "id": "dGIOT5hjXttb"
      },
      "source": [
        "### Custom Model"
      ]
    },
    {
      "cell_type": "code",
      "metadata": {
        "id": "EWYxHOVU7X2f"
      },
      "source": [
        "with strategy.scope():\n",
        "  input_img = tf.keras.layers.Input(shape=(512,512,3), name='ImageInput')\n",
        "  x = tf.keras.layers.Conv2D(64, (3,3), activation='relu', padding='same', name='Conv1_1')(input_img)\n",
        "  x = tf.keras.layers.Conv2D(64, (3,3), activation='relu', padding='same', name='Conv1_2')(x)\n",
        "  x = tf.keras.layers.MaxPooling2D((2,2), name='pool1')(x)\n",
        "  \n",
        "  x = tf.keras.layers.SeparableConv2D(128, (3,3), activation='relu', padding='same', name='Conv2_1')(x)\n",
        "  x = tf.keras.layers.SeparableConv2D(128, (3,3), activation='relu', padding='same', name='Conv2_2')(x)\n",
        "  x = tf.keras.layers.MaxPooling2D((2,2), name='pool2')(x)\n",
        "  \n",
        "  x = tf.keras.layers.SeparableConv2D(256, (3,3), activation='relu', padding='same', name='Conv3_1')(x)\n",
        "  x = tf.keras.layers.BatchNormalization(name='bn1')(x)\n",
        "  x = tf.keras.layers.SeparableConv2D(256, (3,3), activation='relu', padding='same', name='Conv3_2')(x)\n",
        "  x = tf.keras.layers.BatchNormalization(name='bn2')(x)\n",
        "  x = tf.keras.layers.SeparableConv2D(256, (3,3), activation='relu', padding='same', name='Conv3_3')(x)\n",
        "  x = tf.keras.layers.MaxPooling2D((2,2), name='pool3')(x)\n",
        "  \n",
        "  x = tf.keras.layers.SeparableConv2D(512, (3,3), activation='relu', padding='same', name='Conv4_1')(x)\n",
        "  x = tf.keras.layers.BatchNormalization(name='bn3')(x)\n",
        "  x = tf.keras.layers.SeparableConv2D(512, (3,3), activation='relu', padding='same', name='Conv4_2')(x)\n",
        "  x = tf.keras.layers.BatchNormalization(name='bn4')(x)\n",
        "  x = tf.keras.layers.SeparableConv2D(512, (3,3), activation='relu', padding='same', name='Conv4_3')(x)\n",
        "  x = tf.keras.layers.MaxPooling2D((2,2), name='pool4')(x)\n",
        "  \n",
        "  x = tf.keras.layers.Flatten(name='flatten')(x)\n",
        "  x = tf.keras.layers.Dense(1024, activation='relu', name='fc1')(x)\n",
        "  x = tf.keras.layers.Dropout(0.7, name='dropout1')(x)\n",
        "  x = tf.keras.layers.Dense(512, activation='relu', name='fc2')(x)\n",
        "  x = tf.keras.layers.Dropout(0.5, name='dropout2')(x)\n",
        "  x = tf.keras.layers.Dense(5, activation='softmax', name='fc3')(x)\n",
        "  \n",
        "  model_custom = tf.keras.Model(inputs=input_img,outputs=x)"
      ],
      "execution_count": null,
      "outputs": []
    },
    {
      "cell_type": "code",
      "metadata": {
        "id": "hJAF4pY1iW0D"
      },
      "source": [
        "initial_learning_rate = 0.001\n",
        "lr_schedule = tf.keras.optimizers.schedules.ExponentialDecay(\n",
        "    initial_learning_rate, decay_steps=100, decay_rate=0.96, staircase=True\n",
        ")\n",
        "\n",
        "checkpoint_cb = tf.keras.callbacks.ModelCheckpoint(\n",
        "    \"best_model.h5\", save_best_only=True\n",
        ")\n",
        "\n",
        "early_stopping_cb = tf.keras.callbacks.EarlyStopping(\n",
        "    patience=10, restore_best_weights=True\n",
        ")"
      ],
      "execution_count": null,
      "outputs": []
    },
    {
      "cell_type": "code",
      "metadata": {
        "colab": {
          "base_uri": "https://localhost:8080/"
        },
        "id": "ahawYSqJcpoK",
        "outputId": "39417851-27b2-4a04-86e3-697254360a63"
      },
      "source": [
        "model_custom.summary()"
      ],
      "execution_count": null,
      "outputs": [
        {
          "output_type": "stream",
          "text": [
            "Model: \"functional_11\"\n",
            "_________________________________________________________________\n",
            "Layer (type)                 Output Shape              Param #   \n",
            "=================================================================\n",
            "ImageInput (InputLayer)      [(None, 512, 512, 3)]     0         \n",
            "_________________________________________________________________\n",
            "Conv1_1 (Conv2D)             (None, 512, 512, 64)      1792      \n",
            "_________________________________________________________________\n",
            "Conv1_2 (Conv2D)             (None, 512, 512, 64)      36928     \n",
            "_________________________________________________________________\n",
            "pool1 (MaxPooling2D)         (None, 256, 256, 64)      0         \n",
            "_________________________________________________________________\n",
            "Conv2_1 (SeparableConv2D)    (None, 256, 256, 128)     8896      \n",
            "_________________________________________________________________\n",
            "Conv2_2 (SeparableConv2D)    (None, 256, 256, 128)     17664     \n",
            "_________________________________________________________________\n",
            "pool2 (MaxPooling2D)         (None, 128, 128, 128)     0         \n",
            "_________________________________________________________________\n",
            "Conv3_1 (SeparableConv2D)    (None, 128, 128, 256)     34176     \n",
            "_________________________________________________________________\n",
            "bn1 (BatchNormalization)     (None, 128, 128, 256)     1024      \n",
            "_________________________________________________________________\n",
            "Conv3_2 (SeparableConv2D)    (None, 128, 128, 256)     68096     \n",
            "_________________________________________________________________\n",
            "bn2 (BatchNormalization)     (None, 128, 128, 256)     1024      \n",
            "_________________________________________________________________\n",
            "Conv3_3 (SeparableConv2D)    (None, 128, 128, 256)     68096     \n",
            "_________________________________________________________________\n",
            "pool3 (MaxPooling2D)         (None, 64, 64, 256)       0         \n",
            "_________________________________________________________________\n",
            "Conv4_1 (SeparableConv2D)    (None, 64, 64, 512)       133888    \n",
            "_________________________________________________________________\n",
            "bn3 (BatchNormalization)     (None, 64, 64, 512)       2048      \n",
            "_________________________________________________________________\n",
            "Conv4_2 (SeparableConv2D)    (None, 64, 64, 512)       267264    \n",
            "_________________________________________________________________\n",
            "bn4 (BatchNormalization)     (None, 64, 64, 512)       2048      \n",
            "_________________________________________________________________\n",
            "Conv4_3 (SeparableConv2D)    (None, 64, 64, 512)       267264    \n",
            "_________________________________________________________________\n",
            "pool4 (MaxPooling2D)         (None, 32, 32, 512)       0         \n",
            "_________________________________________________________________\n",
            "flatten (Flatten)            (None, 524288)            0         \n",
            "_________________________________________________________________\n",
            "fc1 (Dense)                  (None, 1024)              536871936 \n",
            "_________________________________________________________________\n",
            "dropout1 (Dropout)           (None, 1024)              0         \n",
            "_________________________________________________________________\n",
            "fc2 (Dense)                  (None, 512)               524800    \n",
            "_________________________________________________________________\n",
            "dropout2 (Dropout)           (None, 512)               0         \n",
            "_________________________________________________________________\n",
            "fc3 (Dense)                  (None, 5)                 2565      \n",
            "=================================================================\n",
            "Total params: 538,309,509\n",
            "Trainable params: 538,306,437\n",
            "Non-trainable params: 3,072\n",
            "_________________________________________________________________\n"
          ],
          "name": "stdout"
        }
      ]
    },
    {
      "cell_type": "code",
      "metadata": {
        "id": "YMX_PVhl7owa"
      },
      "source": [
        "model_custom.compile(optimizer=tf.keras.optimizers.Adam(learning_rate=1e-4),\n",
        "              loss=tf.keras.losses.SparseCategoricalCrossentropy(),\n",
        "              metrics=['accuracy'])"
      ],
      "execution_count": null,
      "outputs": []
    },
    {
      "cell_type": "code",
      "metadata": {
        "colab": {
          "base_uri": "https://localhost:8080/",
          "height": 1000
        },
        "id": "Az5qMxjo7rb_",
        "outputId": "b959125e-3e89-480c-b76d-dedc6bd142b6"
      },
      "source": [
        "epochs=10\n",
        "history = model_custom.fit(\n",
        "  train_dataset,\n",
        "  epochs=epochs,\n",
        "  validation_data = validation_dataset,\n",
        "  callbacks=[checkpoint_cb, early_stopping_cb]\n",
        "  #class_weight = cl_w\n",
        "  #steps_per_epoch = 600\n",
        "  #validation_data = val_generator,\n",
        "\n",
        " \n",
        ")"
      ],
      "execution_count": null,
      "outputs": [
        {
          "output_type": "stream",
          "text": [
            "Epoch 1/10\n"
          ],
          "name": "stdout"
        },
        {
          "output_type": "error",
          "ename": "ResourceExhaustedError",
          "evalue": "ignored",
          "traceback": [
            "\u001b[0;31m---------------------------------------------------------------------------\u001b[0m",
            "\u001b[0;31mResourceExhaustedError\u001b[0m                    Traceback (most recent call last)",
            "\u001b[0;32m<ipython-input-69-c2c87f2ebc6c>\u001b[0m in \u001b[0;36m<module>\u001b[0;34m()\u001b[0m\n\u001b[1;32m      4\u001b[0m   \u001b[0mepochs\u001b[0m\u001b[0;34m=\u001b[0m\u001b[0mepochs\u001b[0m\u001b[0;34m,\u001b[0m\u001b[0;34m\u001b[0m\u001b[0;34m\u001b[0m\u001b[0m\n\u001b[1;32m      5\u001b[0m   \u001b[0mvalidation_data\u001b[0m \u001b[0;34m=\u001b[0m \u001b[0mvalidation_dataset\u001b[0m\u001b[0;34m,\u001b[0m\u001b[0;34m\u001b[0m\u001b[0;34m\u001b[0m\u001b[0m\n\u001b[0;32m----> 6\u001b[0;31m   \u001b[0mcallbacks\u001b[0m\u001b[0;34m=\u001b[0m\u001b[0;34m[\u001b[0m\u001b[0mcheckpoint_cb\u001b[0m\u001b[0;34m,\u001b[0m \u001b[0mearly_stopping_cb\u001b[0m\u001b[0;34m]\u001b[0m\u001b[0;34m\u001b[0m\u001b[0;34m\u001b[0m\u001b[0m\n\u001b[0m\u001b[1;32m      7\u001b[0m   \u001b[0;31m#class_weight = cl_w\u001b[0m\u001b[0;34m\u001b[0m\u001b[0;34m\u001b[0m\u001b[0;34m\u001b[0m\u001b[0m\n\u001b[1;32m      8\u001b[0m   \u001b[0;31m#steps_per_epoch = 600\u001b[0m\u001b[0;34m\u001b[0m\u001b[0;34m\u001b[0m\u001b[0;34m\u001b[0m\u001b[0m\n",
            "\u001b[0;32m/usr/local/lib/python3.6/dist-packages/tensorflow/python/keras/engine/training.py\u001b[0m in \u001b[0;36m_method_wrapper\u001b[0;34m(self, *args, **kwargs)\u001b[0m\n\u001b[1;32m    106\u001b[0m   \u001b[0;32mdef\u001b[0m \u001b[0m_method_wrapper\u001b[0m\u001b[0;34m(\u001b[0m\u001b[0mself\u001b[0m\u001b[0;34m,\u001b[0m \u001b[0;34m*\u001b[0m\u001b[0margs\u001b[0m\u001b[0;34m,\u001b[0m \u001b[0;34m**\u001b[0m\u001b[0mkwargs\u001b[0m\u001b[0;34m)\u001b[0m\u001b[0;34m:\u001b[0m\u001b[0;34m\u001b[0m\u001b[0;34m\u001b[0m\u001b[0m\n\u001b[1;32m    107\u001b[0m     \u001b[0;32mif\u001b[0m \u001b[0;32mnot\u001b[0m \u001b[0mself\u001b[0m\u001b[0;34m.\u001b[0m\u001b[0m_in_multi_worker_mode\u001b[0m\u001b[0;34m(\u001b[0m\u001b[0;34m)\u001b[0m\u001b[0;34m:\u001b[0m  \u001b[0;31m# pylint: disable=protected-access\u001b[0m\u001b[0;34m\u001b[0m\u001b[0;34m\u001b[0m\u001b[0m\n\u001b[0;32m--> 108\u001b[0;31m       \u001b[0;32mreturn\u001b[0m \u001b[0mmethod\u001b[0m\u001b[0;34m(\u001b[0m\u001b[0mself\u001b[0m\u001b[0;34m,\u001b[0m \u001b[0;34m*\u001b[0m\u001b[0margs\u001b[0m\u001b[0;34m,\u001b[0m \u001b[0;34m**\u001b[0m\u001b[0mkwargs\u001b[0m\u001b[0;34m)\u001b[0m\u001b[0;34m\u001b[0m\u001b[0;34m\u001b[0m\u001b[0m\n\u001b[0m\u001b[1;32m    109\u001b[0m \u001b[0;34m\u001b[0m\u001b[0m\n\u001b[1;32m    110\u001b[0m     \u001b[0;31m# Running inside `run_distribute_coordinator` already.\u001b[0m\u001b[0;34m\u001b[0m\u001b[0;34m\u001b[0m\u001b[0;34m\u001b[0m\u001b[0m\n",
            "\u001b[0;32m/usr/local/lib/python3.6/dist-packages/tensorflow/python/keras/engine/training.py\u001b[0m in \u001b[0;36mfit\u001b[0;34m(self, x, y, batch_size, epochs, verbose, callbacks, validation_split, validation_data, shuffle, class_weight, sample_weight, initial_epoch, steps_per_epoch, validation_steps, validation_batch_size, validation_freq, max_queue_size, workers, use_multiprocessing)\u001b[0m\n\u001b[1;32m   1098\u001b[0m               \u001b[0mtmp_logs\u001b[0m \u001b[0;34m=\u001b[0m \u001b[0mtrain_function\u001b[0m\u001b[0;34m(\u001b[0m\u001b[0miterator\u001b[0m\u001b[0;34m)\u001b[0m\u001b[0;34m\u001b[0m\u001b[0;34m\u001b[0m\u001b[0m\n\u001b[1;32m   1099\u001b[0m               \u001b[0;32mif\u001b[0m \u001b[0mdata_handler\u001b[0m\u001b[0;34m.\u001b[0m\u001b[0mshould_sync\u001b[0m\u001b[0;34m:\u001b[0m\u001b[0;34m\u001b[0m\u001b[0;34m\u001b[0m\u001b[0m\n\u001b[0;32m-> 1100\u001b[0;31m                 \u001b[0mcontext\u001b[0m\u001b[0;34m.\u001b[0m\u001b[0masync_wait\u001b[0m\u001b[0;34m(\u001b[0m\u001b[0;34m)\u001b[0m\u001b[0;34m\u001b[0m\u001b[0;34m\u001b[0m\u001b[0m\n\u001b[0m\u001b[1;32m   1101\u001b[0m               \u001b[0mlogs\u001b[0m \u001b[0;34m=\u001b[0m \u001b[0mtmp_logs\u001b[0m  \u001b[0;31m# No error, now safe to assign to logs.\u001b[0m\u001b[0;34m\u001b[0m\u001b[0;34m\u001b[0m\u001b[0m\n\u001b[1;32m   1102\u001b[0m               \u001b[0mend_step\u001b[0m \u001b[0;34m=\u001b[0m \u001b[0mstep\u001b[0m \u001b[0;34m+\u001b[0m \u001b[0mdata_handler\u001b[0m\u001b[0;34m.\u001b[0m\u001b[0mstep_increment\u001b[0m\u001b[0;34m\u001b[0m\u001b[0;34m\u001b[0m\u001b[0m\n",
            "\u001b[0;32m/usr/local/lib/python3.6/dist-packages/tensorflow/python/eager/context.py\u001b[0m in \u001b[0;36masync_wait\u001b[0;34m()\u001b[0m\n\u001b[1;32m   2317\u001b[0m   \u001b[0man\u001b[0m \u001b[0merror\u001b[0m \u001b[0mstate\u001b[0m\u001b[0;34m.\u001b[0m\u001b[0;34m\u001b[0m\u001b[0;34m\u001b[0m\u001b[0m\n\u001b[1;32m   2318\u001b[0m   \"\"\"\n\u001b[0;32m-> 2319\u001b[0;31m   \u001b[0mcontext\u001b[0m\u001b[0;34m(\u001b[0m\u001b[0;34m)\u001b[0m\u001b[0;34m.\u001b[0m\u001b[0msync_executors\u001b[0m\u001b[0;34m(\u001b[0m\u001b[0;34m)\u001b[0m\u001b[0;34m\u001b[0m\u001b[0;34m\u001b[0m\u001b[0m\n\u001b[0m\u001b[1;32m   2320\u001b[0m \u001b[0;34m\u001b[0m\u001b[0m\n\u001b[1;32m   2321\u001b[0m \u001b[0;34m\u001b[0m\u001b[0m\n",
            "\u001b[0;32m/usr/local/lib/python3.6/dist-packages/tensorflow/python/eager/context.py\u001b[0m in \u001b[0;36msync_executors\u001b[0;34m(self)\u001b[0m\n\u001b[1;32m    656\u001b[0m     \"\"\"\n\u001b[1;32m    657\u001b[0m     \u001b[0;32mif\u001b[0m \u001b[0mself\u001b[0m\u001b[0;34m.\u001b[0m\u001b[0m_context_handle\u001b[0m\u001b[0;34m:\u001b[0m\u001b[0;34m\u001b[0m\u001b[0;34m\u001b[0m\u001b[0m\n\u001b[0;32m--> 658\u001b[0;31m       \u001b[0mpywrap_tfe\u001b[0m\u001b[0;34m.\u001b[0m\u001b[0mTFE_ContextSyncExecutors\u001b[0m\u001b[0;34m(\u001b[0m\u001b[0mself\u001b[0m\u001b[0;34m.\u001b[0m\u001b[0m_context_handle\u001b[0m\u001b[0;34m)\u001b[0m\u001b[0;34m\u001b[0m\u001b[0;34m\u001b[0m\u001b[0m\n\u001b[0m\u001b[1;32m    659\u001b[0m     \u001b[0;32melse\u001b[0m\u001b[0;34m:\u001b[0m\u001b[0;34m\u001b[0m\u001b[0;34m\u001b[0m\u001b[0m\n\u001b[1;32m    660\u001b[0m       \u001b[0;32mraise\u001b[0m \u001b[0mValueError\u001b[0m\u001b[0;34m(\u001b[0m\u001b[0;34m\"Context is not initialized.\"\u001b[0m\u001b[0;34m)\u001b[0m\u001b[0;34m\u001b[0m\u001b[0;34m\u001b[0m\u001b[0m\n",
            "\u001b[0;31mResourceExhaustedError\u001b[0m: 9 root error(s) found.\n  (0) Resource exhausted: {{function_node __inference_train_function_582131}} Compilation failure: Ran out of memory in memory space hbm. Used 10.07G of 7.48G hbm. Exceeded hbm capacity by 2.58G.\n\nTotal hbm usage >= 10.58G:\n    reserved        530.00M \n    program           4.03G \n    arguments         6.04G (100.0% utilization)\n\nOutput size 6.02G (100.0% utilization); shares 6.02G with arguments.\n\nProgram hbm requirement 4.03G:\n    global            36.0K\n    scoped            1.89M\n    HLO temp          4.02G (53.6% utilization: Unpadded (2.15G) Padded (4.01G), 0.3% fragmentation (13.49M))\n\n  Largest program allocations in hbm:\n\n  1. Size: 1.00G\n     Shape: f32[8,512,512,64]{3,0,2,1:T(8,128)}\n     Unpadded size: 512.00M\n     Extra memory due to padding: 512.00M (2.0x expansion)\n     XLA label: %copy.1346.remat2 = f32[8,512,512,64]{3,0,2,1:T(8,128)} copy(f32[8,512,512,64]{2,3,1,0} %copy.1345)\n     Allocation type: HLO temp\n     ==========================\n\n  2. Size: 1.00G\n     Operator: op_type=\"Conv2D\" op_name=\"functional_11/Conv1_1/Conv2D\"\n     Shape: f32[8,512,512,64]{3,0,2,1:T(8,128)}\n     Unpadded size: 512.00M\n     Extra memory due to padding: 512.00M (2.0x expansion)\n     XLA label: %fusion.131.remat6 = f32[8,512,512,64]{3,0,2,1:T(8,128)} fusion(f32[64]{0:T(256)} %get-tuple-element.4486, bf16[8,512,512,3]{0,3,2,1:T(4,128)(2,1)} %copy.1305.remat3, f32[3,3,3,64]{3,2,1,0:T(4,128)} %get-tuple-element.4487), kind=kOutput, calls=%fused_comp...\n     Allocation type: HLO temp\n     ==========================\n\n  3. Size: 1.00G\n     Shape: f32[8,512,512,64]{3,0,2,1:T(8,128)}\n     Unpadded size: 512.00M\n     Extra memory due to padding: 512.00M (2.0x expansion)\n     XLA label: %copy.1730 = f32[8,512,512,64]{3,0,2,1:T(8,128)} copy(f32[8,512,512,64]{2,3,1,0} %copy.1729)\n     Allocation type: HLO temp\n     ==========================\n\n  4. Size: 512.00M\n     Shape: f32[8,512,512,64]{2,3,1,0}\n     Unpadded size: 512.00M\n     XLA label: %copy.1345 = f32[8,512,512,64]{2,3,1,0} copy(f32[8,512,512,64]{3,0,2,1:T(8,128)} %fusion.129)\n     Allocation type: HLO temp\n     ==========================\n\n  5. Size: 256.00M\n     Shape: bf16[8,512,512,3]{0,3,2,1:T(4,128)(2,1)}\n     Unpadded size: 12.00M\n     Extra memory due to padding: 244.00M (21.3x expansion)\n     XLA label: %copy.1303.remat2 = bf16[8,512,512,3]{0,3,2,1:T(4,128)(2,1)} copy(bf16[8,512,512,3]{2,1,3,0:T(8,128)(2,1)} %copy.1302)\n     Allocation type: HLO temp\n     ==========================\n\n  6. Size: 256.00M\n     Shape: f32[8,256,256,64]{3,0,2,1:T(8,128)}\n     Unpadded size: 128.00M\n     Extra memory due to padding: 128.00M (2.0x expansion)\n     XLA label: %copy.1759 = f32[8,256,256,64]{3,0,2,1:T(8,128)} copy(f32[8,256,256,64]{2,3,1,0} %copy.1758)\n     Allocation type: HLO temp\n     ==========================\n\n  7. Size: 8.00M\n     Operator: op_type=\"MaxPool\" op_name=\"functional_11/pool4/MaxPool\"\n     Shape: bf16[8,32,32,512]{3,0,2,1:T(8,128)(2,1)}\n     Unpadded size: 8.00M\n     XLA label: %reduce-window.3 = bf16[8,32,32,512]{3,0,2,1:T(8,128)(2,1)} re ... [truncated]"
          ]
        }
      ]
    },
    {
      "cell_type": "code",
      "metadata": {
        "id": "1PDgrRpgsNZn"
      },
      "source": [
        "model_custom.optimizer._decayed_lr(tf.float32).numpy()"
      ],
      "execution_count": null,
      "outputs": []
    },
    {
      "cell_type": "code",
      "metadata": {
        "id": "w6sQPv5uwn9O"
      },
      "source": [
        "model_custom.save('effecienetcustom_B4_model.h5')"
      ],
      "execution_count": null,
      "outputs": []
    },
    {
      "cell_type": "markdown",
      "metadata": {
        "id": "G5pafDDFN9dR"
      },
      "source": [
        "# Prediction"
      ]
    },
    {
      "cell_type": "code",
      "metadata": {
        "id": "iH-4SG4fxyDF"
      },
      "source": [
        "prediction,test_data = submit_gen(model_efficient_net,\n",
        "                                  classes=sorted(train_records.label.unique()),\n",
        "                                  dataset_path='/content/test/')"
      ],
      "execution_count": null,
      "outputs": []
    },
    {
      "cell_type": "code",
      "metadata": {
        "colab": {
          "base_uri": "https://localhost:8080/"
        },
        "id": "onez_SdmxyDF",
        "outputId": "184bc47b-7edb-430d-9219-e0ed4d8e92d8"
      },
      "source": [
        "test_data"
      ],
      "execution_count": null,
      "outputs": [
        {
          "output_type": "execute_result",
          "data": {
            "text/plain": [
              "['2216849948.jpg']"
            ]
          },
          "metadata": {
            "tags": []
          },
          "execution_count": 41
        }
      ]
    },
    {
      "cell_type": "code",
      "metadata": {
        "colab": {
          "base_uri": "https://localhost:8080/",
          "height": 77
        },
        "id": "vUWWuRp6xyDF",
        "outputId": "50f04575-0568-420a-bbca-9559500a5beb"
      },
      "source": [
        "submission = pd.DataFrame({\"image_id\":np.squeeze(test_data),\"label\":prediction})\n",
        "submission.head()"
      ],
      "execution_count": null,
      "outputs": [
        {
          "output_type": "execute_result",
          "data": {
            "text/html": [
              "<div>\n",
              "<style scoped>\n",
              "    .dataframe tbody tr th:only-of-type {\n",
              "        vertical-align: middle;\n",
              "    }\n",
              "\n",
              "    .dataframe tbody tr th {\n",
              "        vertical-align: top;\n",
              "    }\n",
              "\n",
              "    .dataframe thead th {\n",
              "        text-align: right;\n",
              "    }\n",
              "</style>\n",
              "<table border=\"1\" class=\"dataframe\">\n",
              "  <thead>\n",
              "    <tr style=\"text-align: right;\">\n",
              "      <th></th>\n",
              "      <th>image_id</th>\n",
              "      <th>label</th>\n",
              "    </tr>\n",
              "  </thead>\n",
              "  <tbody>\n",
              "    <tr>\n",
              "      <th>0</th>\n",
              "      <td>2216849948.jpg</td>\n",
              "      <td>4</td>\n",
              "    </tr>\n",
              "  </tbody>\n",
              "</table>\n",
              "</div>"
            ],
            "text/plain": [
              "         image_id  label\n",
              "0  2216849948.jpg      4"
            ]
          },
          "metadata": {
            "tags": []
          },
          "execution_count": 42
        }
      ]
    },
    {
      "cell_type": "code",
      "metadata": {
        "id": "noB1fgOuxyDF"
      },
      "source": [
        "submission.to_csv('submission.csv',index=False)"
      ],
      "execution_count": null,
      "outputs": []
    },
    {
      "cell_type": "code",
      "metadata": {
        "id": "nz32MGURxyDF"
      },
      "source": [
        "model_res.save('initial_model.h5')"
      ],
      "execution_count": null,
      "outputs": []
    },
    {
      "cell_type": "code",
      "metadata": {
        "id": "Fz7Zu4Y0xyDF"
      },
      "source": [
        "!rm -R ./data_train"
      ],
      "execution_count": null,
      "outputs": []
    }
  ]
}