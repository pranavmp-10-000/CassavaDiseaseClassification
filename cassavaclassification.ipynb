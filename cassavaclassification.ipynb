{
  "nbformat": 4,
  "nbformat_minor": 0,
  "metadata": {
    "accelerator": "TPU",
    "colab": {
      "name": "cassavaclassification.ipynb",
      "provenance": [],
      "collapsed_sections": [
        "mP00kRXTxyDA"
      ],
      "toc_visible": true,
      "include_colab_link": true
    },
    "kernelspec": {
      "display_name": "Python 3",
      "language": "python",
      "name": "python3"
    },
    "language_info": {
      "codemirror_mode": {
        "name": "ipython",
        "version": 3
      },
      "file_extension": ".py",
      "mimetype": "text/x-python",
      "name": "python",
      "nbconvert_exporter": "python",
      "pygments_lexer": "ipython3",
      "version": "3.7.6"
    }
  },
  "cells": [
    {
      "cell_type": "markdown",
      "metadata": {
        "id": "view-in-github",
        "colab_type": "text"
      },
      "source": [
        "<a href=\"https://colab.research.google.com/github/pranavmp-10-000/CassavaDiseaseClassification/blob/main/cassavaclassification.ipynb\" target=\"_parent\"><img src=\"https://colab.research.google.com/assets/colab-badge.svg\" alt=\"Open In Colab\"/></a>"
      ]
    },
    {
      "cell_type": "markdown",
      "metadata": {
        "id": "VMeLEZr6iGWd"
      },
      "source": [
        "# Kaggle Data Import"
      ]
    },
    {
      "cell_type": "code",
      "metadata": {
        "colab": {
          "base_uri": "https://localhost:8080/"
        },
        "id": "arK14FWEx4jf",
        "outputId": "07c1117c-3e38-41c4-9b80-ea0fe43a6a2e"
      },
      "source": [
        "! pip install kaggle"
      ],
      "execution_count": 1,
      "outputs": [
        {
          "output_type": "stream",
          "text": [
            "Requirement already satisfied: kaggle in /usr/local/lib/python3.6/dist-packages (1.5.9)\n",
            "Requirement already satisfied: six>=1.10 in /usr/local/lib/python3.6/dist-packages (from kaggle) (1.15.0)\n",
            "Requirement already satisfied: urllib3 in /usr/local/lib/python3.6/dist-packages (from kaggle) (1.24.3)\n",
            "Requirement already satisfied: python-slugify in /usr/local/lib/python3.6/dist-packages (from kaggle) (4.0.1)\n",
            "Requirement already satisfied: slugify in /usr/local/lib/python3.6/dist-packages (from kaggle) (0.0.1)\n",
            "Requirement already satisfied: certifi in /usr/local/lib/python3.6/dist-packages (from kaggle) (2020.11.8)\n",
            "Requirement already satisfied: requests in /usr/local/lib/python3.6/dist-packages (from kaggle) (2.23.0)\n",
            "Requirement already satisfied: python-dateutil in /usr/local/lib/python3.6/dist-packages (from kaggle) (2.8.1)\n",
            "Requirement already satisfied: tqdm in /usr/local/lib/python3.6/dist-packages (from kaggle) (4.41.1)\n",
            "Requirement already satisfied: text-unidecode>=1.3 in /usr/local/lib/python3.6/dist-packages (from python-slugify->kaggle) (1.3)\n",
            "Requirement already satisfied: idna<3,>=2.5 in /usr/local/lib/python3.6/dist-packages (from requests->kaggle) (2.10)\n",
            "Requirement already satisfied: chardet<4,>=3.0.2 in /usr/local/lib/python3.6/dist-packages (from requests->kaggle) (3.0.4)\n"
          ],
          "name": "stdout"
        }
      ]
    },
    {
      "cell_type": "code",
      "metadata": {
        "id": "NL0DiWJRyDXg"
      },
      "source": [
        "from google.colab import files"
      ],
      "execution_count": 2,
      "outputs": []
    },
    {
      "cell_type": "code",
      "metadata": {
        "id": "V4Uy0Ai7yGX3",
        "colab": {
          "base_uri": "https://localhost:8080/"
        },
        "outputId": "e1baa29d-e1ea-4acb-9e5c-c779d7a4958b"
      },
      "source": [
        "! mkdir ~/.kaggle\n",
        "! cp kaggle.json ~/.kaggle/\n",
        "! chmod 600 ~/.kaggle/kaggle.json"
      ],
      "execution_count": 6,
      "outputs": [
        {
          "output_type": "stream",
          "text": [
            "mkdir: cannot create directory ‘/root/.kaggle’: File exists\n"
          ],
          "name": "stdout"
        }
      ]
    },
    {
      "cell_type": "code",
      "metadata": {
        "id": "A0mFgjiozD8_"
      },
      "source": [
        "!mkdir /content/data"
      ],
      "execution_count": 4,
      "outputs": []
    },
    {
      "cell_type": "code",
      "metadata": {
        "id": "XEKMXt9f0Vw_"
      },
      "source": [
        "!kaggle competitions files cassava-leaf-disease-classification"
      ],
      "execution_count": null,
      "outputs": []
    },
    {
      "cell_type": "code",
      "metadata": {
        "colab": {
          "base_uri": "https://localhost:8080/"
        },
        "id": "aibAxjqiyMAe",
        "outputId": "717a33d5-c817-4d27-aff0-e880fe9fc119"
      },
      "source": [
        "!kaggle competitions download -c cassava-leaf-disease-classification -p /content/data -f /train.csv"
      ],
      "execution_count": 8,
      "outputs": [
        {
          "output_type": "stream",
          "text": [
            "404 - Not Found\n"
          ],
          "name": "stdout"
        }
      ]
    },
    {
      "cell_type": "code",
      "metadata": {
        "id": "HKczwJ-PxyC8",
        "colab": {
          "base_uri": "https://localhost:8080/"
        },
        "outputId": "02c6850b-b423-4cfc-be0e-04fc46eadf23"
      },
      "source": [
        "import numpy as np # linear algebra\n",
        "import pandas as pd # data processing, CSV file I/O (e.g. pd.read_csv)\n",
        "import tensorflow as tf\n",
        "import tensorflow_hub as hub\n",
        "import seaborn as sns\n",
        "import matplotlib.pyplot as plt\n",
        "import shutil\n",
        "import glob\n",
        "from functools import partial\n",
        "import IPython.display as display\n",
        "# Input data files are available in the read-only \"../input/\" directory\n",
        "# For example, running this (by clicking run or pressing Shift+Enter) will list all files under the input directory\n",
        "\n",
        "import os\n",
        "for dirname, _, filenames in os.walk('/content/data'):\n",
        "    for filename in filenames:\n",
        "        print(os.path.join(dirname, filename))\n",
        "\n",
        "# You can write up to 20GB to the current directory (/kaggle/working/) that gets preserved as output when you create a version using \"Save & Run All\" \n",
        "# You can also write temporary files to /kaggle/temp/, but they won't be saved outside of the current session"
      ],
      "execution_count": 9,
      "outputs": [
        {
          "output_type": "stream",
          "text": [
            "/content/data/train.csv\n"
          ],
          "name": "stdout"
        }
      ]
    },
    {
      "cell_type": "code",
      "metadata": {
        "id": "_615hszxDc-V",
        "colab": {
          "base_uri": "https://localhost:8080/"
        },
        "outputId": "cbdc2081-7d40-4921-96e1-d921719d14da"
      },
      "source": [
        "!unzip data/\\*.zip -d /content/data"
      ],
      "execution_count": null,
      "outputs": [
        {
          "output_type": "stream",
          "text": [
            "unzip:  cannot find or open data/*.zip, data/*.zip.zip or data/*.zip.ZIP.\n",
            "\n",
            "No zipfiles found.\n"
          ],
          "name": "stdout"
        }
      ]
    },
    {
      "cell_type": "code",
      "metadata": {
        "colab": {
          "base_uri": "https://localhost:8080/"
        },
        "id": "vX8zLKUQxyC_",
        "outputId": "50d88fe0-9eab-480e-fd99-98859e480074"
      },
      "source": [
        "try: # detect TPUs\n",
        "    tpu = tf.distribute.cluster_resolver.TPUClusterResolver() # TPU detection\n",
        "    tf.config.experimental_connect_to_cluster(tpu)\n",
        "    tf.tpu.experimental.initialize_tpu_system(tpu)\n",
        "    strategy = tf.distribute.experimental.TPUStrategy(tpu)\n",
        "except ValueError: # no TPU found, detect GPUs\n",
        "    strategy = tf.distribute.MirroredStrategy() # for GPU or multi-GPU machines\n",
        "    #strategy = tf.distribute.get_strategy() # default strategy that works on CPU and single GPU\n",
        "    #strategy = tf.distribute.experimental.MultiWorkerMirroredStrategy() # for clusters of multi-GPU machines\n",
        "\n",
        "print(\"Number of accelerators: \", strategy.num_replicas_in_sync)"
      ],
      "execution_count": 10,
      "outputs": [
        {
          "output_type": "stream",
          "text": [
            "INFO:tensorflow:Clearing out eager caches\n"
          ],
          "name": "stdout"
        },
        {
          "output_type": "stream",
          "text": [
            "INFO:tensorflow:Clearing out eager caches\n"
          ],
          "name": "stderr"
        },
        {
          "output_type": "stream",
          "text": [
            "INFO:tensorflow:Finished initializing TPU system.\n"
          ],
          "name": "stdout"
        },
        {
          "output_type": "stream",
          "text": [
            "INFO:tensorflow:Finished initializing TPU system.\n",
            "WARNING:absl:`tf.distribute.experimental.TPUStrategy` is deprecated, please use  the non experimental symbol `tf.distribute.TPUStrategy` instead.\n"
          ],
          "name": "stderr"
        },
        {
          "output_type": "stream",
          "text": [
            "INFO:tensorflow:Found TPU system:\n"
          ],
          "name": "stdout"
        },
        {
          "output_type": "stream",
          "text": [
            "INFO:tensorflow:Found TPU system:\n"
          ],
          "name": "stderr"
        },
        {
          "output_type": "stream",
          "text": [
            "INFO:tensorflow:*** Num TPU Cores: 8\n"
          ],
          "name": "stdout"
        },
        {
          "output_type": "stream",
          "text": [
            "INFO:tensorflow:*** Num TPU Cores: 8\n"
          ],
          "name": "stderr"
        },
        {
          "output_type": "stream",
          "text": [
            "INFO:tensorflow:*** Num TPU Workers: 1\n"
          ],
          "name": "stdout"
        },
        {
          "output_type": "stream",
          "text": [
            "INFO:tensorflow:*** Num TPU Workers: 1\n"
          ],
          "name": "stderr"
        },
        {
          "output_type": "stream",
          "text": [
            "INFO:tensorflow:*** Num TPU Cores Per Worker: 8\n"
          ],
          "name": "stdout"
        },
        {
          "output_type": "stream",
          "text": [
            "INFO:tensorflow:*** Num TPU Cores Per Worker: 8\n"
          ],
          "name": "stderr"
        },
        {
          "output_type": "stream",
          "text": [
            "INFO:tensorflow:*** Available Device: _DeviceAttributes(/job:localhost/replica:0/task:0/device:CPU:0, CPU, 0, 0)\n"
          ],
          "name": "stdout"
        },
        {
          "output_type": "stream",
          "text": [
            "INFO:tensorflow:*** Available Device: _DeviceAttributes(/job:localhost/replica:0/task:0/device:CPU:0, CPU, 0, 0)\n"
          ],
          "name": "stderr"
        },
        {
          "output_type": "stream",
          "text": [
            "INFO:tensorflow:*** Available Device: _DeviceAttributes(/job:localhost/replica:0/task:0/device:XLA_CPU:0, XLA_CPU, 0, 0)\n"
          ],
          "name": "stdout"
        },
        {
          "output_type": "stream",
          "text": [
            "INFO:tensorflow:*** Available Device: _DeviceAttributes(/job:localhost/replica:0/task:0/device:XLA_CPU:0, XLA_CPU, 0, 0)\n"
          ],
          "name": "stderr"
        },
        {
          "output_type": "stream",
          "text": [
            "INFO:tensorflow:*** Available Device: _DeviceAttributes(/job:worker/replica:0/task:0/device:CPU:0, CPU, 0, 0)\n"
          ],
          "name": "stdout"
        },
        {
          "output_type": "stream",
          "text": [
            "INFO:tensorflow:*** Available Device: _DeviceAttributes(/job:worker/replica:0/task:0/device:CPU:0, CPU, 0, 0)\n"
          ],
          "name": "stderr"
        },
        {
          "output_type": "stream",
          "text": [
            "INFO:tensorflow:*** Available Device: _DeviceAttributes(/job:worker/replica:0/task:0/device:TPU:0, TPU, 0, 0)\n"
          ],
          "name": "stdout"
        },
        {
          "output_type": "stream",
          "text": [
            "INFO:tensorflow:*** Available Device: _DeviceAttributes(/job:worker/replica:0/task:0/device:TPU:0, TPU, 0, 0)\n"
          ],
          "name": "stderr"
        },
        {
          "output_type": "stream",
          "text": [
            "INFO:tensorflow:*** Available Device: _DeviceAttributes(/job:worker/replica:0/task:0/device:TPU:1, TPU, 0, 0)\n"
          ],
          "name": "stdout"
        },
        {
          "output_type": "stream",
          "text": [
            "INFO:tensorflow:*** Available Device: _DeviceAttributes(/job:worker/replica:0/task:0/device:TPU:1, TPU, 0, 0)\n"
          ],
          "name": "stderr"
        },
        {
          "output_type": "stream",
          "text": [
            "INFO:tensorflow:*** Available Device: _DeviceAttributes(/job:worker/replica:0/task:0/device:TPU:2, TPU, 0, 0)\n"
          ],
          "name": "stdout"
        },
        {
          "output_type": "stream",
          "text": [
            "INFO:tensorflow:*** Available Device: _DeviceAttributes(/job:worker/replica:0/task:0/device:TPU:2, TPU, 0, 0)\n"
          ],
          "name": "stderr"
        },
        {
          "output_type": "stream",
          "text": [
            "INFO:tensorflow:*** Available Device: _DeviceAttributes(/job:worker/replica:0/task:0/device:TPU:3, TPU, 0, 0)\n"
          ],
          "name": "stdout"
        },
        {
          "output_type": "stream",
          "text": [
            "INFO:tensorflow:*** Available Device: _DeviceAttributes(/job:worker/replica:0/task:0/device:TPU:3, TPU, 0, 0)\n"
          ],
          "name": "stderr"
        },
        {
          "output_type": "stream",
          "text": [
            "INFO:tensorflow:*** Available Device: _DeviceAttributes(/job:worker/replica:0/task:0/device:TPU:4, TPU, 0, 0)\n"
          ],
          "name": "stdout"
        },
        {
          "output_type": "stream",
          "text": [
            "INFO:tensorflow:*** Available Device: _DeviceAttributes(/job:worker/replica:0/task:0/device:TPU:4, TPU, 0, 0)\n"
          ],
          "name": "stderr"
        },
        {
          "output_type": "stream",
          "text": [
            "INFO:tensorflow:*** Available Device: _DeviceAttributes(/job:worker/replica:0/task:0/device:TPU:5, TPU, 0, 0)\n"
          ],
          "name": "stdout"
        },
        {
          "output_type": "stream",
          "text": [
            "INFO:tensorflow:*** Available Device: _DeviceAttributes(/job:worker/replica:0/task:0/device:TPU:5, TPU, 0, 0)\n"
          ],
          "name": "stderr"
        },
        {
          "output_type": "stream",
          "text": [
            "INFO:tensorflow:*** Available Device: _DeviceAttributes(/job:worker/replica:0/task:0/device:TPU:6, TPU, 0, 0)\n"
          ],
          "name": "stdout"
        },
        {
          "output_type": "stream",
          "text": [
            "INFO:tensorflow:*** Available Device: _DeviceAttributes(/job:worker/replica:0/task:0/device:TPU:6, TPU, 0, 0)\n"
          ],
          "name": "stderr"
        },
        {
          "output_type": "stream",
          "text": [
            "INFO:tensorflow:*** Available Device: _DeviceAttributes(/job:worker/replica:0/task:0/device:TPU:7, TPU, 0, 0)\n"
          ],
          "name": "stdout"
        },
        {
          "output_type": "stream",
          "text": [
            "INFO:tensorflow:*** Available Device: _DeviceAttributes(/job:worker/replica:0/task:0/device:TPU:7, TPU, 0, 0)\n"
          ],
          "name": "stderr"
        },
        {
          "output_type": "stream",
          "text": [
            "INFO:tensorflow:*** Available Device: _DeviceAttributes(/job:worker/replica:0/task:0/device:TPU_SYSTEM:0, TPU_SYSTEM, 0, 0)\n"
          ],
          "name": "stdout"
        },
        {
          "output_type": "stream",
          "text": [
            "INFO:tensorflow:*** Available Device: _DeviceAttributes(/job:worker/replica:0/task:0/device:TPU_SYSTEM:0, TPU_SYSTEM, 0, 0)\n"
          ],
          "name": "stderr"
        },
        {
          "output_type": "stream",
          "text": [
            "INFO:tensorflow:*** Available Device: _DeviceAttributes(/job:worker/replica:0/task:0/device:XLA_CPU:0, XLA_CPU, 0, 0)\n"
          ],
          "name": "stdout"
        },
        {
          "output_type": "stream",
          "text": [
            "INFO:tensorflow:*** Available Device: _DeviceAttributes(/job:worker/replica:0/task:0/device:XLA_CPU:0, XLA_CPU, 0, 0)\n"
          ],
          "name": "stderr"
        },
        {
          "output_type": "stream",
          "text": [
            "Number of accelerators:  8\n"
          ],
          "name": "stdout"
        }
      ]
    },
    {
      "cell_type": "code",
      "metadata": {
        "id": "727g5_PameAY"
      },
      "source": [
        "AUTOTUNE = tf.data.experimental.AUTOTUNE\n",
        "GCS_PATH = 'gs://kds-8ce61d4a373ab9f3d5a795bc43d1fb6e4a1b250fcc1ef4954a9f9afc'\n",
        "IMAGE_SIZE = [512,512]"
      ],
      "execution_count": 11,
      "outputs": []
    },
    {
      "cell_type": "code",
      "metadata": {
        "colab": {
          "base_uri": "https://localhost:8080/",
          "height": 195
        },
        "id": "knLpgOBBxyC_",
        "outputId": "d44cd29c-db6f-4d7e-87b3-03198d59633a"
      },
      "source": [
        "train_records = pd.read_csv('/content/data/train.csv')\n",
        "#test_records = pd.read_csv('../input/cassava-leaf-disease-classification/test.csv')\n",
        "train_records.head()"
      ],
      "execution_count": 12,
      "outputs": [
        {
          "output_type": "execute_result",
          "data": {
            "text/html": [
              "<div>\n",
              "<style scoped>\n",
              "    .dataframe tbody tr th:only-of-type {\n",
              "        vertical-align: middle;\n",
              "    }\n",
              "\n",
              "    .dataframe tbody tr th {\n",
              "        vertical-align: top;\n",
              "    }\n",
              "\n",
              "    .dataframe thead th {\n",
              "        text-align: right;\n",
              "    }\n",
              "</style>\n",
              "<table border=\"1\" class=\"dataframe\">\n",
              "  <thead>\n",
              "    <tr style=\"text-align: right;\">\n",
              "      <th></th>\n",
              "      <th>image_id</th>\n",
              "      <th>label</th>\n",
              "    </tr>\n",
              "  </thead>\n",
              "  <tbody>\n",
              "    <tr>\n",
              "      <th>0</th>\n",
              "      <td>1000015157.jpg</td>\n",
              "      <td>0</td>\n",
              "    </tr>\n",
              "    <tr>\n",
              "      <th>1</th>\n",
              "      <td>1000201771.jpg</td>\n",
              "      <td>3</td>\n",
              "    </tr>\n",
              "    <tr>\n",
              "      <th>2</th>\n",
              "      <td>100042118.jpg</td>\n",
              "      <td>1</td>\n",
              "    </tr>\n",
              "    <tr>\n",
              "      <th>3</th>\n",
              "      <td>1000723321.jpg</td>\n",
              "      <td>1</td>\n",
              "    </tr>\n",
              "    <tr>\n",
              "      <th>4</th>\n",
              "      <td>1000812911.jpg</td>\n",
              "      <td>3</td>\n",
              "    </tr>\n",
              "  </tbody>\n",
              "</table>\n",
              "</div>"
            ],
            "text/plain": [
              "         image_id  label\n",
              "0  1000015157.jpg      0\n",
              "1  1000201771.jpg      3\n",
              "2   100042118.jpg      1\n",
              "3  1000723321.jpg      1\n",
              "4  1000812911.jpg      3"
            ]
          },
          "metadata": {
            "tags": []
          },
          "execution_count": 12
        }
      ]
    },
    {
      "cell_type": "code",
      "metadata": {
        "id": "6KVDv85gKaet"
      },
      "source": [
        "data_value_c = pd.DataFrame(train_records['label'].value_counts())"
      ],
      "execution_count": 13,
      "outputs": []
    },
    {
      "cell_type": "code",
      "metadata": {
        "colab": {
          "base_uri": "https://localhost:8080/",
          "height": 335
        },
        "id": "9CwtqWbZldwq",
        "outputId": "015ba303-aa7d-4967-928a-bf9f5c3e1453"
      },
      "source": [
        "sns.barplot(data_value_c.index,data_value_c.label)"
      ],
      "execution_count": 14,
      "outputs": [
        {
          "output_type": "stream",
          "text": [
            "/usr/local/lib/python3.6/dist-packages/seaborn/_decorators.py:43: FutureWarning: Pass the following variables as keyword args: x, y. From version 0.12, the only valid positional argument will be `data`, and passing other arguments without an explicit keyword will result in an error or misinterpretation.\n",
            "  FutureWarning\n"
          ],
          "name": "stderr"
        },
        {
          "output_type": "execute_result",
          "data": {
            "text/plain": [
              "<matplotlib.axes._subplots.AxesSubplot at 0x7fda22f2a6d8>"
            ]
          },
          "metadata": {
            "tags": []
          },
          "execution_count": 14
        },
        {
          "output_type": "display_data",
          "data": {
            "image/png": "[encoded data removed]",
            "text/plain": [
              "<Figure size 432x288 with 1 Axes>"
            ]
          },
          "metadata": {
            "tags": [],
            "needs_background": "light"
          }
        }
      ]
    },
    {
      "cell_type": "code",
      "metadata": {
        "id": "iPIhVmwszmrz"
      },
      "source": [
        "class_weights = train_records.groupby(['label']).count()\n",
        "class_weights['image_id'] = class_weights.image_id/train_records.shape[0]"
      ],
      "execution_count": 15,
      "outputs": []
    },
    {
      "cell_type": "code",
      "metadata": {
        "id": "zE4Uc2s80Fil"
      },
      "source": [
        "cl_w = class_weights.image_id.to_dict()"
      ],
      "execution_count": 16,
      "outputs": []
    },
    {
      "cell_type": "code",
      "metadata": {
        "id": "LPVGrrxhxyDA"
      },
      "source": [
        "TRAIN_DIRECTORY = '/content/data/'\n",
        "#TEST_DIRECTORY = '../input/cassava-leaf-disease-classification/test_images/'"
      ],
      "execution_count": 17,
      "outputs": []
    },
    {
      "cell_type": "code",
      "metadata": {
        "id": "Vjn98WujxyDA"
      },
      "source": [
        "def submit_gen(model,classes,dataset_path,col='image_id'):\n",
        "  test_data = os.listdir(dataset_path)\n",
        "  pred_array=[]\n",
        "  for i in test_data:\n",
        "    img = tf.keras.preprocessing.image.load_img(\n",
        "        dataset_path+i,target_size=(512,512))\n",
        "    img_array = tf.keras.preprocessing.image.img_to_array(img)\n",
        "    img_array = tf.expand_dims(img_array, 0)\n",
        "    prediction = np.squeeze(model.predict(img_array))\n",
        "    name_c = classes[np.argmax(prediction)]\n",
        "    pred_array.append(name_c)\n",
        "  return pred_array,test_data"
      ],
      "execution_count": 18,
      "outputs": []
    },
    {
      "cell_type": "code",
      "metadata": {
        "id": "TstP7vTC3MXS",
        "colab": {
          "base_uri": "https://localhost:8080/"
        },
        "outputId": "8bd844be-ce75-4019-cd4e-474203964db5"
      },
      "source": [
        "gs_filenames = tf.io.gfile.glob(GCS_PATH + \"/train_tfrecords/*.tfrec\")\n",
        "gs_filenames"
      ],
      "execution_count": 19,
      "outputs": [
        {
          "output_type": "execute_result",
          "data": {
            "text/plain": [
              "['gs://kds-8ce61d4a373ab9f3d5a795bc43d1fb6e4a1b250fcc1ef4954a9f9afc/train_tfrecords/ld_train00-1338.tfrec',\n",
              " 'gs://kds-8ce61d4a373ab9f3d5a795bc43d1fb6e4a1b250fcc1ef4954a9f9afc/train_tfrecords/ld_train01-1338.tfrec',\n",
              " 'gs://kds-8ce61d4a373ab9f3d5a795bc43d1fb6e4a1b250fcc1ef4954a9f9afc/train_tfrecords/ld_train02-1338.tfrec',\n",
              " 'gs://kds-8ce61d4a373ab9f3d5a795bc43d1fb6e4a1b250fcc1ef4954a9f9afc/train_tfrecords/ld_train03-1338.tfrec',\n",
              " 'gs://kds-8ce61d4a373ab9f3d5a795bc43d1fb6e4a1b250fcc1ef4954a9f9afc/train_tfrecords/ld_train04-1338.tfrec',\n",
              " 'gs://kds-8ce61d4a373ab9f3d5a795bc43d1fb6e4a1b250fcc1ef4954a9f9afc/train_tfrecords/ld_train05-1338.tfrec',\n",
              " 'gs://kds-8ce61d4a373ab9f3d5a795bc43d1fb6e4a1b250fcc1ef4954a9f9afc/train_tfrecords/ld_train06-1338.tfrec',\n",
              " 'gs://kds-8ce61d4a373ab9f3d5a795bc43d1fb6e4a1b250fcc1ef4954a9f9afc/train_tfrecords/ld_train07-1338.tfrec',\n",
              " 'gs://kds-8ce61d4a373ab9f3d5a795bc43d1fb6e4a1b250fcc1ef4954a9f9afc/train_tfrecords/ld_train08-1338.tfrec',\n",
              " 'gs://kds-8ce61d4a373ab9f3d5a795bc43d1fb6e4a1b250fcc1ef4954a9f9afc/train_tfrecords/ld_train09-1338.tfrec',\n",
              " 'gs://kds-8ce61d4a373ab9f3d5a795bc43d1fb6e4a1b250fcc1ef4954a9f9afc/train_tfrecords/ld_train10-1338.tfrec',\n",
              " 'gs://kds-8ce61d4a373ab9f3d5a795bc43d1fb6e4a1b250fcc1ef4954a9f9afc/train_tfrecords/ld_train11-1338.tfrec',\n",
              " 'gs://kds-8ce61d4a373ab9f3d5a795bc43d1fb6e4a1b250fcc1ef4954a9f9afc/train_tfrecords/ld_train12-1338.tfrec',\n",
              " 'gs://kds-8ce61d4a373ab9f3d5a795bc43d1fb6e4a1b250fcc1ef4954a9f9afc/train_tfrecords/ld_train13-1338.tfrec',\n",
              " 'gs://kds-8ce61d4a373ab9f3d5a795bc43d1fb6e4a1b250fcc1ef4954a9f9afc/train_tfrecords/ld_train14-1338.tfrec',\n",
              " 'gs://kds-8ce61d4a373ab9f3d5a795bc43d1fb6e4a1b250fcc1ef4954a9f9afc/train_tfrecords/ld_train15-1327.tfrec']"
            ]
          },
          "metadata": {
            "tags": []
          },
          "execution_count": 19
        }
      ]
    },
    {
      "cell_type": "code",
      "metadata": {
        "id": "JfMwErjgEJmU"
      },
      "source": [
        "split_ind = int(0.9 * len(gs_filenames))\n",
        "TRAINING_FILENAMES, VALID_FILENAMES = gs_filenames[:split_ind], gs_filenames[split_ind:]\n",
        "dataset = tf.data.TFRecordDataset(filenames=TRAINING_FILENAMES)\n",
        "val_dataset = tf.data.TFRecordDataset(filenames=VALID_FILENAMES)"
      ],
      "execution_count": 20,
      "outputs": []
    },
    {
      "cell_type": "code",
      "metadata": {
        "id": "xFR5Gg_ALmpE"
      },
      "source": [
        "def augment(image):\n",
        "  #image = tf.keras.preprocessing.image.(image,channels=3)\n",
        "  image = tf.image.random_flip_left_right(image,seed=2)\n",
        "  image = tf.keras.preprocessing.image.img_to_array(image)\n",
        "  #image = tf.reshape(image,(3,512,512))\n",
        "  image = tf.keras.preprocessing.image.random_rotation(image,35,row_axis=1 ,col_axis=0, channel_axis=2)\n",
        "  image = tf.keras.preprocessing.image.random_shear(image,5,row_axis=1 ,col_axis=0, channel_axis=2)\n",
        "  image = tf.keras.preprocessing.image.random_shift(image,0.1,0.1,row_axis=1 ,col_axis=0, channel_axis=2)\n",
        "  #image = tf.reshape(image,(*IMAGE_SIZE,3))\n",
        "  image = tf.keras.preprocessing.image.array_to_img(image)\n",
        "  return image"
      ],
      "execution_count": 21,
      "outputs": []
    },
    {
      "cell_type": "code",
      "metadata": {
        "id": "677I809zUioo"
      },
      "source": [
        "image_feature_description = {\n",
        "    'image': tf.io.FixedLenFeature([], tf.string),\n",
        "    'image_name': tf.io.FixedLenFeature([], tf.string),\n",
        "    'target': tf.io.FixedLenFeature([], tf.int64),\n",
        "    \n",
        "}\n",
        "\n",
        "def _parse_image_function(example_proto):\n",
        "  # Parse the input tf.train.Example proto using the dictionary above.\n",
        "  example = tf.io.parse_single_example(example_proto, image_feature_description)\n",
        "  image = tf.image.decode_jpeg(example['image'],channels=3)\n",
        "  image = tf.cast(image, tf.float32)\n",
        "  image = tf.reshape(image,[*IMAGE_SIZE,3])\n",
        "  label = tf.cast(example[\"target\"], tf.int32)\n",
        "  return image,label"
      ],
      "execution_count": 22,
      "outputs": []
    },
    {
      "cell_type": "code",
      "metadata": {
        "id": "_QdqqDxOUwAi"
      },
      "source": [
        "parsed_image_dataset = dataset.map(partial( _parse_image_function),num_parallel_calls=AUTOTUNE)"
      ],
      "execution_count": 23,
      "outputs": []
    },
    {
      "cell_type": "code",
      "metadata": {
        "id": "ZmVBm944mD8w"
      },
      "source": [
        "val_image_dataset = val_dataset.map(partial( _parse_image_function),num_parallel_calls=AUTOTUNE)"
      ],
      "execution_count": 24,
      "outputs": []
    },
    {
      "cell_type": "code",
      "metadata": {
        "colab": {
          "base_uri": "https://localhost:8080/"
        },
        "id": "X5aNog8bM0OW",
        "outputId": "a74796f0-086e-4846-bfbc-387a897b84f6"
      },
      "source": [
        "for i,x in parsed_image_dataset.take(1):\n",
        "  print(i.shape)"
      ],
      "execution_count": 25,
      "outputs": [
        {
          "output_type": "stream",
          "text": [
            "(512, 512, 3)\n"
          ],
          "name": "stdout"
        }
      ]
    },
    {
      "cell_type": "code",
      "metadata": {
        "id": "N9UsIQiYASdC"
      },
      "source": [
        "data_augmentation = tf.keras.Sequential([\n",
        "    tf.keras.layers.experimental.preprocessing.RandomFlip(\"horizontal\"),\n",
        "    tf.keras.layers.experimental.preprocessing.RandomRotation(35),\n",
        "    #tf.keras.layers.experimental.preprocessing.RandomZoom(height_factor=0.2,),\n",
        "    tf.keras.layers.experimental.preprocessing.Rescaling(scale=1./255)])"
      ],
      "execution_count": 26,
      "outputs": []
    },
    {
      "cell_type": "code",
      "metadata": {
        "colab": {
          "base_uri": "https://localhost:8080/"
        },
        "id": "w_A7ezFTATIR",
        "outputId": "7083d7bf-043b-4bf2-c07f-6335f44e111a"
      },
      "source": [
        "train_aug_ds = parsed_image_dataset.filter(lambda x,y: tf.math.not_equal(y,3))\n",
        "val_aug_ds = val_image_dataset.filter(lambda x,y: tf.math.not_equal(y,3))\n",
        "train_aug_ds = train_aug_ds.batch(32)\n",
        "val_aug_ds = val_aug_ds.batch(32)\n",
        "train_aug_ds = train_aug_ds.map(lambda x,y:(data_augmentation(x),y))\n",
        "val_aug_ds = val_aug_ds.map(lambda x,y:(data_augmentation(x),y))\n",
        "for i,x in train_aug_ds.take(1):\n",
        "  print(i.shape)\n"
      ],
      "execution_count": 27,
      "outputs": [
        {
          "output_type": "stream",
          "text": [
            "(32, 512, 512, 3)\n"
          ],
          "name": "stdout"
        }
      ]
    },
    {
      "cell_type": "code",
      "metadata": {
        "id": "sZGyaACkbOHv"
      },
      "source": [
        "aug_train_ds =train_aug_ds.unbatch()\n",
        "aug_val_ds = val_aug_ds.unbatch()\n",
        "parsed_image_dataset = parsed_image_dataset.concatenate(aug_train_ds)\n",
        "val_image_dataset = val_image_dataset.concatenate(aug_val_ds)"
      ],
      "execution_count": 28,
      "outputs": []
    },
    {
      "cell_type": "code",
      "metadata": {
        "id": "r69P3MUDk-Ea"
      },
      "source": [
        "def create_dataset(dataset):    \n",
        "    # Set the number of datapoints you want to load and shuffle \n",
        "    dataset = dataset.shuffle(2048)\n",
        "    dataset = dataset.prefetch(buffer_size=AUTOTUNE)\n",
        "    # Set the batchsize\n",
        "    dataset = dataset.batch(64)\n",
        "\n",
        "    return dataset"
      ],
      "execution_count": 29,
      "outputs": []
    },
    {
      "cell_type": "code",
      "metadata": {
        "id": "ADqnIjkdeFkz"
      },
      "source": [
        "train_dataset = create_dataset(parsed_image_dataset)\n",
        "validation_dataset = create_dataset(val_image_dataset)"
      ],
      "execution_count": 30,
      "outputs": []
    },
    {
      "cell_type": "markdown",
      "metadata": {
        "id": "mP00kRXTxyDA"
      },
      "source": [
        "# Preprocessing - Tensorflow"
      ]
    },
    {
      "cell_type": "code",
      "metadata": {
        "id": "IebVtM6PxyDA"
      },
      "source": [
        "datagen_train = tf.keras.preprocessing.image.ImageDataGenerator(rotation_range=20,\n",
        "      horizontal_flip=True,\n",
        "      #width_shift_range=0.2, height_shift_range=0.2,\n",
        "      shear_range=0.2, \n",
        "      zoom_range=0.3,\n",
        "      rescale=1./255, validation_split=.1,\n",
        "      )\n",
        "train_generator = datagen_train.flow_from_directory(\n",
        "    train_dataset., shuffle=True,subset='training')"
      ],
      "execution_count": null,
      "outputs": []
    },
    {
      "cell_type": "code",
      "metadata": {
        "id": "w5xUGY9qxyDB"
      },
      "source": [
        "datagen_val = tf.keras.preprocessing.image.ImageDataGenerator(\n",
        "    #rotation_range=40,\n",
        "      horizontal_flip=True,\n",
        "      #width_shift_range=0.2, height_shift_range=0.2,\n",
        "      #shear_range=0.2, zoom_range=0.2,\n",
        "      rescale=1./255, validation_split=.1,\n",
        "      )\n",
        "val_generator = datagen_val.NumpyArrayIterator(\n",
        "    TRAIN_IMAGE_DIRECTORY,target_size=(256,256), shuffle=True,subset='validation',class_mode='sparse')"
      ],
      "execution_count": null,
      "outputs": []
    },
    {
      "cell_type": "markdown",
      "metadata": {
        "id": "F0kvwDD1xyDB"
      },
      "source": [
        "# Model - Tensorflow"
      ]
    },
    {
      "cell_type": "code",
      "metadata": {
        "id": "RdIzzEHiQla5"
      },
      "source": [
        "data_augmentation = tf.keras.Sequential([\n",
        "  tf.keras.layers.experimental.preprocessing.RandomFlip(\"horizontal\"),\n",
        "  tf.keras.layers.experimental.preprocessing.RandomRotation(35),\n",
        "  tf.keras.layers.experimental.preprocessing.RandomZoom(\n",
        "    height_factor=0.2,),\n",
        "    tf.keras.layers.experimental.preprocessing.Rescaling(scale=1./255\n",
        "    )\n",
        "  \n",
        "])"
      ],
      "execution_count": null,
      "outputs": []
    },
    {
      "cell_type": "markdown",
      "metadata": {
        "id": "NuIBqEi3Xqnz"
      },
      "source": [
        "### Pretrained Model"
      ]
    },
    {
      "cell_type": "code",
      "metadata": {
        "id": "xHQRQbU_xyDB",
        "colab": {
          "base_uri": "https://localhost:8080/"
        },
        "outputId": "19bc9f72-b408-48dc-b55b-ac102a4c7be5"
      },
      "source": [
        "with strategy.scope():\n",
        "    base = tf.keras.applications.EfficientNetB5(include_top=False,input_shape=(*IMAGE_SIZE,3),\n",
        "                                                weights='imagenet')\n",
        "    base.trainable = False\n",
        "    inputs = tf.keras.layers.Input([*IMAGE_SIZE, 3])\n",
        "    pre_layer = tf.keras.applications.efficientnet.preprocess_input(inputs)#.get_layer(\n",
        "    base_model = base(pre_layer)\n",
        "    base_model = tf.keras.layers.Dense(1024,activation='relu',kernel_regularizer=tf.keras.regularizers.l2())(base_model)\n",
        "    base_model = tf.keras.layers.Dense(512,activation='relu',kernel_regularizer=tf.keras.regularizers.l2())(base_model)\n",
        "    base_model = tf.keras.layers.Dense(256,activation='relu',kernel_regularizer=tf.keras.regularizers.l2())(base_model)\n",
        "    base_model = tf.keras.layers.BatchNormalization()(base_model)\n",
        "    base_model = tf.keras.layers.Flatten()(base_model)\n",
        "    base_model = tf.keras.layers.Dense(512,activation='relu',kernel_regularizer=tf.keras.regularizers.l2())(base_model)\n",
        "    base_model = tf.keras.layers.Dense(256,activation='relu',kernel_regularizer=tf.keras.regularizers.l2())(base_model)\n",
        "    base_model = tf.keras.layers.Dense(128,activation='relu')(base_model)\n",
        "    base_model = tf.keras.layers.Dense(64,activation='relu',)(base_model)\n",
        "    base_model = tf.keras.layers.Dense(32,activation='relu',)(base_model)\n",
        "    base_model = tf.keras.layers.Dense(8,activation='relu',)(base_model)\n",
        "    base_model = tf.keras.layers.Dropout(0.2)(base_model)\n",
        "    base_model = tf.keras.layers.Dense(5,activation='softmax')(base_model)\n",
        "    \n",
        "    model_efficient_net = tf.keras.Model(inputs=inputs,outputs=base_model)\n",
        "\n"
      ],
      "execution_count": 31,
      "outputs": [
        {
          "output_type": "stream",
          "text": [
            "Downloading data from https://storage.googleapis.com/keras-applications/efficientnetb5_notop.h5\n",
            "115269632/115263384 [==============================] - 1s 0us/step\n"
          ],
          "name": "stdout"
        }
      ]
    },
    {
      "cell_type": "code",
      "metadata": {
        "colab": {
          "base_uri": "https://localhost:8080/"
        },
        "id": "UKsAjpT4CQlb",
        "outputId": "0a5184cf-c11c-4d15-8386-05de743255df"
      },
      "source": [
        "base.summary()"
      ],
      "execution_count": 32,
      "outputs": [
        {
          "output_type": "stream",
          "text": [
            "Model: \"efficientnetb5\"\n",
            "__________________________________________________________________________________________________\n",
            "Layer (type)                    Output Shape         Param #     Connected to                     \n",
            "==================================================================================================\n",
            "input_1 (InputLayer)            [(None, 512, 512, 3) 0                                            \n",
            "__________________________________________________________________________________________________\n",
            "rescaling_1 (Rescaling)         (None, 512, 512, 3)  0           input_1[0][0]                    \n",
            "__________________________________________________________________________________________________\n",
            "normalization (Normalization)   (None, 512, 512, 3)  7           rescaling_1[0][0]                \n",
            "__________________________________________________________________________________________________\n",
            "stem_conv_pad (ZeroPadding2D)   (None, 513, 513, 3)  0           normalization[0][0]              \n",
            "__________________________________________________________________________________________________\n",
            "stem_conv (Conv2D)              (None, 256, 256, 48) 1296        stem_conv_pad[0][0]              \n",
            "__________________________________________________________________________________________________\n",
            "stem_bn (BatchNormalization)    (None, 256, 256, 48) 192         stem_conv[0][0]                  \n",
            "__________________________________________________________________________________________________\n",
            "stem_activation (Activation)    (None, 256, 256, 48) 0           stem_bn[0][0]                    \n",
            "__________________________________________________________________________________________________\n",
            "block1a_dwconv (DepthwiseConv2D (None, 256, 256, 48) 432         stem_activation[0][0]            \n",
            "__________________________________________________________________________________________________\n",
            "block1a_bn (BatchNormalization) (None, 256, 256, 48) 192         block1a_dwconv[0][0]             \n",
            "__________________________________________________________________________________________________\n",
            "block1a_activation (Activation) (None, 256, 256, 48) 0           block1a_bn[0][0]                 \n",
            "__________________________________________________________________________________________________\n",
            "block1a_se_squeeze (GlobalAvera (None, 48)           0           block1a_activation[0][0]         \n",
            "__________________________________________________________________________________________________\n",
            "block1a_se_reshape (Reshape)    (None, 1, 1, 48)     0           block1a_se_squeeze[0][0]         \n",
            "__________________________________________________________________________________________________\n",
            "block1a_se_reduce (Conv2D)      (None, 1, 1, 12)     588         block1a_se_reshape[0][0]         \n",
            "__________________________________________________________________________________________________\n",
            "block1a_se_expand (Conv2D)      (None, 1, 1, 48)     624         block1a_se_reduce[0][0]          \n",
            "__________________________________________________________________________________________________\n",
            "block1a_se_excite (Multiply)    (None, 256, 256, 48) 0           block1a_activation[0][0]         \n",
            "                                                                 block1a_se_expand[0][0]          \n",
            "__________________________________________________________________________________________________\n",
            "block1a_project_conv (Conv2D)   (None, 256, 256, 24) 1152        block1a_se_excite[0][0]          \n",
            "__________________________________________________________________________________________________\n",
            "block1a_project_bn (BatchNormal (None, 256, 256, 24) 96          block1a_project_conv[0][0]       \n",
            "__________________________________________________________________________________________________\n",
            "block1b_dwconv (DepthwiseConv2D (None, 256, 256, 24) 216         block1a_project_bn[0][0]         \n",
            "__________________________________________________________________________________________________\n",
            "block1b_bn (BatchNormalization) (None, 256, 256, 24) 96          block1b_dwconv[0][0]             \n",
            "__________________________________________________________________________________________________\n",
            "block1b_activation (Activation) (None, 256, 256, 24) 0           block1b_bn[0][0]                 \n",
            "__________________________________________________________________________________________________\n",
            "block1b_se_squeeze (GlobalAvera (None, 24)           0           block1b_activation[0][0]         \n",
            "__________________________________________________________________________________________________\n",
            "block1b_se_reshape (Reshape)    (None, 1, 1, 24)     0           block1b_se_squeeze[0][0]         \n",
            "__________________________________________________________________________________________________\n",
            "block1b_se_reduce (Conv2D)      (None, 1, 1, 6)      150         block1b_se_reshape[0][0]         \n",
            "__________________________________________________________________________________________________\n",
            "block1b_se_expand (Conv2D)      (None, 1, 1, 24)     168         block1b_se_reduce[0][0]          \n",
            "__________________________________________________________________________________________________\n",
            "block1b_se_excite (Multiply)    (None, 256, 256, 24) 0           block1b_activation[0][0]         \n",
            "                                                                 block1b_se_expand[0][0]          \n",
            "__________________________________________________________________________________________________\n",
            "block1b_project_conv (Conv2D)   (None, 256, 256, 24) 576         block1b_se_excite[0][0]          \n",
            "__________________________________________________________________________________________________\n",
            "block1b_project_bn (BatchNormal (None, 256, 256, 24) 96          block1b_project_conv[0][0]       \n",
            "__________________________________________________________________________________________________\n",
            "block1b_drop (Dropout)          (None, 256, 256, 24) 0           block1b_project_bn[0][0]         \n",
            "__________________________________________________________________________________________________\n",
            "block1b_add (Add)               (None, 256, 256, 24) 0           block1b_drop[0][0]               \n",
            "                                                                 block1a_project_bn[0][0]         \n",
            "__________________________________________________________________________________________________\n",
            "block1c_dwconv (DepthwiseConv2D (None, 256, 256, 24) 216         block1b_add[0][0]                \n",
            "__________________________________________________________________________________________________\n",
            "block1c_bn (BatchNormalization) (None, 256, 256, 24) 96          block1c_dwconv[0][0]             \n",
            "__________________________________________________________________________________________________\n",
            "block1c_activation (Activation) (None, 256, 256, 24) 0           block1c_bn[0][0]                 \n",
            "__________________________________________________________________________________________________\n",
            "block1c_se_squeeze (GlobalAvera (None, 24)           0           block1c_activation[0][0]         \n",
            "__________________________________________________________________________________________________\n",
            "block1c_se_reshape (Reshape)    (None, 1, 1, 24)     0           block1c_se_squeeze[0][0]         \n",
            "__________________________________________________________________________________________________\n",
            "block1c_se_reduce (Conv2D)      (None, 1, 1, 6)      150         block1c_se_reshape[0][0]         \n",
            "__________________________________________________________________________________________________\n",
            "block1c_se_expand (Conv2D)      (None, 1, 1, 24)     168         block1c_se_reduce[0][0]          \n",
            "__________________________________________________________________________________________________\n",
            "block1c_se_excite (Multiply)    (None, 256, 256, 24) 0           block1c_activation[0][0]         \n",
            "                                                                 block1c_se_expand[0][0]          \n",
            "__________________________________________________________________________________________________\n",
            "block1c_project_conv (Conv2D)   (None, 256, 256, 24) 576         block1c_se_excite[0][0]          \n",
            "__________________________________________________________________________________________________\n",
            "block1c_project_bn (BatchNormal (None, 256, 256, 24) 96          block1c_project_conv[0][0]       \n",
            "__________________________________________________________________________________________________\n",
            "block1c_drop (Dropout)          (None, 256, 256, 24) 0           block1c_project_bn[0][0]         \n",
            "__________________________________________________________________________________________________\n",
            "block1c_add (Add)               (None, 256, 256, 24) 0           block1c_drop[0][0]               \n",
            "                                                                 block1b_add[0][0]                \n",
            "__________________________________________________________________________________________________\n",
            "block2a_expand_conv (Conv2D)    (None, 256, 256, 144 3456        block1c_add[0][0]                \n",
            "__________________________________________________________________________________________________\n",
            "block2a_expand_bn (BatchNormali (None, 256, 256, 144 576         block2a_expand_conv[0][0]        \n",
            "__________________________________________________________________________________________________\n",
            "block2a_expand_activation (Acti (None, 256, 256, 144 0           block2a_expand_bn[0][0]          \n",
            "__________________________________________________________________________________________________\n",
            "block2a_dwconv_pad (ZeroPadding (None, 257, 257, 144 0           block2a_expand_activation[0][0]  \n",
            "__________________________________________________________________________________________________\n",
            "block2a_dwconv (DepthwiseConv2D (None, 128, 128, 144 1296        block2a_dwconv_pad[0][0]         \n",
            "__________________________________________________________________________________________________\n",
            "block2a_bn (BatchNormalization) (None, 128, 128, 144 576         block2a_dwconv[0][0]             \n",
            "__________________________________________________________________________________________________\n",
            "block2a_activation (Activation) (None, 128, 128, 144 0           block2a_bn[0][0]                 \n",
            "__________________________________________________________________________________________________\n",
            "block2a_se_squeeze (GlobalAvera (None, 144)          0           block2a_activation[0][0]         \n",
            "__________________________________________________________________________________________________\n",
            "block2a_se_reshape (Reshape)    (None, 1, 1, 144)    0           block2a_se_squeeze[0][0]         \n",
            "__________________________________________________________________________________________________\n",
            "block2a_se_reduce (Conv2D)      (None, 1, 1, 6)      870         block2a_se_reshape[0][0]         \n",
            "__________________________________________________________________________________________________\n",
            "block2a_se_expand (Conv2D)      (None, 1, 1, 144)    1008        block2a_se_reduce[0][0]          \n",
            "__________________________________________________________________________________________________\n",
            "block2a_se_excite (Multiply)    (None, 128, 128, 144 0           block2a_activation[0][0]         \n",
            "                                                                 block2a_se_expand[0][0]          \n",
            "__________________________________________________________________________________________________\n",
            "block2a_project_conv (Conv2D)   (None, 128, 128, 40) 5760        block2a_se_excite[0][0]          \n",
            "__________________________________________________________________________________________________\n",
            "block2a_project_bn (BatchNormal (None, 128, 128, 40) 160         block2a_project_conv[0][0]       \n",
            "__________________________________________________________________________________________________\n",
            "block2b_expand_conv (Conv2D)    (None, 128, 128, 240 9600        block2a_project_bn[0][0]         \n",
            "__________________________________________________________________________________________________\n",
            "block2b_expand_bn (BatchNormali (None, 128, 128, 240 960         block2b_expand_conv[0][0]        \n",
            "__________________________________________________________________________________________________\n",
            "block2b_expand_activation (Acti (None, 128, 128, 240 0           block2b_expand_bn[0][0]          \n",
            "__________________________________________________________________________________________________\n",
            "block2b_dwconv (DepthwiseConv2D (None, 128, 128, 240 2160        block2b_expand_activation[0][0]  \n",
            "__________________________________________________________________________________________________\n",
            "block2b_bn (BatchNormalization) (None, 128, 128, 240 960         block2b_dwconv[0][0]             \n",
            "__________________________________________________________________________________________________\n",
            "block2b_activation (Activation) (None, 128, 128, 240 0           block2b_bn[0][0]                 \n",
            "__________________________________________________________________________________________________\n",
            "block2b_se_squeeze (GlobalAvera (None, 240)          0           block2b_activation[0][0]         \n",
            "__________________________________________________________________________________________________\n",
            "block2b_se_reshape (Reshape)    (None, 1, 1, 240)    0           block2b_se_squeeze[0][0]         \n",
            "__________________________________________________________________________________________________\n",
            "block2b_se_reduce (Conv2D)      (None, 1, 1, 10)     2410        block2b_se_reshape[0][0]         \n",
            "__________________________________________________________________________________________________\n",
            "block2b_se_expand (Conv2D)      (None, 1, 1, 240)    2640        block2b_se_reduce[0][0]          \n",
            "__________________________________________________________________________________________________\n",
            "block2b_se_excite (Multiply)    (None, 128, 128, 240 0           block2b_activation[0][0]         \n",
            "                                                                 block2b_se_expand[0][0]          \n",
            "__________________________________________________________________________________________________\n",
            "block2b_project_conv (Conv2D)   (None, 128, 128, 40) 9600        block2b_se_excite[0][0]          \n",
            "__________________________________________________________________________________________________\n",
            "block2b_project_bn (BatchNormal (None, 128, 128, 40) 160         block2b_project_conv[0][0]       \n",
            "__________________________________________________________________________________________________\n",
            "block2b_drop (Dropout)          (None, 128, 128, 40) 0           block2b_project_bn[0][0]         \n",
            "__________________________________________________________________________________________________\n",
            "block2b_add (Add)               (None, 128, 128, 40) 0           block2b_drop[0][0]               \n",
            "                                                                 block2a_project_bn[0][0]         \n",
            "__________________________________________________________________________________________________\n",
            "block2c_expand_conv (Conv2D)    (None, 128, 128, 240 9600        block2b_add[0][0]                \n",
            "__________________________________________________________________________________________________\n",
            "block2c_expand_bn (BatchNormali (None, 128, 128, 240 960         block2c_expand_conv[0][0]        \n",
            "__________________________________________________________________________________________________\n",
            "block2c_expand_activation (Acti (None, 128, 128, 240 0           block2c_expand_bn[0][0]          \n",
            "__________________________________________________________________________________________________\n",
            "block2c_dwconv (DepthwiseConv2D (None, 128, 128, 240 2160        block2c_expand_activation[0][0]  \n",
            "__________________________________________________________________________________________________\n",
            "block2c_bn (BatchNormalization) (None, 128, 128, 240 960         block2c_dwconv[0][0]             \n",
            "__________________________________________________________________________________________________\n",
            "block2c_activation (Activation) (None, 128, 128, 240 0           block2c_bn[0][0]                 \n",
            "__________________________________________________________________________________________________\n",
            "block2c_se_squeeze (GlobalAvera (None, 240)          0           block2c_activation[0][0]         \n",
            "__________________________________________________________________________________________________\n",
            "block2c_se_reshape (Reshape)    (None, 1, 1, 240)    0           block2c_se_squeeze[0][0]         \n",
            "__________________________________________________________________________________________________\n",
            "block2c_se_reduce (Conv2D)      (None, 1, 1, 10)     2410        block2c_se_reshape[0][0]         \n",
            "__________________________________________________________________________________________________\n",
            "block2c_se_expand (Conv2D)      (None, 1, 1, 240)    2640        block2c_se_reduce[0][0]          \n",
            "__________________________________________________________________________________________________\n",
            "block2c_se_excite (Multiply)    (None, 128, 128, 240 0           block2c_activation[0][0]         \n",
            "                                                                 block2c_se_expand[0][0]          \n",
            "__________________________________________________________________________________________________\n",
            "block2c_project_conv (Conv2D)   (None, 128, 128, 40) 9600        block2c_se_excite[0][0]          \n",
            "__________________________________________________________________________________________________\n",
            "block2c_project_bn (BatchNormal (None, 128, 128, 40) 160         block2c_project_conv[0][0]       \n",
            "__________________________________________________________________________________________________\n",
            "block2c_drop (Dropout)          (None, 128, 128, 40) 0           block2c_project_bn[0][0]         \n",
            "__________________________________________________________________________________________________\n",
            "block2c_add (Add)               (None, 128, 128, 40) 0           block2c_drop[0][0]               \n",
            "                                                                 block2b_add[0][0]                \n",
            "__________________________________________________________________________________________________\n",
            "block2d_expand_conv (Conv2D)    (None, 128, 128, 240 9600        block2c_add[0][0]                \n",
            "__________________________________________________________________________________________________\n",
            "block2d_expand_bn (BatchNormali (None, 128, 128, 240 960         block2d_expand_conv[0][0]        \n",
            "__________________________________________________________________________________________________\n",
            "block2d_expand_activation (Acti (None, 128, 128, 240 0           block2d_expand_bn[0][0]          \n",
            "__________________________________________________________________________________________________\n",
            "block2d_dwconv (DepthwiseConv2D (None, 128, 128, 240 2160        block2d_expand_activation[0][0]  \n",
            "__________________________________________________________________________________________________\n",
            "block2d_bn (BatchNormalization) (None, 128, 128, 240 960         block2d_dwconv[0][0]             \n",
            "__________________________________________________________________________________________________\n",
            "block2d_activation (Activation) (None, 128, 128, 240 0           block2d_bn[0][0]                 \n",
            "__________________________________________________________________________________________________\n",
            "block2d_se_squeeze (GlobalAvera (None, 240)          0           block2d_activation[0][0]         \n",
            "__________________________________________________________________________________________________\n",
            "block2d_se_reshape (Reshape)    (None, 1, 1, 240)    0           block2d_se_squeeze[0][0]         \n",
            "__________________________________________________________________________________________________\n",
            "block2d_se_reduce (Conv2D)      (None, 1, 1, 10)     2410        block2d_se_reshape[0][0]         \n",
            "__________________________________________________________________________________________________\n",
            "block2d_se_expand (Conv2D)      (None, 1, 1, 240)    2640        block2d_se_reduce[0][0]          \n",
            "__________________________________________________________________________________________________\n",
            "block2d_se_excite (Multiply)    (None, 128, 128, 240 0           block2d_activation[0][0]         \n",
            "                                                                 block2d_se_expand[0][0]          \n",
            "__________________________________________________________________________________________________\n",
            "block2d_project_conv (Conv2D)   (None, 128, 128, 40) 9600        block2d_se_excite[0][0]          \n",
            "__________________________________________________________________________________________________\n",
            "block2d_project_bn (BatchNormal (None, 128, 128, 40) 160         block2d_project_conv[0][0]       \n",
            "__________________________________________________________________________________________________\n",
            "block2d_drop (Dropout)          (None, 128, 128, 40) 0           block2d_project_bn[0][0]         \n",
            "__________________________________________________________________________________________________\n",
            "block2d_add (Add)               (None, 128, 128, 40) 0           block2d_drop[0][0]               \n",
            "                                                                 block2c_add[0][0]                \n",
            "__________________________________________________________________________________________________\n",
            "block2e_expand_conv (Conv2D)    (None, 128, 128, 240 9600        block2d_add[0][0]                \n",
            "__________________________________________________________________________________________________\n",
            "block2e_expand_bn (BatchNormali (None, 128, 128, 240 960         block2e_expand_conv[0][0]        \n",
            "__________________________________________________________________________________________________\n",
            "block2e_expand_activation (Acti (None, 128, 128, 240 0           block2e_expand_bn[0][0]          \n",
            "__________________________________________________________________________________________________\n",
            "block2e_dwconv (DepthwiseConv2D (None, 128, 128, 240 2160        block2e_expand_activation[0][0]  \n",
            "__________________________________________________________________________________________________\n",
            "block2e_bn (BatchNormalization) (None, 128, 128, 240 960         block2e_dwconv[0][0]             \n",
            "__________________________________________________________________________________________________\n",
            "block2e_activation (Activation) (None, 128, 128, 240 0           block2e_bn[0][0]                 \n",
            "__________________________________________________________________________________________________\n",
            "block2e_se_squeeze (GlobalAvera (None, 240)          0           block2e_activation[0][0]         \n",
            "__________________________________________________________________________________________________\n",
            "block2e_se_reshape (Reshape)    (None, 1, 1, 240)    0           block2e_se_squeeze[0][0]         \n",
            "__________________________________________________________________________________________________\n",
            "block2e_se_reduce (Conv2D)      (None, 1, 1, 10)     2410        block2e_se_reshape[0][0]         \n",
            "__________________________________________________________________________________________________\n",
            "block2e_se_expand (Conv2D)      (None, 1, 1, 240)    2640        block2e_se_reduce[0][0]          \n",
            "__________________________________________________________________________________________________\n",
            "block2e_se_excite (Multiply)    (None, 128, 128, 240 0           block2e_activation[0][0]         \n",
            "                                                                 block2e_se_expand[0][0]          \n",
            "__________________________________________________________________________________________________\n",
            "block2e_project_conv (Conv2D)   (None, 128, 128, 40) 9600        block2e_se_excite[0][0]          \n",
            "__________________________________________________________________________________________________\n",
            "block2e_project_bn (BatchNormal (None, 128, 128, 40) 160         block2e_project_conv[0][0]       \n",
            "__________________________________________________________________________________________________\n",
            "block2e_drop (Dropout)          (None, 128, 128, 40) 0           block2e_project_bn[0][0]         \n",
            "__________________________________________________________________________________________________\n",
            "block2e_add (Add)               (None, 128, 128, 40) 0           block2e_drop[0][0]               \n",
            "                                                                 block2d_add[0][0]                \n",
            "__________________________________________________________________________________________________\n",
            "block3a_expand_conv (Conv2D)    (None, 128, 128, 240 9600        block2e_add[0][0]                \n",
            "__________________________________________________________________________________________________\n",
            "block3a_expand_bn (BatchNormali (None, 128, 128, 240 960         block3a_expand_conv[0][0]        \n",
            "__________________________________________________________________________________________________\n",
            "block3a_expand_activation (Acti (None, 128, 128, 240 0           block3a_expand_bn[0][0]          \n",
            "__________________________________________________________________________________________________\n",
            "block3a_dwconv_pad (ZeroPadding (None, 131, 131, 240 0           block3a_expand_activation[0][0]  \n",
            "__________________________________________________________________________________________________\n",
            "block3a_dwconv (DepthwiseConv2D (None, 64, 64, 240)  6000        block3a_dwconv_pad[0][0]         \n",
            "__________________________________________________________________________________________________\n",
            "block3a_bn (BatchNormalization) (None, 64, 64, 240)  960         block3a_dwconv[0][0]             \n",
            "__________________________________________________________________________________________________\n",
            "block3a_activation (Activation) (None, 64, 64, 240)  0           block3a_bn[0][0]                 \n",
            "__________________________________________________________________________________________________\n",
            "block3a_se_squeeze (GlobalAvera (None, 240)          0           block3a_activation[0][0]         \n",
            "__________________________________________________________________________________________________\n",
            "block3a_se_reshape (Reshape)    (None, 1, 1, 240)    0           block3a_se_squeeze[0][0]         \n",
            "__________________________________________________________________________________________________\n",
            "block3a_se_reduce (Conv2D)      (None, 1, 1, 10)     2410        block3a_se_reshape[0][0]         \n",
            "__________________________________________________________________________________________________\n",
            "block3a_se_expand (Conv2D)      (None, 1, 1, 240)    2640        block3a_se_reduce[0][0]          \n",
            "__________________________________________________________________________________________________\n",
            "block3a_se_excite (Multiply)    (None, 64, 64, 240)  0           block3a_activation[0][0]         \n",
            "                                                                 block3a_se_expand[0][0]          \n",
            "__________________________________________________________________________________________________\n",
            "block3a_project_conv (Conv2D)   (None, 64, 64, 64)   15360       block3a_se_excite[0][0]          \n",
            "__________________________________________________________________________________________________\n",
            "block3a_project_bn (BatchNormal (None, 64, 64, 64)   256         block3a_project_conv[0][0]       \n",
            "__________________________________________________________________________________________________\n",
            "block3b_expand_conv (Conv2D)    (None, 64, 64, 384)  24576       block3a_project_bn[0][0]         \n",
            "__________________________________________________________________________________________________\n",
            "block3b_expand_bn (BatchNormali (None, 64, 64, 384)  1536        block3b_expand_conv[0][0]        \n",
            "__________________________________________________________________________________________________\n",
            "block3b_expand_activation (Acti (None, 64, 64, 384)  0           block3b_expand_bn[0][0]          \n",
            "__________________________________________________________________________________________________\n",
            "block3b_dwconv (DepthwiseConv2D (None, 64, 64, 384)  9600        block3b_expand_activation[0][0]  \n",
            "__________________________________________________________________________________________________\n",
            "block3b_bn (BatchNormalization) (None, 64, 64, 384)  1536        block3b_dwconv[0][0]             \n",
            "__________________________________________________________________________________________________\n",
            "block3b_activation (Activation) (None, 64, 64, 384)  0           block3b_bn[0][0]                 \n",
            "__________________________________________________________________________________________________\n",
            "block3b_se_squeeze (GlobalAvera (None, 384)          0           block3b_activation[0][0]         \n",
            "__________________________________________________________________________________________________\n",
            "block3b_se_reshape (Reshape)    (None, 1, 1, 384)    0           block3b_se_squeeze[0][0]         \n",
            "__________________________________________________________________________________________________\n",
            "block3b_se_reduce (Conv2D)      (None, 1, 1, 16)     6160        block3b_se_reshape[0][0]         \n",
            "__________________________________________________________________________________________________\n",
            "block3b_se_expand (Conv2D)      (None, 1, 1, 384)    6528        block3b_se_reduce[0][0]          \n",
            "__________________________________________________________________________________________________\n",
            "block3b_se_excite (Multiply)    (None, 64, 64, 384)  0           block3b_activation[0][0]         \n",
            "                                                                 block3b_se_expand[0][0]          \n",
            "__________________________________________________________________________________________________\n",
            "block3b_project_conv (Conv2D)   (None, 64, 64, 64)   24576       block3b_se_excite[0][0]          \n",
            "__________________________________________________________________________________________________\n",
            "block3b_project_bn (BatchNormal (None, 64, 64, 64)   256         block3b_project_conv[0][0]       \n",
            "__________________________________________________________________________________________________\n",
            "block3b_drop (Dropout)          (None, 64, 64, 64)   0           block3b_project_bn[0][0]         \n",
            "__________________________________________________________________________________________________\n",
            "block3b_add (Add)               (None, 64, 64, 64)   0           block3b_drop[0][0]               \n",
            "                                                                 block3a_project_bn[0][0]         \n",
            "__________________________________________________________________________________________________\n",
            "block3c_expand_conv (Conv2D)    (None, 64, 64, 384)  24576       block3b_add[0][0]                \n",
            "__________________________________________________________________________________________________\n",
            "block3c_expand_bn (BatchNormali (None, 64, 64, 384)  1536        block3c_expand_conv[0][0]        \n",
            "__________________________________________________________________________________________________\n",
            "block3c_expand_activation (Acti (None, 64, 64, 384)  0           block3c_expand_bn[0][0]          \n",
            "__________________________________________________________________________________________________\n",
            "block3c_dwconv (DepthwiseConv2D (None, 64, 64, 384)  9600        block3c_expand_activation[0][0]  \n",
            "__________________________________________________________________________________________________\n",
            "block3c_bn (BatchNormalization) (None, 64, 64, 384)  1536        block3c_dwconv[0][0]             \n",
            "__________________________________________________________________________________________________\n",
            "block3c_activation (Activation) (None, 64, 64, 384)  0           block3c_bn[0][0]                 \n",
            "__________________________________________________________________________________________________\n",
            "block3c_se_squeeze (GlobalAvera (None, 384)          0           block3c_activation[0][0]         \n",
            "__________________________________________________________________________________________________\n",
            "block3c_se_reshape (Reshape)    (None, 1, 1, 384)    0           block3c_se_squeeze[0][0]         \n",
            "__________________________________________________________________________________________________\n",
            "block3c_se_reduce (Conv2D)      (None, 1, 1, 16)     6160        block3c_se_reshape[0][0]         \n",
            "__________________________________________________________________________________________________\n",
            "block3c_se_expand (Conv2D)      (None, 1, 1, 384)    6528        block3c_se_reduce[0][0]          \n",
            "__________________________________________________________________________________________________\n",
            "block3c_se_excite (Multiply)    (None, 64, 64, 384)  0           block3c_activation[0][0]         \n",
            "                                                                 block3c_se_expand[0][0]          \n",
            "__________________________________________________________________________________________________\n",
            "block3c_project_conv (Conv2D)   (None, 64, 64, 64)   24576       block3c_se_excite[0][0]          \n",
            "__________________________________________________________________________________________________\n",
            "block3c_project_bn (BatchNormal (None, 64, 64, 64)   256         block3c_project_conv[0][0]       \n",
            "__________________________________________________________________________________________________\n",
            "block3c_drop (Dropout)          (None, 64, 64, 64)   0           block3c_project_bn[0][0]         \n",
            "__________________________________________________________________________________________________\n",
            "block3c_add (Add)               (None, 64, 64, 64)   0           block3c_drop[0][0]               \n",
            "                                                                 block3b_add[0][0]                \n",
            "__________________________________________________________________________________________________\n",
            "block3d_expand_conv (Conv2D)    (None, 64, 64, 384)  24576       block3c_add[0][0]                \n",
            "__________________________________________________________________________________________________\n",
            "block3d_expand_bn (BatchNormali (None, 64, 64, 384)  1536        block3d_expand_conv[0][0]        \n",
            "__________________________________________________________________________________________________\n",
            "block3d_expand_activation (Acti (None, 64, 64, 384)  0           block3d_expand_bn[0][0]          \n",
            "__________________________________________________________________________________________________\n",
            "block3d_dwconv (DepthwiseConv2D (None, 64, 64, 384)  9600        block3d_expand_activation[0][0]  \n",
            "__________________________________________________________________________________________________\n",
            "block3d_bn (BatchNormalization) (None, 64, 64, 384)  1536        block3d_dwconv[0][0]             \n",
            "__________________________________________________________________________________________________\n",
            "block3d_activation (Activation) (None, 64, 64, 384)  0           block3d_bn[0][0]                 \n",
            "__________________________________________________________________________________________________\n",
            "block3d_se_squeeze (GlobalAvera (None, 384)          0           block3d_activation[0][0]         \n",
            "__________________________________________________________________________________________________\n",
            "block3d_se_reshape (Reshape)    (None, 1, 1, 384)    0           block3d_se_squeeze[0][0]         \n",
            "__________________________________________________________________________________________________\n",
            "block3d_se_reduce (Conv2D)      (None, 1, 1, 16)     6160        block3d_se_reshape[0][0]         \n",
            "__________________________________________________________________________________________________\n",
            "block3d_se_expand (Conv2D)      (None, 1, 1, 384)    6528        block3d_se_reduce[0][0]          \n",
            "__________________________________________________________________________________________________\n",
            "block3d_se_excite (Multiply)    (None, 64, 64, 384)  0           block3d_activation[0][0]         \n",
            "                                                                 block3d_se_expand[0][0]          \n",
            "__________________________________________________________________________________________________\n",
            "block3d_project_conv (Conv2D)   (None, 64, 64, 64)   24576       block3d_se_excite[0][0]          \n",
            "__________________________________________________________________________________________________\n",
            "block3d_project_bn (BatchNormal (None, 64, 64, 64)   256         block3d_project_conv[0][0]       \n",
            "__________________________________________________________________________________________________\n",
            "block3d_drop (Dropout)          (None, 64, 64, 64)   0           block3d_project_bn[0][0]         \n",
            "__________________________________________________________________________________________________\n",
            "block3d_add (Add)               (None, 64, 64, 64)   0           block3d_drop[0][0]               \n",
            "                                                                 block3c_add[0][0]                \n",
            "__________________________________________________________________________________________________\n",
            "block3e_expand_conv (Conv2D)    (None, 64, 64, 384)  24576       block3d_add[0][0]                \n",
            "__________________________________________________________________________________________________\n",
            "block3e_expand_bn (BatchNormali (None, 64, 64, 384)  1536        block3e_expand_conv[0][0]        \n",
            "__________________________________________________________________________________________________\n",
            "block3e_expand_activation (Acti (None, 64, 64, 384)  0           block3e_expand_bn[0][0]          \n",
            "__________________________________________________________________________________________________\n",
            "block3e_dwconv (DepthwiseConv2D (None, 64, 64, 384)  9600        block3e_expand_activation[0][0]  \n",
            "__________________________________________________________________________________________________\n",
            "block3e_bn (BatchNormalization) (None, 64, 64, 384)  1536        block3e_dwconv[0][0]             \n",
            "__________________________________________________________________________________________________\n",
            "block3e_activation (Activation) (None, 64, 64, 384)  0           block3e_bn[0][0]                 \n",
            "__________________________________________________________________________________________________\n",
            "block3e_se_squeeze (GlobalAvera (None, 384)          0           block3e_activation[0][0]         \n",
            "__________________________________________________________________________________________________\n",
            "block3e_se_reshape (Reshape)    (None, 1, 1, 384)    0           block3e_se_squeeze[0][0]         \n",
            "__________________________________________________________________________________________________\n",
            "block3e_se_reduce (Conv2D)      (None, 1, 1, 16)     6160        block3e_se_reshape[0][0]         \n",
            "__________________________________________________________________________________________________\n",
            "block3e_se_expand (Conv2D)      (None, 1, 1, 384)    6528        block3e_se_reduce[0][0]          \n",
            "__________________________________________________________________________________________________\n",
            "block3e_se_excite (Multiply)    (None, 64, 64, 384)  0           block3e_activation[0][0]         \n",
            "                                                                 block3e_se_expand[0][0]          \n",
            "__________________________________________________________________________________________________\n",
            "block3e_project_conv (Conv2D)   (None, 64, 64, 64)   24576       block3e_se_excite[0][0]          \n",
            "__________________________________________________________________________________________________\n",
            "block3e_project_bn (BatchNormal (None, 64, 64, 64)   256         block3e_project_conv[0][0]       \n",
            "__________________________________________________________________________________________________\n",
            "block3e_drop (Dropout)          (None, 64, 64, 64)   0           block3e_project_bn[0][0]         \n",
            "__________________________________________________________________________________________________\n",
            "block3e_add (Add)               (None, 64, 64, 64)   0           block3e_drop[0][0]               \n",
            "                                                                 block3d_add[0][0]                \n",
            "__________________________________________________________________________________________________\n",
            "block4a_expand_conv (Conv2D)    (None, 64, 64, 384)  24576       block3e_add[0][0]                \n",
            "__________________________________________________________________________________________________\n",
            "block4a_expand_bn (BatchNormali (None, 64, 64, 384)  1536        block4a_expand_conv[0][0]        \n",
            "__________________________________________________________________________________________________\n",
            "block4a_expand_activation (Acti (None, 64, 64, 384)  0           block4a_expand_bn[0][0]          \n",
            "__________________________________________________________________________________________________\n",
            "block4a_dwconv_pad (ZeroPadding (None, 65, 65, 384)  0           block4a_expand_activation[0][0]  \n",
            "__________________________________________________________________________________________________\n",
            "block4a_dwconv (DepthwiseConv2D (None, 32, 32, 384)  3456        block4a_dwconv_pad[0][0]         \n",
            "__________________________________________________________________________________________________\n",
            "block4a_bn (BatchNormalization) (None, 32, 32, 384)  1536        block4a_dwconv[0][0]             \n",
            "__________________________________________________________________________________________________\n",
            "block4a_activation (Activation) (None, 32, 32, 384)  0           block4a_bn[0][0]                 \n",
            "__________________________________________________________________________________________________\n",
            "block4a_se_squeeze (GlobalAvera (None, 384)          0           block4a_activation[0][0]         \n",
            "__________________________________________________________________________________________________\n",
            "block4a_se_reshape (Reshape)    (None, 1, 1, 384)    0           block4a_se_squeeze[0][0]         \n",
            "__________________________________________________________________________________________________\n",
            "block4a_se_reduce (Conv2D)      (None, 1, 1, 16)     6160        block4a_se_reshape[0][0]         \n",
            "__________________________________________________________________________________________________\n",
            "block4a_se_expand (Conv2D)      (None, 1, 1, 384)    6528        block4a_se_reduce[0][0]          \n",
            "__________________________________________________________________________________________________\n",
            "block4a_se_excite (Multiply)    (None, 32, 32, 384)  0           block4a_activation[0][0]         \n",
            "                                                                 block4a_se_expand[0][0]          \n",
            "__________________________________________________________________________________________________\n",
            "block4a_project_conv (Conv2D)   (None, 32, 32, 128)  49152       block4a_se_excite[0][0]          \n",
            "__________________________________________________________________________________________________\n",
            "block4a_project_bn (BatchNormal (None, 32, 32, 128)  512         block4a_project_conv[0][0]       \n",
            "__________________________________________________________________________________________________\n",
            "block4b_expand_conv (Conv2D)    (None, 32, 32, 768)  98304       block4a_project_bn[0][0]         \n",
            "__________________________________________________________________________________________________\n",
            "block4b_expand_bn (BatchNormali (None, 32, 32, 768)  3072        block4b_expand_conv[0][0]        \n",
            "__________________________________________________________________________________________________\n",
            "block4b_expand_activation (Acti (None, 32, 32, 768)  0           block4b_expand_bn[0][0]          \n",
            "__________________________________________________________________________________________________\n",
            "block4b_dwconv (DepthwiseConv2D (None, 32, 32, 768)  6912        block4b_expand_activation[0][0]  \n",
            "__________________________________________________________________________________________________\n",
            "block4b_bn (BatchNormalization) (None, 32, 32, 768)  3072        block4b_dwconv[0][0]             \n",
            "__________________________________________________________________________________________________\n",
            "block4b_activation (Activation) (None, 32, 32, 768)  0           block4b_bn[0][0]                 \n",
            "__________________________________________________________________________________________________\n",
            "block4b_se_squeeze (GlobalAvera (None, 768)          0           block4b_activation[0][0]         \n",
            "__________________________________________________________________________________________________\n",
            "block4b_se_reshape (Reshape)    (None, 1, 1, 768)    0           block4b_se_squeeze[0][0]         \n",
            "__________________________________________________________________________________________________\n",
            "block4b_se_reduce (Conv2D)      (None, 1, 1, 32)     24608       block4b_se_reshape[0][0]         \n",
            "__________________________________________________________________________________________________\n",
            "block4b_se_expand (Conv2D)      (None, 1, 1, 768)    25344       block4b_se_reduce[0][0]          \n",
            "__________________________________________________________________________________________________\n",
            "block4b_se_excite (Multiply)    (None, 32, 32, 768)  0           block4b_activation[0][0]         \n",
            "                                                                 block4b_se_expand[0][0]          \n",
            "__________________________________________________________________________________________________\n",
            "block4b_project_conv (Conv2D)   (None, 32, 32, 128)  98304       block4b_se_excite[0][0]          \n",
            "__________________________________________________________________________________________________\n",
            "block4b_project_bn (BatchNormal (None, 32, 32, 128)  512         block4b_project_conv[0][0]       \n",
            "__________________________________________________________________________________________________\n",
            "block4b_drop (Dropout)          (None, 32, 32, 128)  0           block4b_project_bn[0][0]         \n",
            "__________________________________________________________________________________________________\n",
            "block4b_add (Add)               (None, 32, 32, 128)  0           block4b_drop[0][0]               \n",
            "                                                                 block4a_project_bn[0][0]         \n",
            "__________________________________________________________________________________________________\n",
            "block4c_expand_conv (Conv2D)    (None, 32, 32, 768)  98304       block4b_add[0][0]                \n",
            "__________________________________________________________________________________________________\n",
            "block4c_expand_bn (BatchNormali (None, 32, 32, 768)  3072        block4c_expand_conv[0][0]        \n",
            "__________________________________________________________________________________________________\n",
            "block4c_expand_activation (Acti (None, 32, 32, 768)  0           block4c_expand_bn[0][0]          \n",
            "__________________________________________________________________________________________________\n",
            "block4c_dwconv (DepthwiseConv2D (None, 32, 32, 768)  6912        block4c_expand_activation[0][0]  \n",
            "__________________________________________________________________________________________________\n",
            "block4c_bn (BatchNormalization) (None, 32, 32, 768)  3072        block4c_dwconv[0][0]             \n",
            "__________________________________________________________________________________________________\n",
            "block4c_activation (Activation) (None, 32, 32, 768)  0           block4c_bn[0][0]                 \n",
            "__________________________________________________________________________________________________\n",
            "block4c_se_squeeze (GlobalAvera (None, 768)          0           block4c_activation[0][0]         \n",
            "__________________________________________________________________________________________________\n",
            "block4c_se_reshape (Reshape)    (None, 1, 1, 768)    0           block4c_se_squeeze[0][0]         \n",
            "__________________________________________________________________________________________________\n",
            "block4c_se_reduce (Conv2D)      (None, 1, 1, 32)     24608       block4c_se_reshape[0][0]         \n",
            "__________________________________________________________________________________________________\n",
            "block4c_se_expand (Conv2D)      (None, 1, 1, 768)    25344       block4c_se_reduce[0][0]          \n",
            "__________________________________________________________________________________________________\n",
            "block4c_se_excite (Multiply)    (None, 32, 32, 768)  0           block4c_activation[0][0]         \n",
            "                                                                 block4c_se_expand[0][0]          \n",
            "__________________________________________________________________________________________________\n",
            "block4c_project_conv (Conv2D)   (None, 32, 32, 128)  98304       block4c_se_excite[0][0]          \n",
            "__________________________________________________________________________________________________\n",
            "block4c_project_bn (BatchNormal (None, 32, 32, 128)  512         block4c_project_conv[0][0]       \n",
            "__________________________________________________________________________________________________\n",
            "block4c_drop (Dropout)          (None, 32, 32, 128)  0           block4c_project_bn[0][0]         \n",
            "__________________________________________________________________________________________________\n",
            "block4c_add (Add)               (None, 32, 32, 128)  0           block4c_drop[0][0]               \n",
            "                                                                 block4b_add[0][0]                \n",
            "__________________________________________________________________________________________________\n",
            "block4d_expand_conv (Conv2D)    (None, 32, 32, 768)  98304       block4c_add[0][0]                \n",
            "__________________________________________________________________________________________________\n",
            "block4d_expand_bn (BatchNormali (None, 32, 32, 768)  3072        block4d_expand_conv[0][0]        \n",
            "__________________________________________________________________________________________________\n",
            "block4d_expand_activation (Acti (None, 32, 32, 768)  0           block4d_expand_bn[0][0]          \n",
            "__________________________________________________________________________________________________\n",
            "block4d_dwconv (DepthwiseConv2D (None, 32, 32, 768)  6912        block4d_expand_activation[0][0]  \n",
            "__________________________________________________________________________________________________\n",
            "block4d_bn (BatchNormalization) (None, 32, 32, 768)  3072        block4d_dwconv[0][0]             \n",
            "__________________________________________________________________________________________________\n",
            "block4d_activation (Activation) (None, 32, 32, 768)  0           block4d_bn[0][0]                 \n",
            "__________________________________________________________________________________________________\n",
            "block4d_se_squeeze (GlobalAvera (None, 768)          0           block4d_activation[0][0]         \n",
            "__________________________________________________________________________________________________\n",
            "block4d_se_reshape (Reshape)    (None, 1, 1, 768)    0           block4d_se_squeeze[0][0]         \n",
            "__________________________________________________________________________________________________\n",
            "block4d_se_reduce (Conv2D)      (None, 1, 1, 32)     24608       block4d_se_reshape[0][0]         \n",
            "__________________________________________________________________________________________________\n",
            "block4d_se_expand (Conv2D)      (None, 1, 1, 768)    25344       block4d_se_reduce[0][0]          \n",
            "__________________________________________________________________________________________________\n",
            "block4d_se_excite (Multiply)    (None, 32, 32, 768)  0           block4d_activation[0][0]         \n",
            "                                                                 block4d_se_expand[0][0]          \n",
            "__________________________________________________________________________________________________\n",
            "block4d_project_conv (Conv2D)   (None, 32, 32, 128)  98304       block4d_se_excite[0][0]          \n",
            "__________________________________________________________________________________________________\n",
            "block4d_project_bn (BatchNormal (None, 32, 32, 128)  512         block4d_project_conv[0][0]       \n",
            "__________________________________________________________________________________________________\n",
            "block4d_drop (Dropout)          (None, 32, 32, 128)  0           block4d_project_bn[0][0]         \n",
            "__________________________________________________________________________________________________\n",
            "block4d_add (Add)               (None, 32, 32, 128)  0           block4d_drop[0][0]               \n",
            "                                                                 block4c_add[0][0]                \n",
            "__________________________________________________________________________________________________\n",
            "block4e_expand_conv (Conv2D)    (None, 32, 32, 768)  98304       block4d_add[0][0]                \n",
            "__________________________________________________________________________________________________\n",
            "block4e_expand_bn (BatchNormali (None, 32, 32, 768)  3072        block4e_expand_conv[0][0]        \n",
            "__________________________________________________________________________________________________\n",
            "block4e_expand_activation (Acti (None, 32, 32, 768)  0           block4e_expand_bn[0][0]          \n",
            "__________________________________________________________________________________________________\n",
            "block4e_dwconv (DepthwiseConv2D (None, 32, 32, 768)  6912        block4e_expand_activation[0][0]  \n",
            "__________________________________________________________________________________________________\n",
            "block4e_bn (BatchNormalization) (None, 32, 32, 768)  3072        block4e_dwconv[0][0]             \n",
            "__________________________________________________________________________________________________\n",
            "block4e_activation (Activation) (None, 32, 32, 768)  0           block4e_bn[0][0]                 \n",
            "__________________________________________________________________________________________________\n",
            "block4e_se_squeeze (GlobalAvera (None, 768)          0           block4e_activation[0][0]         \n",
            "__________________________________________________________________________________________________\n",
            "block4e_se_reshape (Reshape)    (None, 1, 1, 768)    0           block4e_se_squeeze[0][0]         \n",
            "__________________________________________________________________________________________________\n",
            "block4e_se_reduce (Conv2D)      (None, 1, 1, 32)     24608       block4e_se_reshape[0][0]         \n",
            "__________________________________________________________________________________________________\n",
            "block4e_se_expand (Conv2D)      (None, 1, 1, 768)    25344       block4e_se_reduce[0][0]          \n",
            "__________________________________________________________________________________________________\n",
            "block4e_se_excite (Multiply)    (None, 32, 32, 768)  0           block4e_activation[0][0]         \n",
            "                                                                 block4e_se_expand[0][0]          \n",
            "__________________________________________________________________________________________________\n",
            "block4e_project_conv (Conv2D)   (None, 32, 32, 128)  98304       block4e_se_excite[0][0]          \n",
            "__________________________________________________________________________________________________\n",
            "block4e_project_bn (BatchNormal (None, 32, 32, 128)  512         block4e_project_conv[0][0]       \n",
            "__________________________________________________________________________________________________\n",
            "block4e_drop (Dropout)          (None, 32, 32, 128)  0           block4e_project_bn[0][0]         \n",
            "__________________________________________________________________________________________________\n",
            "block4e_add (Add)               (None, 32, 32, 128)  0           block4e_drop[0][0]               \n",
            "                                                                 block4d_add[0][0]                \n",
            "__________________________________________________________________________________________________\n",
            "block4f_expand_conv (Conv2D)    (None, 32, 32, 768)  98304       block4e_add[0][0]                \n",
            "__________________________________________________________________________________________________\n",
            "block4f_expand_bn (BatchNormali (None, 32, 32, 768)  3072        block4f_expand_conv[0][0]        \n",
            "__________________________________________________________________________________________________\n",
            "block4f_expand_activation (Acti (None, 32, 32, 768)  0           block4f_expand_bn[0][0]          \n",
            "__________________________________________________________________________________________________\n",
            "block4f_dwconv (DepthwiseConv2D (None, 32, 32, 768)  6912        block4f_expand_activation[0][0]  \n",
            "__________________________________________________________________________________________________\n",
            "block4f_bn (BatchNormalization) (None, 32, 32, 768)  3072        block4f_dwconv[0][0]             \n",
            "__________________________________________________________________________________________________\n",
            "block4f_activation (Activation) (None, 32, 32, 768)  0           block4f_bn[0][0]                 \n",
            "__________________________________________________________________________________________________\n",
            "block4f_se_squeeze (GlobalAvera (None, 768)          0           block4f_activation[0][0]         \n",
            "__________________________________________________________________________________________________\n",
            "block4f_se_reshape (Reshape)    (None, 1, 1, 768)    0           block4f_se_squeeze[0][0]         \n",
            "__________________________________________________________________________________________________\n",
            "block4f_se_reduce (Conv2D)      (None, 1, 1, 32)     24608       block4f_se_reshape[0][0]         \n",
            "__________________________________________________________________________________________________\n",
            "block4f_se_expand (Conv2D)      (None, 1, 1, 768)    25344       block4f_se_reduce[0][0]          \n",
            "__________________________________________________________________________________________________\n",
            "block4f_se_excite (Multiply)    (None, 32, 32, 768)  0           block4f_activation[0][0]         \n",
            "                                                                 block4f_se_expand[0][0]          \n",
            "__________________________________________________________________________________________________\n",
            "block4f_project_conv (Conv2D)   (None, 32, 32, 128)  98304       block4f_se_excite[0][0]          \n",
            "__________________________________________________________________________________________________\n",
            "block4f_project_bn (BatchNormal (None, 32, 32, 128)  512         block4f_project_conv[0][0]       \n",
            "__________________________________________________________________________________________________\n",
            "block4f_drop (Dropout)          (None, 32, 32, 128)  0           block4f_project_bn[0][0]         \n",
            "__________________________________________________________________________________________________\n",
            "block4f_add (Add)               (None, 32, 32, 128)  0           block4f_drop[0][0]               \n",
            "                                                                 block4e_add[0][0]                \n",
            "__________________________________________________________________________________________________\n",
            "block4g_expand_conv (Conv2D)    (None, 32, 32, 768)  98304       block4f_add[0][0]                \n",
            "__________________________________________________________________________________________________\n",
            "block4g_expand_bn (BatchNormali (None, 32, 32, 768)  3072        block4g_expand_conv[0][0]        \n",
            "__________________________________________________________________________________________________\n",
            "block4g_expand_activation (Acti (None, 32, 32, 768)  0           block4g_expand_bn[0][0]          \n",
            "__________________________________________________________________________________________________\n",
            "block4g_dwconv (DepthwiseConv2D (None, 32, 32, 768)  6912        block4g_expand_activation[0][0]  \n",
            "__________________________________________________________________________________________________\n",
            "block4g_bn (BatchNormalization) (None, 32, 32, 768)  3072        block4g_dwconv[0][0]             \n",
            "__________________________________________________________________________________________________\n",
            "block4g_activation (Activation) (None, 32, 32, 768)  0           block4g_bn[0][0]                 \n",
            "__________________________________________________________________________________________________\n",
            "block4g_se_squeeze (GlobalAvera (None, 768)          0           block4g_activation[0][0]         \n",
            "__________________________________________________________________________________________________\n",
            "block4g_se_reshape (Reshape)    (None, 1, 1, 768)    0           block4g_se_squeeze[0][0]         \n",
            "__________________________________________________________________________________________________\n",
            "block4g_se_reduce (Conv2D)      (None, 1, 1, 32)     24608       block4g_se_reshape[0][0]         \n",
            "__________________________________________________________________________________________________\n",
            "block4g_se_expand (Conv2D)      (None, 1, 1, 768)    25344       block4g_se_reduce[0][0]          \n",
            "__________________________________________________________________________________________________\n",
            "block4g_se_excite (Multiply)    (None, 32, 32, 768)  0           block4g_activation[0][0]         \n",
            "                                                                 block4g_se_expand[0][0]          \n",
            "__________________________________________________________________________________________________\n",
            "block4g_project_conv (Conv2D)   (None, 32, 32, 128)  98304       block4g_se_excite[0][0]          \n",
            "__________________________________________________________________________________________________\n",
            "block4g_project_bn (BatchNormal (None, 32, 32, 128)  512         block4g_project_conv[0][0]       \n",
            "__________________________________________________________________________________________________\n",
            "block4g_drop (Dropout)          (None, 32, 32, 128)  0           block4g_project_bn[0][0]         \n",
            "__________________________________________________________________________________________________\n",
            "block4g_add (Add)               (None, 32, 32, 128)  0           block4g_drop[0][0]               \n",
            "                                                                 block4f_add[0][0]                \n",
            "__________________________________________________________________________________________________\n",
            "block5a_expand_conv (Conv2D)    (None, 32, 32, 768)  98304       block4g_add[0][0]                \n",
            "__________________________________________________________________________________________________\n",
            "block5a_expand_bn (BatchNormali (None, 32, 32, 768)  3072        block5a_expand_conv[0][0]        \n",
            "__________________________________________________________________________________________________\n",
            "block5a_expand_activation (Acti (None, 32, 32, 768)  0           block5a_expand_bn[0][0]          \n",
            "__________________________________________________________________________________________________\n",
            "block5a_dwconv (DepthwiseConv2D (None, 32, 32, 768)  19200       block5a_expand_activation[0][0]  \n",
            "__________________________________________________________________________________________________\n",
            "block5a_bn (BatchNormalization) (None, 32, 32, 768)  3072        block5a_dwconv[0][0]             \n",
            "__________________________________________________________________________________________________\n",
            "block5a_activation (Activation) (None, 32, 32, 768)  0           block5a_bn[0][0]                 \n",
            "__________________________________________________________________________________________________\n",
            "block5a_se_squeeze (GlobalAvera (None, 768)          0           block5a_activation[0][0]         \n",
            "__________________________________________________________________________________________________\n",
            "block5a_se_reshape (Reshape)    (None, 1, 1, 768)    0           block5a_se_squeeze[0][0]         \n",
            "__________________________________________________________________________________________________\n",
            "block5a_se_reduce (Conv2D)      (None, 1, 1, 32)     24608       block5a_se_reshape[0][0]         \n",
            "__________________________________________________________________________________________________\n",
            "block5a_se_expand (Conv2D)      (None, 1, 1, 768)    25344       block5a_se_reduce[0][0]          \n",
            "__________________________________________________________________________________________________\n",
            "block5a_se_excite (Multiply)    (None, 32, 32, 768)  0           block5a_activation[0][0]         \n",
            "                                                                 block5a_se_expand[0][0]          \n",
            "__________________________________________________________________________________________________\n",
            "block5a_project_conv (Conv2D)   (None, 32, 32, 176)  135168      block5a_se_excite[0][0]          \n",
            "__________________________________________________________________________________________________\n",
            "block5a_project_bn (BatchNormal (None, 32, 32, 176)  704         block5a_project_conv[0][0]       \n",
            "__________________________________________________________________________________________________\n",
            "block5b_expand_conv (Conv2D)    (None, 32, 32, 1056) 185856      block5a_project_bn[0][0]         \n",
            "__________________________________________________________________________________________________\n",
            "block5b_expand_bn (BatchNormali (None, 32, 32, 1056) 4224        block5b_expand_conv[0][0]        \n",
            "__________________________________________________________________________________________________\n",
            "block5b_expand_activation (Acti (None, 32, 32, 1056) 0           block5b_expand_bn[0][0]          \n",
            "__________________________________________________________________________________________________\n",
            "block5b_dwconv (DepthwiseConv2D (None, 32, 32, 1056) 26400       block5b_expand_activation[0][0]  \n",
            "__________________________________________________________________________________________________\n",
            "block5b_bn (BatchNormalization) (None, 32, 32, 1056) 4224        block5b_dwconv[0][0]             \n",
            "__________________________________________________________________________________________________\n",
            "block5b_activation (Activation) (None, 32, 32, 1056) 0           block5b_bn[0][0]                 \n",
            "__________________________________________________________________________________________________\n",
            "block5b_se_squeeze (GlobalAvera (None, 1056)         0           block5b_activation[0][0]         \n",
            "__________________________________________________________________________________________________\n",
            "block5b_se_reshape (Reshape)    (None, 1, 1, 1056)   0           block5b_se_squeeze[0][0]         \n",
            "__________________________________________________________________________________________________\n",
            "block5b_se_reduce (Conv2D)      (None, 1, 1, 44)     46508       block5b_se_reshape[0][0]         \n",
            "__________________________________________________________________________________________________\n",
            "block5b_se_expand (Conv2D)      (None, 1, 1, 1056)   47520       block5b_se_reduce[0][0]          \n",
            "__________________________________________________________________________________________________\n",
            "block5b_se_excite (Multiply)    (None, 32, 32, 1056) 0           block5b_activation[0][0]         \n",
            "                                                                 block5b_se_expand[0][0]          \n",
            "__________________________________________________________________________________________________\n",
            "block5b_project_conv (Conv2D)   (None, 32, 32, 176)  185856      block5b_se_excite[0][0]          \n",
            "__________________________________________________________________________________________________\n",
            "block5b_project_bn (BatchNormal (None, 32, 32, 176)  704         block5b_project_conv[0][0]       \n",
            "__________________________________________________________________________________________________\n",
            "block5b_drop (Dropout)          (None, 32, 32, 176)  0           block5b_project_bn[0][0]         \n",
            "__________________________________________________________________________________________________\n",
            "block5b_add (Add)               (None, 32, 32, 176)  0           block5b_drop[0][0]               \n",
            "                                                                 block5a_project_bn[0][0]         \n",
            "__________________________________________________________________________________________________\n",
            "block5c_expand_conv (Conv2D)    (None, 32, 32, 1056) 185856      block5b_add[0][0]                \n",
            "__________________________________________________________________________________________________\n",
            "block5c_expand_bn (BatchNormali (None, 32, 32, 1056) 4224        block5c_expand_conv[0][0]        \n",
            "__________________________________________________________________________________________________\n",
            "block5c_expand_activation (Acti (None, 32, 32, 1056) 0           block5c_expand_bn[0][0]          \n",
            "__________________________________________________________________________________________________\n",
            "block5c_dwconv (DepthwiseConv2D (None, 32, 32, 1056) 26400       block5c_expand_activation[0][0]  \n",
            "__________________________________________________________________________________________________\n",
            "block5c_bn (BatchNormalization) (None, 32, 32, 1056) 4224        block5c_dwconv[0][0]             \n",
            "__________________________________________________________________________________________________\n",
            "block5c_activation (Activation) (None, 32, 32, 1056) 0           block5c_bn[0][0]                 \n",
            "__________________________________________________________________________________________________\n",
            "block5c_se_squeeze (GlobalAvera (None, 1056)         0           block5c_activation[0][0]         \n",
            "__________________________________________________________________________________________________\n",
            "block5c_se_reshape (Reshape)    (None, 1, 1, 1056)   0           block5c_se_squeeze[0][0]         \n",
            "__________________________________________________________________________________________________\n",
            "block5c_se_reduce (Conv2D)      (None, 1, 1, 44)     46508       block5c_se_reshape[0][0]         \n",
            "__________________________________________________________________________________________________\n",
            "block5c_se_expand (Conv2D)      (None, 1, 1, 1056)   47520       block5c_se_reduce[0][0]          \n",
            "__________________________________________________________________________________________________\n",
            "block5c_se_excite (Multiply)    (None, 32, 32, 1056) 0           block5c_activation[0][0]         \n",
            "                                                                 block5c_se_expand[0][0]          \n",
            "__________________________________________________________________________________________________\n",
            "block5c_project_conv (Conv2D)   (None, 32, 32, 176)  185856      block5c_se_excite[0][0]          \n",
            "__________________________________________________________________________________________________\n",
            "block5c_project_bn (BatchNormal (None, 32, 32, 176)  704         block5c_project_conv[0][0]       \n",
            "__________________________________________________________________________________________________\n",
            "block5c_drop (Dropout)          (None, 32, 32, 176)  0           block5c_project_bn[0][0]         \n",
            "__________________________________________________________________________________________________\n",
            "block5c_add (Add)               (None, 32, 32, 176)  0           block5c_drop[0][0]               \n",
            "                                                                 block5b_add[0][0]                \n",
            "__________________________________________________________________________________________________\n",
            "block5d_expand_conv (Conv2D)    (None, 32, 32, 1056) 185856      block5c_add[0][0]                \n",
            "__________________________________________________________________________________________________\n",
            "block5d_expand_bn (BatchNormali (None, 32, 32, 1056) 4224        block5d_expand_conv[0][0]        \n",
            "__________________________________________________________________________________________________\n",
            "block5d_expand_activation (Acti (None, 32, 32, 1056) 0           block5d_expand_bn[0][0]          \n",
            "__________________________________________________________________________________________________\n",
            "block5d_dwconv (DepthwiseConv2D (None, 32, 32, 1056) 26400       block5d_expand_activation[0][0]  \n",
            "__________________________________________________________________________________________________\n",
            "block5d_bn (BatchNormalization) (None, 32, 32, 1056) 4224        block5d_dwconv[0][0]             \n",
            "__________________________________________________________________________________________________\n",
            "block5d_activation (Activation) (None, 32, 32, 1056) 0           block5d_bn[0][0]                 \n",
            "__________________________________________________________________________________________________\n",
            "block5d_se_squeeze (GlobalAvera (None, 1056)         0           block5d_activation[0][0]         \n",
            "__________________________________________________________________________________________________\n",
            "block5d_se_reshape (Reshape)    (None, 1, 1, 1056)   0           block5d_se_squeeze[0][0]         \n",
            "__________________________________________________________________________________________________\n",
            "block5d_se_reduce (Conv2D)      (None, 1, 1, 44)     46508       block5d_se_reshape[0][0]         \n",
            "__________________________________________________________________________________________________\n",
            "block5d_se_expand (Conv2D)      (None, 1, 1, 1056)   47520       block5d_se_reduce[0][0]          \n",
            "__________________________________________________________________________________________________\n",
            "block5d_se_excite (Multiply)    (None, 32, 32, 1056) 0           block5d_activation[0][0]         \n",
            "                                                                 block5d_se_expand[0][0]          \n",
            "__________________________________________________________________________________________________\n",
            "block5d_project_conv (Conv2D)   (None, 32, 32, 176)  185856      block5d_se_excite[0][0]          \n",
            "__________________________________________________________________________________________________\n",
            "block5d_project_bn (BatchNormal (None, 32, 32, 176)  704         block5d_project_conv[0][0]       \n",
            "__________________________________________________________________________________________________\n",
            "block5d_drop (Dropout)          (None, 32, 32, 176)  0           block5d_project_bn[0][0]         \n",
            "__________________________________________________________________________________________________\n",
            "block5d_add (Add)               (None, 32, 32, 176)  0           block5d_drop[0][0]               \n",
            "                                                                 block5c_add[0][0]                \n",
            "__________________________________________________________________________________________________\n",
            "block5e_expand_conv (Conv2D)    (None, 32, 32, 1056) 185856      block5d_add[0][0]                \n",
            "__________________________________________________________________________________________________\n",
            "block5e_expand_bn (BatchNormali (None, 32, 32, 1056) 4224        block5e_expand_conv[0][0]        \n",
            "__________________________________________________________________________________________________\n",
            "block5e_expand_activation (Acti (None, 32, 32, 1056) 0           block5e_expand_bn[0][0]          \n",
            "__________________________________________________________________________________________________\n",
            "block5e_dwconv (DepthwiseConv2D (None, 32, 32, 1056) 26400       block5e_expand_activation[0][0]  \n",
            "__________________________________________________________________________________________________\n",
            "block5e_bn (BatchNormalization) (None, 32, 32, 1056) 4224        block5e_dwconv[0][0]             \n",
            "__________________________________________________________________________________________________\n",
            "block5e_activation (Activation) (None, 32, 32, 1056) 0           block5e_bn[0][0]                 \n",
            "__________________________________________________________________________________________________\n",
            "block5e_se_squeeze (GlobalAvera (None, 1056)         0           block5e_activation[0][0]         \n",
            "__________________________________________________________________________________________________\n",
            "block5e_se_reshape (Reshape)    (None, 1, 1, 1056)   0           block5e_se_squeeze[0][0]         \n",
            "__________________________________________________________________________________________________\n",
            "block5e_se_reduce (Conv2D)      (None, 1, 1, 44)     46508       block5e_se_reshape[0][0]         \n",
            "__________________________________________________________________________________________________\n",
            "block5e_se_expand (Conv2D)      (None, 1, 1, 1056)   47520       block5e_se_reduce[0][0]          \n",
            "__________________________________________________________________________________________________\n",
            "block5e_se_excite (Multiply)    (None, 32, 32, 1056) 0           block5e_activation[0][0]         \n",
            "                                                                 block5e_se_expand[0][0]          \n",
            "__________________________________________________________________________________________________\n",
            "block5e_project_conv (Conv2D)   (None, 32, 32, 176)  185856      block5e_se_excite[0][0]          \n",
            "__________________________________________________________________________________________________\n",
            "block5e_project_bn (BatchNormal (None, 32, 32, 176)  704         block5e_project_conv[0][0]       \n",
            "__________________________________________________________________________________________________\n",
            "block5e_drop (Dropout)          (None, 32, 32, 176)  0           block5e_project_bn[0][0]         \n",
            "__________________________________________________________________________________________________\n",
            "block5e_add (Add)               (None, 32, 32, 176)  0           block5e_drop[0][0]               \n",
            "                                                                 block5d_add[0][0]                \n",
            "__________________________________________________________________________________________________\n",
            "block5f_expand_conv (Conv2D)    (None, 32, 32, 1056) 185856      block5e_add[0][0]                \n",
            "__________________________________________________________________________________________________\n",
            "block5f_expand_bn (BatchNormali (None, 32, 32, 1056) 4224        block5f_expand_conv[0][0]        \n",
            "__________________________________________________________________________________________________\n",
            "block5f_expand_activation (Acti (None, 32, 32, 1056) 0           block5f_expand_bn[0][0]          \n",
            "__________________________________________________________________________________________________\n",
            "block5f_dwconv (DepthwiseConv2D (None, 32, 32, 1056) 26400       block5f_expand_activation[0][0]  \n",
            "__________________________________________________________________________________________________\n",
            "block5f_bn (BatchNormalization) (None, 32, 32, 1056) 4224        block5f_dwconv[0][0]             \n",
            "__________________________________________________________________________________________________\n",
            "block5f_activation (Activation) (None, 32, 32, 1056) 0           block5f_bn[0][0]                 \n",
            "__________________________________________________________________________________________________\n",
            "block5f_se_squeeze (GlobalAvera (None, 1056)         0           block5f_activation[0][0]         \n",
            "__________________________________________________________________________________________________\n",
            "block5f_se_reshape (Reshape)    (None, 1, 1, 1056)   0           block5f_se_squeeze[0][0]         \n",
            "__________________________________________________________________________________________________\n",
            "block5f_se_reduce (Conv2D)      (None, 1, 1, 44)     46508       block5f_se_reshape[0][0]         \n",
            "__________________________________________________________________________________________________\n",
            "block5f_se_expand (Conv2D)      (None, 1, 1, 1056)   47520       block5f_se_reduce[0][0]          \n",
            "__________________________________________________________________________________________________\n",
            "block5f_se_excite (Multiply)    (None, 32, 32, 1056) 0           block5f_activation[0][0]         \n",
            "                                                                 block5f_se_expand[0][0]          \n",
            "__________________________________________________________________________________________________\n",
            "block5f_project_conv (Conv2D)   (None, 32, 32, 176)  185856      block5f_se_excite[0][0]          \n",
            "__________________________________________________________________________________________________\n",
            "block5f_project_bn (BatchNormal (None, 32, 32, 176)  704         block5f_project_conv[0][0]       \n",
            "__________________________________________________________________________________________________\n",
            "block5f_drop (Dropout)          (None, 32, 32, 176)  0           block5f_project_bn[0][0]         \n",
            "__________________________________________________________________________________________________\n",
            "block5f_add (Add)               (None, 32, 32, 176)  0           block5f_drop[0][0]               \n",
            "                                                                 block5e_add[0][0]                \n",
            "__________________________________________________________________________________________________\n",
            "block5g_expand_conv (Conv2D)    (None, 32, 32, 1056) 185856      block5f_add[0][0]                \n",
            "__________________________________________________________________________________________________\n",
            "block5g_expand_bn (BatchNormali (None, 32, 32, 1056) 4224        block5g_expand_conv[0][0]        \n",
            "__________________________________________________________________________________________________\n",
            "block5g_expand_activation (Acti (None, 32, 32, 1056) 0           block5g_expand_bn[0][0]          \n",
            "__________________________________________________________________________________________________\n",
            "block5g_dwconv (DepthwiseConv2D (None, 32, 32, 1056) 26400       block5g_expand_activation[0][0]  \n",
            "__________________________________________________________________________________________________\n",
            "block5g_bn (BatchNormalization) (None, 32, 32, 1056) 4224        block5g_dwconv[0][0]             \n",
            "__________________________________________________________________________________________________\n",
            "block5g_activation (Activation) (None, 32, 32, 1056) 0           block5g_bn[0][0]                 \n",
            "__________________________________________________________________________________________________\n",
            "block5g_se_squeeze (GlobalAvera (None, 1056)         0           block5g_activation[0][0]         \n",
            "__________________________________________________________________________________________________\n",
            "block5g_se_reshape (Reshape)    (None, 1, 1, 1056)   0           block5g_se_squeeze[0][0]         \n",
            "__________________________________________________________________________________________________\n",
            "block5g_se_reduce (Conv2D)      (None, 1, 1, 44)     46508       block5g_se_reshape[0][0]         \n",
            "__________________________________________________________________________________________________\n",
            "block5g_se_expand (Conv2D)      (None, 1, 1, 1056)   47520       block5g_se_reduce[0][0]          \n",
            "__________________________________________________________________________________________________\n",
            "block5g_se_excite (Multiply)    (None, 32, 32, 1056) 0           block5g_activation[0][0]         \n",
            "                                                                 block5g_se_expand[0][0]          \n",
            "__________________________________________________________________________________________________\n",
            "block5g_project_conv (Conv2D)   (None, 32, 32, 176)  185856      block5g_se_excite[0][0]          \n",
            "__________________________________________________________________________________________________\n",
            "block5g_project_bn (BatchNormal (None, 32, 32, 176)  704         block5g_project_conv[0][0]       \n",
            "__________________________________________________________________________________________________\n",
            "block5g_drop (Dropout)          (None, 32, 32, 176)  0           block5g_project_bn[0][0]         \n",
            "__________________________________________________________________________________________________\n",
            "block5g_add (Add)               (None, 32, 32, 176)  0           block5g_drop[0][0]               \n",
            "                                                                 block5f_add[0][0]                \n",
            "__________________________________________________________________________________________________\n",
            "block6a_expand_conv (Conv2D)    (None, 32, 32, 1056) 185856      block5g_add[0][0]                \n",
            "__________________________________________________________________________________________________\n",
            "block6a_expand_bn (BatchNormali (None, 32, 32, 1056) 4224        block6a_expand_conv[0][0]        \n",
            "__________________________________________________________________________________________________\n",
            "block6a_expand_activation (Acti (None, 32, 32, 1056) 0           block6a_expand_bn[0][0]          \n",
            "__________________________________________________________________________________________________\n",
            "block6a_dwconv_pad (ZeroPadding (None, 35, 35, 1056) 0           block6a_expand_activation[0][0]  \n",
            "__________________________________________________________________________________________________\n",
            "block6a_dwconv (DepthwiseConv2D (None, 16, 16, 1056) 26400       block6a_dwconv_pad[0][0]         \n",
            "__________________________________________________________________________________________________\n",
            "block6a_bn (BatchNormalization) (None, 16, 16, 1056) 4224        block6a_dwconv[0][0]             \n",
            "__________________________________________________________________________________________________\n",
            "block6a_activation (Activation) (None, 16, 16, 1056) 0           block6a_bn[0][0]                 \n",
            "__________________________________________________________________________________________________\n",
            "block6a_se_squeeze (GlobalAvera (None, 1056)         0           block6a_activation[0][0]         \n",
            "__________________________________________________________________________________________________\n",
            "block6a_se_reshape (Reshape)    (None, 1, 1, 1056)   0           block6a_se_squeeze[0][0]         \n",
            "__________________________________________________________________________________________________\n",
            "block6a_se_reduce (Conv2D)      (None, 1, 1, 44)     46508       block6a_se_reshape[0][0]         \n",
            "__________________________________________________________________________________________________\n",
            "block6a_se_expand (Conv2D)      (None, 1, 1, 1056)   47520       block6a_se_reduce[0][0]          \n",
            "__________________________________________________________________________________________________\n",
            "block6a_se_excite (Multiply)    (None, 16, 16, 1056) 0           block6a_activation[0][0]         \n",
            "                                                                 block6a_se_expand[0][0]          \n",
            "__________________________________________________________________________________________________\n",
            "block6a_project_conv (Conv2D)   (None, 16, 16, 304)  321024      block6a_se_excite[0][0]          \n",
            "__________________________________________________________________________________________________\n",
            "block6a_project_bn (BatchNormal (None, 16, 16, 304)  1216        block6a_project_conv[0][0]       \n",
            "__________________________________________________________________________________________________\n",
            "block6b_expand_conv (Conv2D)    (None, 16, 16, 1824) 554496      block6a_project_bn[0][0]         \n",
            "__________________________________________________________________________________________________\n",
            "block6b_expand_bn (BatchNormali (None, 16, 16, 1824) 7296        block6b_expand_conv[0][0]        \n",
            "__________________________________________________________________________________________________\n",
            "block6b_expand_activation (Acti (None, 16, 16, 1824) 0           block6b_expand_bn[0][0]          \n",
            "__________________________________________________________________________________________________\n",
            "block6b_dwconv (DepthwiseConv2D (None, 16, 16, 1824) 45600       block6b_expand_activation[0][0]  \n",
            "__________________________________________________________________________________________________\n",
            "block6b_bn (BatchNormalization) (None, 16, 16, 1824) 7296        block6b_dwconv[0][0]             \n",
            "__________________________________________________________________________________________________\n",
            "block6b_activation (Activation) (None, 16, 16, 1824) 0           block6b_bn[0][0]                 \n",
            "__________________________________________________________________________________________________\n",
            "block6b_se_squeeze (GlobalAvera (None, 1824)         0           block6b_activation[0][0]         \n",
            "__________________________________________________________________________________________________\n",
            "block6b_se_reshape (Reshape)    (None, 1, 1, 1824)   0           block6b_se_squeeze[0][0]         \n",
            "__________________________________________________________________________________________________\n",
            "block6b_se_reduce (Conv2D)      (None, 1, 1, 76)     138700      block6b_se_reshape[0][0]         \n",
            "__________________________________________________________________________________________________\n",
            "block6b_se_expand (Conv2D)      (None, 1, 1, 1824)   140448      block6b_se_reduce[0][0]          \n",
            "__________________________________________________________________________________________________\n",
            "block6b_se_excite (Multiply)    (None, 16, 16, 1824) 0           block6b_activation[0][0]         \n",
            "                                                                 block6b_se_expand[0][0]          \n",
            "__________________________________________________________________________________________________\n",
            "block6b_project_conv (Conv2D)   (None, 16, 16, 304)  554496      block6b_se_excite[0][0]          \n",
            "__________________________________________________________________________________________________\n",
            "block6b_project_bn (BatchNormal (None, 16, 16, 304)  1216        block6b_project_conv[0][0]       \n",
            "__________________________________________________________________________________________________\n",
            "block6b_drop (Dropout)          (None, 16, 16, 304)  0           block6b_project_bn[0][0]         \n",
            "__________________________________________________________________________________________________\n",
            "block6b_add (Add)               (None, 16, 16, 304)  0           block6b_drop[0][0]               \n",
            "                                                                 block6a_project_bn[0][0]         \n",
            "__________________________________________________________________________________________________\n",
            "block6c_expand_conv (Conv2D)    (None, 16, 16, 1824) 554496      block6b_add[0][0]                \n",
            "__________________________________________________________________________________________________\n",
            "block6c_expand_bn (BatchNormali (None, 16, 16, 1824) 7296        block6c_expand_conv[0][0]        \n",
            "__________________________________________________________________________________________________\n",
            "block6c_expand_activation (Acti (None, 16, 16, 1824) 0           block6c_expand_bn[0][0]          \n",
            "__________________________________________________________________________________________________\n",
            "block6c_dwconv (DepthwiseConv2D (None, 16, 16, 1824) 45600       block6c_expand_activation[0][0]  \n",
            "__________________________________________________________________________________________________\n",
            "block6c_bn (BatchNormalization) (None, 16, 16, 1824) 7296        block6c_dwconv[0][0]             \n",
            "__________________________________________________________________________________________________\n",
            "block6c_activation (Activation) (None, 16, 16, 1824) 0           block6c_bn[0][0]                 \n",
            "__________________________________________________________________________________________________\n",
            "block6c_se_squeeze (GlobalAvera (None, 1824)         0           block6c_activation[0][0]         \n",
            "__________________________________________________________________________________________________\n",
            "block6c_se_reshape (Reshape)    (None, 1, 1, 1824)   0           block6c_se_squeeze[0][0]         \n",
            "__________________________________________________________________________________________________\n",
            "block6c_se_reduce (Conv2D)      (None, 1, 1, 76)     138700      block6c_se_reshape[0][0]         \n",
            "__________________________________________________________________________________________________\n",
            "block6c_se_expand (Conv2D)      (None, 1, 1, 1824)   140448      block6c_se_reduce[0][0]          \n",
            "__________________________________________________________________________________________________\n",
            "block6c_se_excite (Multiply)    (None, 16, 16, 1824) 0           block6c_activation[0][0]         \n",
            "                                                                 block6c_se_expand[0][0]          \n",
            "__________________________________________________________________________________________________\n",
            "block6c_project_conv (Conv2D)   (None, 16, 16, 304)  554496      block6c_se_excite[0][0]          \n",
            "__________________________________________________________________________________________________\n",
            "block6c_project_bn (BatchNormal (None, 16, 16, 304)  1216        block6c_project_conv[0][0]       \n",
            "__________________________________________________________________________________________________\n",
            "block6c_drop (Dropout)          (None, 16, 16, 304)  0           block6c_project_bn[0][0]         \n",
            "__________________________________________________________________________________________________\n",
            "block6c_add (Add)               (None, 16, 16, 304)  0           block6c_drop[0][0]               \n",
            "                                                                 block6b_add[0][0]                \n",
            "__________________________________________________________________________________________________\n",
            "block6d_expand_conv (Conv2D)    (None, 16, 16, 1824) 554496      block6c_add[0][0]                \n",
            "__________________________________________________________________________________________________\n",
            "block6d_expand_bn (BatchNormali (None, 16, 16, 1824) 7296        block6d_expand_conv[0][0]        \n",
            "__________________________________________________________________________________________________\n",
            "block6d_expand_activation (Acti (None, 16, 16, 1824) 0           block6d_expand_bn[0][0]          \n",
            "__________________________________________________________________________________________________\n",
            "block6d_dwconv (DepthwiseConv2D (None, 16, 16, 1824) 45600       block6d_expand_activation[0][0]  \n",
            "__________________________________________________________________________________________________\n",
            "block6d_bn (BatchNormalization) (None, 16, 16, 1824) 7296        block6d_dwconv[0][0]             \n",
            "__________________________________________________________________________________________________\n",
            "block6d_activation (Activation) (None, 16, 16, 1824) 0           block6d_bn[0][0]                 \n",
            "__________________________________________________________________________________________________\n",
            "block6d_se_squeeze (GlobalAvera (None, 1824)         0           block6d_activation[0][0]         \n",
            "__________________________________________________________________________________________________\n",
            "block6d_se_reshape (Reshape)    (None, 1, 1, 1824)   0           block6d_se_squeeze[0][0]         \n",
            "__________________________________________________________________________________________________\n",
            "block6d_se_reduce (Conv2D)      (None, 1, 1, 76)     138700      block6d_se_reshape[0][0]         \n",
            "__________________________________________________________________________________________________\n",
            "block6d_se_expand (Conv2D)      (None, 1, 1, 1824)   140448      block6d_se_reduce[0][0]          \n",
            "__________________________________________________________________________________________________\n",
            "block6d_se_excite (Multiply)    (None, 16, 16, 1824) 0           block6d_activation[0][0]         \n",
            "                                                                 block6d_se_expand[0][0]          \n",
            "__________________________________________________________________________________________________\n",
            "block6d_project_conv (Conv2D)   (None, 16, 16, 304)  554496      block6d_se_excite[0][0]          \n",
            "__________________________________________________________________________________________________\n",
            "block6d_project_bn (BatchNormal (None, 16, 16, 304)  1216        block6d_project_conv[0][0]       \n",
            "__________________________________________________________________________________________________\n",
            "block6d_drop (Dropout)          (None, 16, 16, 304)  0           block6d_project_bn[0][0]         \n",
            "__________________________________________________________________________________________________\n",
            "block6d_add (Add)               (None, 16, 16, 304)  0           block6d_drop[0][0]               \n",
            "                                                                 block6c_add[0][0]                \n",
            "__________________________________________________________________________________________________\n",
            "block6e_expand_conv (Conv2D)    (None, 16, 16, 1824) 554496      block6d_add[0][0]                \n",
            "__________________________________________________________________________________________________\n",
            "block6e_expand_bn (BatchNormali (None, 16, 16, 1824) 7296        block6e_expand_conv[0][0]        \n",
            "__________________________________________________________________________________________________\n",
            "block6e_expand_activation (Acti (None, 16, 16, 1824) 0           block6e_expand_bn[0][0]          \n",
            "__________________________________________________________________________________________________\n",
            "block6e_dwconv (DepthwiseConv2D (None, 16, 16, 1824) 45600       block6e_expand_activation[0][0]  \n",
            "__________________________________________________________________________________________________\n",
            "block6e_bn (BatchNormalization) (None, 16, 16, 1824) 7296        block6e_dwconv[0][0]             \n",
            "__________________________________________________________________________________________________\n",
            "block6e_activation (Activation) (None, 16, 16, 1824) 0           block6e_bn[0][0]                 \n",
            "__________________________________________________________________________________________________\n",
            "block6e_se_squeeze (GlobalAvera (None, 1824)         0           block6e_activation[0][0]         \n",
            "__________________________________________________________________________________________________\n",
            "block6e_se_reshape (Reshape)    (None, 1, 1, 1824)   0           block6e_se_squeeze[0][0]         \n",
            "__________________________________________________________________________________________________\n",
            "block6e_se_reduce (Conv2D)      (None, 1, 1, 76)     138700      block6e_se_reshape[0][0]         \n",
            "__________________________________________________________________________________________________\n",
            "block6e_se_expand (Conv2D)      (None, 1, 1, 1824)   140448      block6e_se_reduce[0][0]          \n",
            "__________________________________________________________________________________________________\n",
            "block6e_se_excite (Multiply)    (None, 16, 16, 1824) 0           block6e_activation[0][0]         \n",
            "                                                                 block6e_se_expand[0][0]          \n",
            "__________________________________________________________________________________________________\n",
            "block6e_project_conv (Conv2D)   (None, 16, 16, 304)  554496      block6e_se_excite[0][0]          \n",
            "__________________________________________________________________________________________________\n",
            "block6e_project_bn (BatchNormal (None, 16, 16, 304)  1216        block6e_project_conv[0][0]       \n",
            "__________________________________________________________________________________________________\n",
            "block6e_drop (Dropout)          (None, 16, 16, 304)  0           block6e_project_bn[0][0]         \n",
            "__________________________________________________________________________________________________\n",
            "block6e_add (Add)               (None, 16, 16, 304)  0           block6e_drop[0][0]               \n",
            "                                                                 block6d_add[0][0]                \n",
            "__________________________________________________________________________________________________\n",
            "block6f_expand_conv (Conv2D)    (None, 16, 16, 1824) 554496      block6e_add[0][0]                \n",
            "__________________________________________________________________________________________________\n",
            "block6f_expand_bn (BatchNormali (None, 16, 16, 1824) 7296        block6f_expand_conv[0][0]        \n",
            "__________________________________________________________________________________________________\n",
            "block6f_expand_activation (Acti (None, 16, 16, 1824) 0           block6f_expand_bn[0][0]          \n",
            "__________________________________________________________________________________________________\n",
            "block6f_dwconv (DepthwiseConv2D (None, 16, 16, 1824) 45600       block6f_expand_activation[0][0]  \n",
            "__________________________________________________________________________________________________\n",
            "block6f_bn (BatchNormalization) (None, 16, 16, 1824) 7296        block6f_dwconv[0][0]             \n",
            "__________________________________________________________________________________________________\n",
            "block6f_activation (Activation) (None, 16, 16, 1824) 0           block6f_bn[0][0]                 \n",
            "__________________________________________________________________________________________________\n",
            "block6f_se_squeeze (GlobalAvera (None, 1824)         0           block6f_activation[0][0]         \n",
            "__________________________________________________________________________________________________\n",
            "block6f_se_reshape (Reshape)    (None, 1, 1, 1824)   0           block6f_se_squeeze[0][0]         \n",
            "__________________________________________________________________________________________________\n",
            "block6f_se_reduce (Conv2D)      (None, 1, 1, 76)     138700      block6f_se_reshape[0][0]         \n",
            "__________________________________________________________________________________________________\n",
            "block6f_se_expand (Conv2D)      (None, 1, 1, 1824)   140448      block6f_se_reduce[0][0]          \n",
            "__________________________________________________________________________________________________\n",
            "block6f_se_excite (Multiply)    (None, 16, 16, 1824) 0           block6f_activation[0][0]         \n",
            "                                                                 block6f_se_expand[0][0]          \n",
            "__________________________________________________________________________________________________\n",
            "block6f_project_conv (Conv2D)   (None, 16, 16, 304)  554496      block6f_se_excite[0][0]          \n",
            "__________________________________________________________________________________________________\n",
            "block6f_project_bn (BatchNormal (None, 16, 16, 304)  1216        block6f_project_conv[0][0]       \n",
            "__________________________________________________________________________________________________\n",
            "block6f_drop (Dropout)          (None, 16, 16, 304)  0           block6f_project_bn[0][0]         \n",
            "__________________________________________________________________________________________________\n",
            "block6f_add (Add)               (None, 16, 16, 304)  0           block6f_drop[0][0]               \n",
            "                                                                 block6e_add[0][0]                \n",
            "__________________________________________________________________________________________________\n",
            "block6g_expand_conv (Conv2D)    (None, 16, 16, 1824) 554496      block6f_add[0][0]                \n",
            "__________________________________________________________________________________________________\n",
            "block6g_expand_bn (BatchNormali (None, 16, 16, 1824) 7296        block6g_expand_conv[0][0]        \n",
            "__________________________________________________________________________________________________\n",
            "block6g_expand_activation (Acti (None, 16, 16, 1824) 0           block6g_expand_bn[0][0]          \n",
            "__________________________________________________________________________________________________\n",
            "block6g_dwconv (DepthwiseConv2D (None, 16, 16, 1824) 45600       block6g_expand_activation[0][0]  \n",
            "__________________________________________________________________________________________________\n",
            "block6g_bn (BatchNormalization) (None, 16, 16, 1824) 7296        block6g_dwconv[0][0]             \n",
            "__________________________________________________________________________________________________\n",
            "block6g_activation (Activation) (None, 16, 16, 1824) 0           block6g_bn[0][0]                 \n",
            "__________________________________________________________________________________________________\n",
            "block6g_se_squeeze (GlobalAvera (None, 1824)         0           block6g_activation[0][0]         \n",
            "__________________________________________________________________________________________________\n",
            "block6g_se_reshape (Reshape)    (None, 1, 1, 1824)   0           block6g_se_squeeze[0][0]         \n",
            "__________________________________________________________________________________________________\n",
            "block6g_se_reduce (Conv2D)      (None, 1, 1, 76)     138700      block6g_se_reshape[0][0]         \n",
            "__________________________________________________________________________________________________\n",
            "block6g_se_expand (Conv2D)      (None, 1, 1, 1824)   140448      block6g_se_reduce[0][0]          \n",
            "__________________________________________________________________________________________________\n",
            "block6g_se_excite (Multiply)    (None, 16, 16, 1824) 0           block6g_activation[0][0]         \n",
            "                                                                 block6g_se_expand[0][0]          \n",
            "__________________________________________________________________________________________________\n",
            "block6g_project_conv (Conv2D)   (None, 16, 16, 304)  554496      block6g_se_excite[0][0]          \n",
            "__________________________________________________________________________________________________\n",
            "block6g_project_bn (BatchNormal (None, 16, 16, 304)  1216        block6g_project_conv[0][0]       \n",
            "__________________________________________________________________________________________________\n",
            "block6g_drop (Dropout)          (None, 16, 16, 304)  0           block6g_project_bn[0][0]         \n",
            "__________________________________________________________________________________________________\n",
            "block6g_add (Add)               (None, 16, 16, 304)  0           block6g_drop[0][0]               \n",
            "                                                                 block6f_add[0][0]                \n",
            "__________________________________________________________________________________________________\n",
            "block6h_expand_conv (Conv2D)    (None, 16, 16, 1824) 554496      block6g_add[0][0]                \n",
            "__________________________________________________________________________________________________\n",
            "block6h_expand_bn (BatchNormali (None, 16, 16, 1824) 7296        block6h_expand_conv[0][0]        \n",
            "__________________________________________________________________________________________________\n",
            "block6h_expand_activation (Acti (None, 16, 16, 1824) 0           block6h_expand_bn[0][0]          \n",
            "__________________________________________________________________________________________________\n",
            "block6h_dwconv (DepthwiseConv2D (None, 16, 16, 1824) 45600       block6h_expand_activation[0][0]  \n",
            "__________________________________________________________________________________________________\n",
            "block6h_bn (BatchNormalization) (None, 16, 16, 1824) 7296        block6h_dwconv[0][0]             \n",
            "__________________________________________________________________________________________________\n",
            "block6h_activation (Activation) (None, 16, 16, 1824) 0           block6h_bn[0][0]                 \n",
            "__________________________________________________________________________________________________\n",
            "block6h_se_squeeze (GlobalAvera (None, 1824)         0           block6h_activation[0][0]         \n",
            "__________________________________________________________________________________________________\n",
            "block6h_se_reshape (Reshape)    (None, 1, 1, 1824)   0           block6h_se_squeeze[0][0]         \n",
            "__________________________________________________________________________________________________\n",
            "block6h_se_reduce (Conv2D)      (None, 1, 1, 76)     138700      block6h_se_reshape[0][0]         \n",
            "__________________________________________________________________________________________________\n",
            "block6h_se_expand (Conv2D)      (None, 1, 1, 1824)   140448      block6h_se_reduce[0][0]          \n",
            "__________________________________________________________________________________________________\n",
            "block6h_se_excite (Multiply)    (None, 16, 16, 1824) 0           block6h_activation[0][0]         \n",
            "                                                                 block6h_se_expand[0][0]          \n",
            "__________________________________________________________________________________________________\n",
            "block6h_project_conv (Conv2D)   (None, 16, 16, 304)  554496      block6h_se_excite[0][0]          \n",
            "__________________________________________________________________________________________________\n",
            "block6h_project_bn (BatchNormal (None, 16, 16, 304)  1216        block6h_project_conv[0][0]       \n",
            "__________________________________________________________________________________________________\n",
            "block6h_drop (Dropout)          (None, 16, 16, 304)  0           block6h_project_bn[0][0]         \n",
            "__________________________________________________________________________________________________\n",
            "block6h_add (Add)               (None, 16, 16, 304)  0           block6h_drop[0][0]               \n",
            "                                                                 block6g_add[0][0]                \n",
            "__________________________________________________________________________________________________\n",
            "block6i_expand_conv (Conv2D)    (None, 16, 16, 1824) 554496      block6h_add[0][0]                \n",
            "__________________________________________________________________________________________________\n",
            "block6i_expand_bn (BatchNormali (None, 16, 16, 1824) 7296        block6i_expand_conv[0][0]        \n",
            "__________________________________________________________________________________________________\n",
            "block6i_expand_activation (Acti (None, 16, 16, 1824) 0           block6i_expand_bn[0][0]          \n",
            "__________________________________________________________________________________________________\n",
            "block6i_dwconv (DepthwiseConv2D (None, 16, 16, 1824) 45600       block6i_expand_activation[0][0]  \n",
            "__________________________________________________________________________________________________\n",
            "block6i_bn (BatchNormalization) (None, 16, 16, 1824) 7296        block6i_dwconv[0][0]             \n",
            "__________________________________________________________________________________________________\n",
            "block6i_activation (Activation) (None, 16, 16, 1824) 0           block6i_bn[0][0]                 \n",
            "__________________________________________________________________________________________________\n",
            "block6i_se_squeeze (GlobalAvera (None, 1824)         0           block6i_activation[0][0]         \n",
            "__________________________________________________________________________________________________\n",
            "block6i_se_reshape (Reshape)    (None, 1, 1, 1824)   0           block6i_se_squeeze[0][0]         \n",
            "__________________________________________________________________________________________________\n",
            "block6i_se_reduce (Conv2D)      (None, 1, 1, 76)     138700      block6i_se_reshape[0][0]         \n",
            "__________________________________________________________________________________________________\n",
            "block6i_se_expand (Conv2D)      (None, 1, 1, 1824)   140448      block6i_se_reduce[0][0]          \n",
            "__________________________________________________________________________________________________\n",
            "block6i_se_excite (Multiply)    (None, 16, 16, 1824) 0           block6i_activation[0][0]         \n",
            "                                                                 block6i_se_expand[0][0]          \n",
            "__________________________________________________________________________________________________\n",
            "block6i_project_conv (Conv2D)   (None, 16, 16, 304)  554496      block6i_se_excite[0][0]          \n",
            "__________________________________________________________________________________________________\n",
            "block6i_project_bn (BatchNormal (None, 16, 16, 304)  1216        block6i_project_conv[0][0]       \n",
            "__________________________________________________________________________________________________\n",
            "block6i_drop (Dropout)          (None, 16, 16, 304)  0           block6i_project_bn[0][0]         \n",
            "__________________________________________________________________________________________________\n",
            "block6i_add (Add)               (None, 16, 16, 304)  0           block6i_drop[0][0]               \n",
            "                                                                 block6h_add[0][0]                \n",
            "__________________________________________________________________________________________________\n",
            "block7a_expand_conv (Conv2D)    (None, 16, 16, 1824) 554496      block6i_add[0][0]                \n",
            "__________________________________________________________________________________________________\n",
            "block7a_expand_bn (BatchNormali (None, 16, 16, 1824) 7296        block7a_expand_conv[0][0]        \n",
            "__________________________________________________________________________________________________\n",
            "block7a_expand_activation (Acti (None, 16, 16, 1824) 0           block7a_expand_bn[0][0]          \n",
            "__________________________________________________________________________________________________\n",
            "block7a_dwconv (DepthwiseConv2D (None, 16, 16, 1824) 16416       block7a_expand_activation[0][0]  \n",
            "__________________________________________________________________________________________________\n",
            "block7a_bn (BatchNormalization) (None, 16, 16, 1824) 7296        block7a_dwconv[0][0]             \n",
            "__________________________________________________________________________________________________\n",
            "block7a_activation (Activation) (None, 16, 16, 1824) 0           block7a_bn[0][0]                 \n",
            "__________________________________________________________________________________________________\n",
            "block7a_se_squeeze (GlobalAvera (None, 1824)         0           block7a_activation[0][0]         \n",
            "__________________________________________________________________________________________________\n",
            "block7a_se_reshape (Reshape)    (None, 1, 1, 1824)   0           block7a_se_squeeze[0][0]         \n",
            "__________________________________________________________________________________________________\n",
            "block7a_se_reduce (Conv2D)      (None, 1, 1, 76)     138700      block7a_se_reshape[0][0]         \n",
            "__________________________________________________________________________________________________\n",
            "block7a_se_expand (Conv2D)      (None, 1, 1, 1824)   140448      block7a_se_reduce[0][0]          \n",
            "__________________________________________________________________________________________________\n",
            "block7a_se_excite (Multiply)    (None, 16, 16, 1824) 0           block7a_activation[0][0]         \n",
            "                                                                 block7a_se_expand[0][0]          \n",
            "__________________________________________________________________________________________________\n",
            "block7a_project_conv (Conv2D)   (None, 16, 16, 512)  933888      block7a_se_excite[0][0]          \n",
            "__________________________________________________________________________________________________\n",
            "block7a_project_bn (BatchNormal (None, 16, 16, 512)  2048        block7a_project_conv[0][0]       \n",
            "__________________________________________________________________________________________________\n",
            "block7b_expand_conv (Conv2D)    (None, 16, 16, 3072) 1572864     block7a_project_bn[0][0]         \n",
            "__________________________________________________________________________________________________\n",
            "block7b_expand_bn (BatchNormali (None, 16, 16, 3072) 12288       block7b_expand_conv[0][0]        \n",
            "__________________________________________________________________________________________________\n",
            "block7b_expand_activation (Acti (None, 16, 16, 3072) 0           block7b_expand_bn[0][0]          \n",
            "__________________________________________________________________________________________________\n",
            "block7b_dwconv (DepthwiseConv2D (None, 16, 16, 3072) 27648       block7b_expand_activation[0][0]  \n",
            "__________________________________________________________________________________________________\n",
            "block7b_bn (BatchNormalization) (None, 16, 16, 3072) 12288       block7b_dwconv[0][0]             \n",
            "__________________________________________________________________________________________________\n",
            "block7b_activation (Activation) (None, 16, 16, 3072) 0           block7b_bn[0][0]                 \n",
            "__________________________________________________________________________________________________\n",
            "block7b_se_squeeze (GlobalAvera (None, 3072)         0           block7b_activation[0][0]         \n",
            "__________________________________________________________________________________________________\n",
            "block7b_se_reshape (Reshape)    (None, 1, 1, 3072)   0           block7b_se_squeeze[0][0]         \n",
            "__________________________________________________________________________________________________\n",
            "block7b_se_reduce (Conv2D)      (None, 1, 1, 128)    393344      block7b_se_reshape[0][0]         \n",
            "__________________________________________________________________________________________________\n",
            "block7b_se_expand (Conv2D)      (None, 1, 1, 3072)   396288      block7b_se_reduce[0][0]          \n",
            "__________________________________________________________________________________________________\n",
            "block7b_se_excite (Multiply)    (None, 16, 16, 3072) 0           block7b_activation[0][0]         \n",
            "                                                                 block7b_se_expand[0][0]          \n",
            "__________________________________________________________________________________________________\n",
            "block7b_project_conv (Conv2D)   (None, 16, 16, 512)  1572864     block7b_se_excite[0][0]          \n",
            "__________________________________________________________________________________________________\n",
            "block7b_project_bn (BatchNormal (None, 16, 16, 512)  2048        block7b_project_conv[0][0]       \n",
            "__________________________________________________________________________________________________\n",
            "block7b_drop (Dropout)          (None, 16, 16, 512)  0           block7b_project_bn[0][0]         \n",
            "__________________________________________________________________________________________________\n",
            "block7b_add (Add)               (None, 16, 16, 512)  0           block7b_drop[0][0]               \n",
            "                                                                 block7a_project_bn[0][0]         \n",
            "__________________________________________________________________________________________________\n",
            "block7c_expand_conv (Conv2D)    (None, 16, 16, 3072) 1572864     block7b_add[0][0]                \n",
            "__________________________________________________________________________________________________\n",
            "block7c_expand_bn (BatchNormali (None, 16, 16, 3072) 12288       block7c_expand_conv[0][0]        \n",
            "__________________________________________________________________________________________________\n",
            "block7c_expand_activation (Acti (None, 16, 16, 3072) 0           block7c_expand_bn[0][0]          \n",
            "__________________________________________________________________________________________________\n",
            "block7c_dwconv (DepthwiseConv2D (None, 16, 16, 3072) 27648       block7c_expand_activation[0][0]  \n",
            "__________________________________________________________________________________________________\n",
            "block7c_bn (BatchNormalization) (None, 16, 16, 3072) 12288       block7c_dwconv[0][0]             \n",
            "__________________________________________________________________________________________________\n",
            "block7c_activation (Activation) (None, 16, 16, 3072) 0           block7c_bn[0][0]                 \n",
            "__________________________________________________________________________________________________\n",
            "block7c_se_squeeze (GlobalAvera (None, 3072)         0           block7c_activation[0][0]         \n",
            "__________________________________________________________________________________________________\n",
            "block7c_se_reshape (Reshape)    (None, 1, 1, 3072)   0           block7c_se_squeeze[0][0]         \n",
            "__________________________________________________________________________________________________\n",
            "block7c_se_reduce (Conv2D)      (None, 1, 1, 128)    393344      block7c_se_reshape[0][0]         \n",
            "__________________________________________________________________________________________________\n",
            "block7c_se_expand (Conv2D)      (None, 1, 1, 3072)   396288      block7c_se_reduce[0][0]          \n",
            "__________________________________________________________________________________________________\n",
            "block7c_se_excite (Multiply)    (None, 16, 16, 3072) 0           block7c_activation[0][0]         \n",
            "                                                                 block7c_se_expand[0][0]          \n",
            "__________________________________________________________________________________________________\n",
            "block7c_project_conv (Conv2D)   (None, 16, 16, 512)  1572864     block7c_se_excite[0][0]          \n",
            "__________________________________________________________________________________________________\n",
            "block7c_project_bn (BatchNormal (None, 16, 16, 512)  2048        block7c_project_conv[0][0]       \n",
            "__________________________________________________________________________________________________\n",
            "block7c_drop (Dropout)          (None, 16, 16, 512)  0           block7c_project_bn[0][0]         \n",
            "__________________________________________________________________________________________________\n",
            "block7c_add (Add)               (None, 16, 16, 512)  0           block7c_drop[0][0]               \n",
            "                                                                 block7b_add[0][0]                \n",
            "__________________________________________________________________________________________________\n",
            "top_conv (Conv2D)               (None, 16, 16, 2048) 1048576     block7c_add[0][0]                \n",
            "__________________________________________________________________________________________________\n",
            "top_bn (BatchNormalization)     (None, 16, 16, 2048) 8192        top_conv[0][0]                   \n",
            "__________________________________________________________________________________________________\n",
            "top_activation (Activation)     (None, 16, 16, 2048) 0           top_bn[0][0]                     \n",
            "==================================================================================================\n",
            "Total params: 28,513,527\n",
            "Trainable params: 0\n",
            "Non-trainable params: 28,513,527\n",
            "__________________________________________________________________________________________________\n"
          ],
          "name": "stdout"
        }
      ]
    },
    {
      "cell_type": "code",
      "metadata": {
        "id": "SVDIFZy1xyDF",
        "colab": {
          "base_uri": "https://localhost:8080/"
        },
        "outputId": "2d25f1bc-d9a8-4522-f343-bac7b7fd7f7c"
      },
      "source": [
        "model_efficient_net.summary()"
      ],
      "execution_count": 33,
      "outputs": [
        {
          "output_type": "stream",
          "text": [
            "Model: \"functional_1\"\n",
            "_________________________________________________________________\n",
            "Layer (type)                 Output Shape              Param #   \n",
            "=================================================================\n",
            "input_2 (InputLayer)         [(None, 512, 512, 3)]     0         \n",
            "_________________________________________________________________\n",
            "efficientnetb5 (Functional)  (None, 16, 16, 2048)      28513527  \n",
            "_________________________________________________________________\n",
            "dense (Dense)                (None, 16, 16, 1024)      2098176   \n",
            "_________________________________________________________________\n",
            "dense_1 (Dense)              (None, 16, 16, 512)       524800    \n",
            "_________________________________________________________________\n",
            "dense_2 (Dense)              (None, 16, 16, 256)       131328    \n",
            "_________________________________________________________________\n",
            "batch_normalization (BatchNo (None, 16, 16, 256)       1024      \n",
            "_________________________________________________________________\n",
            "flatten (Flatten)            (None, 65536)             0         \n",
            "_________________________________________________________________\n",
            "dense_3 (Dense)              (None, 512)               33554944  \n",
            "_________________________________________________________________\n",
            "dense_4 (Dense)              (None, 256)               131328    \n",
            "_________________________________________________________________\n",
            "dense_5 (Dense)              (None, 128)               32896     \n",
            "_________________________________________________________________\n",
            "dense_6 (Dense)              (None, 64)                8256      \n",
            "_________________________________________________________________\n",
            "dense_7 (Dense)              (None, 32)                2080      \n",
            "_________________________________________________________________\n",
            "dense_8 (Dense)              (None, 8)                 264       \n",
            "_________________________________________________________________\n",
            "dropout (Dropout)            (None, 8)                 0         \n",
            "_________________________________________________________________\n",
            "dense_9 (Dense)              (None, 5)                 45        \n",
            "=================================================================\n",
            "Total params: 64,998,668\n",
            "Trainable params: 36,484,629\n",
            "Non-trainable params: 28,514,039\n",
            "_________________________________________________________________\n"
          ],
          "name": "stdout"
        }
      ]
    },
    {
      "cell_type": "code",
      "metadata": {
        "id": "mbpJMLYbEwMn"
      },
      "source": [
        "model_efficient_net.compile(optimizer=tf.keras.optimizers.Adam(learning_rate=1e-4),\n",
        "              loss=tf.keras.losses.SparseCategoricalCrossentropy(),\n",
        "              metrics=['accuracy'])"
      ],
      "execution_count": 34,
      "outputs": []
    },
    {
      "cell_type": "code",
      "metadata": {
        "id": "JJrXk1V-VX05"
      },
      "source": [
        "initial_learning_rate_e = 0.001\n",
        "lr_schedule = tf.keras.optimizers.schedules.ExponentialDecay(\n",
        "    initial_learning_rate_e, decay_steps=100, decay_rate=0.96, staircase=True\n",
        ")\n",
        "\n",
        "checkpoint_cb_e = tf.keras.callbacks.ModelCheckpoint(\n",
        "    \"efficient_net_best_model.h5\", save_best_only=True\n",
        ")\n",
        "\n",
        "early_stopping_cb_e = tf.keras.callbacks.EarlyStopping(\n",
        "    patience=10, restore_best_weights=True\n",
        ")"
      ],
      "execution_count": 35,
      "outputs": []
    },
    {
      "cell_type": "code",
      "metadata": {
        "id": "MzyU31ngxyDF",
        "colab": {
          "base_uri": "https://localhost:8080/"
        },
        "outputId": "2ea6a259-3df5-4355-da9d-849b262fd52e"
      },
      "source": [
        "epochs=50\n",
        "history = model_efficient_net.fit(\n",
        "  train_dataset,\n",
        "  epochs=epochs,\n",
        "  validation_data = validation_dataset,\n",
        "  callbacks=[checkpoint_cb_e, early_stopping_cb_e]\n",
        "  #class_weight = cl_w\n",
        "  #steps_per_epoch = 600\n",
        "  #validation_data = val_generator,\n",
        "\n",
        " \n",
        ")"
      ],
      "execution_count": null,
      "outputs": [
        {
          "output_type": "stream",
          "text": [
            "Epoch 1/50\n",
            "WARNING:tensorflow:From /usr/local/lib/python3.6/dist-packages/tensorflow/python/data/ops/multi_device_iterator_ops.py:601: get_next_as_optional (from tensorflow.python.data.ops.iterator_ops) is deprecated and will be removed in a future version.\n",
            "Instructions for updating:\n",
            "Use `tf.data.Iterator.get_next_as_optional()` instead.\n"
          ],
          "name": "stdout"
        },
        {
          "output_type": "stream",
          "text": [
            "WARNING:tensorflow:From /usr/local/lib/python3.6/dist-packages/tensorflow/python/data/ops/multi_device_iterator_ops.py:601: get_next_as_optional (from tensorflow.python.data.ops.iterator_ops) is deprecated and will be removed in a future version.\n",
            "Instructions for updating:\n",
            "Use `tf.data.Iterator.get_next_as_optional()` instead.\n"
          ],
          "name": "stderr"
        },
        {
          "output_type": "stream",
          "text": [
            "406/406 [==============================] - 177s 436ms/step - loss: 23.0124 - accuracy: 0.5270 - val_loss: 12.3324 - val_accuracy: 0.6046\n",
            "Epoch 2/50\n",
            "406/406 [==============================] - 97s 240ms/step - loss: 7.8365 - accuracy: 0.5836 - val_loss: 4.7816 - val_accuracy: 0.6189\n",
            "Epoch 3/50\n",
            "406/406 [==============================] - 99s 244ms/step - loss: 3.5111 - accuracy: 0.6028 - val_loss: 2.4917 - val_accuracy: 0.6324\n",
            "Epoch 4/50\n",
            "406/406 [==============================] - 98s 243ms/step - loss: 2.0930 - accuracy: 0.6081 - val_loss: 1.6751 - val_accuracy: 0.6246\n",
            "Epoch 5/50\n",
            "406/406 [==============================] - 98s 240ms/step - loss: 1.5475 - accuracy: 0.6146 - val_loss: 1.3327 - val_accuracy: 0.6522\n",
            "Epoch 6/50\n",
            "406/406 [==============================] - 98s 241ms/step - loss: 1.3052 - accuracy: 0.6159 - val_loss: 1.1506 - val_accuracy: 0.6527\n",
            "Epoch 7/50\n",
            "406/406 [==============================] - 98s 241ms/step - loss: 1.1846 - accuracy: 0.6231 - val_loss: 1.0504 - val_accuracy: 0.6665\n",
            "Epoch 8/50\n",
            "406/406 [==============================] - 99s 244ms/step - loss: 1.1028 - accuracy: 0.6284 - val_loss: 1.0088 - val_accuracy: 0.6495\n",
            "Epoch 9/50\n",
            "406/406 [==============================] - 98s 242ms/step - loss: 1.0561 - accuracy: 0.6320 - val_loss: 0.9932 - val_accuracy: 0.6695\n",
            "Epoch 10/50\n",
            "406/406 [==============================] - 98s 242ms/step - loss: 1.0182 - accuracy: 0.6391 - val_loss: 0.9587 - val_accuracy: 0.6630\n",
            "Epoch 11/50\n",
            "406/406 [==============================] - 98s 242ms/step - loss: 0.9944 - accuracy: 0.6373 - val_loss: 0.9315 - val_accuracy: 0.6668\n",
            "Epoch 12/50\n",
            "406/406 [==============================] - 99s 243ms/step - loss: 0.9791 - accuracy: 0.6393 - val_loss: 0.9240 - val_accuracy: 0.6576\n",
            "Epoch 13/50\n",
            "406/406 [==============================] - 99s 244ms/step - loss: 0.9592 - accuracy: 0.6462 - val_loss: 0.9132 - val_accuracy: 0.6678\n",
            "Epoch 14/50\n",
            "406/406 [==============================] - 98s 242ms/step - loss: 0.9413 - accuracy: 0.6451 - val_loss: 0.9021 - val_accuracy: 0.6632\n",
            "Epoch 15/50\n",
            "406/406 [==============================] - 88s 218ms/step - loss: 0.9377 - accuracy: 0.6442 - val_loss: 0.9036 - val_accuracy: 0.6549\n",
            "Epoch 16/50\n",
            "406/406 [==============================] - 98s 242ms/step - loss: 0.9171 - accuracy: 0.6522 - val_loss: 0.8694 - val_accuracy: 0.6700\n",
            "Epoch 17/50\n",
            "406/406 [==============================] - 99s 244ms/step - loss: 0.9072 - accuracy: 0.6543 - val_loss: 0.8617 - val_accuracy: 0.6722\n",
            "Epoch 18/50\n",
            "406/406 [==============================] - 90s 222ms/step - loss: 0.9025 - accuracy: 0.6565 - val_loss: 0.8808 - val_accuracy: 0.6578\n",
            "Epoch 19/50\n",
            "406/406 [==============================] - 90s 220ms/step - loss: 0.8870 - accuracy: 0.6572 - val_loss: 0.8688 - val_accuracy: 0.6711\n",
            "Epoch 20/50\n",
            "406/406 [==============================] - 89s 219ms/step - loss: 0.8821 - accuracy: 0.6605 - val_loss: 0.9107 - val_accuracy: 0.6335\n",
            "Epoch 21/50\n",
            "406/406 [==============================] - 90s 221ms/step - loss: 0.8714 - accuracy: 0.6669 - val_loss: 0.8831 - val_accuracy: 0.6692\n",
            "Epoch 22/50\n",
            "406/406 [==============================] - 90s 222ms/step - loss: 0.8707 - accuracy: 0.6681 - val_loss: 0.8825 - val_accuracy: 0.6762\n",
            "Epoch 23/50\n",
            "406/406 [==============================] - 90s 221ms/step - loss: 0.8651 - accuracy: 0.6631 - val_loss: 0.9267 - val_accuracy: 0.6651\n",
            "Epoch 24/50\n",
            "406/406 [==============================] - 99s 244ms/step - loss: 0.8516 - accuracy: 0.6700 - val_loss: 0.8497 - val_accuracy: 0.6832\n",
            "Epoch 25/50\n",
            "406/406 [==============================] - 90s 222ms/step - loss: 0.8508 - accuracy: 0.6719 - val_loss: 0.8753 - val_accuracy: 0.6835\n",
            "Epoch 26/50\n",
            "406/406 [==============================] - 90s 221ms/step - loss: 0.8412 - accuracy: 0.6737 - val_loss: 0.8848 - val_accuracy: 0.6824\n",
            "Epoch 27/50\n",
            "406/406 [==============================] - 89s 219ms/step - loss: 0.8304 - accuracy: 0.6795 - val_loss: 0.8658 - val_accuracy: 0.6797\n",
            "Epoch 28/50\n",
            "406/406 [==============================] - 89s 218ms/step - loss: 0.8248 - accuracy: 0.6800 - val_loss: 0.8855 - val_accuracy: 0.6841\n",
            "Epoch 29/50\n",
            "406/406 [==============================] - 89s 219ms/step - loss: 0.8143 - accuracy: 0.6843 - val_loss: 0.8839 - val_accuracy: 0.6738\n",
            "Epoch 30/50\n",
            "406/406 [==============================] - 89s 220ms/step - loss: 0.8126 - accuracy: 0.6851 - val_loss: 0.9046 - val_accuracy: 0.6638\n",
            "Epoch 31/50\n",
            " 94/406 [=====>........................] - ETA: 46s - loss: 0.5307 - accuracy: 0.8514"
          ],
          "name": "stdout"
        }
      ]
    },
    {
      "cell_type": "code",
      "metadata": {
        "id": "Ag2HguGVOA1V"
      },
      "source": [
        "model_efficient_net.save('effecienetcustom_B4_model.h5')"
      ],
      "execution_count": null,
      "outputs": []
    },
    {
      "cell_type": "markdown",
      "metadata": {
        "id": "dGIOT5hjXttb"
      },
      "source": [
        "### Custom Model"
      ]
    },
    {
      "cell_type": "code",
      "metadata": {
        "id": "EWYxHOVU7X2f"
      },
      "source": [
        "with strategy.scope():\n",
        "  conv_5d = tf.keras.Sequential([tf.keras.layers.Input([*IMAGE_SIZE,3]),\n",
        "                               tf.keras.layers.Conv2D(256,3,activation='relu',kernel_regularizer='l2'),\n",
        "                               tf.keras.layers.MaxPool2D(),\n",
        "                               tf.keras.layers.Conv2D(128,3,activation='relu',kernel_regularizer='l2'),\n",
        "                               tf.keras.layers.MaxPool2D(),\n",
        "                               tf.keras.layers.Flatten(),\n",
        "                               tf.keras.layers.Dense(128,activation='relu'),\n",
        "                               tf.keras.layers.Dense(64,activation='relu')\n",
        "                               \n",
        "])\n",
        "  conv_3d = tf.keras.Sequential([tf.keras.layers.Input([*IMAGE_SIZE,3]),\n",
        "                               tf.keras.layers.Conv2D(256,2,activation='relu',kernel_regularizer='l2'),\n",
        "                               tf.keras.layers.MaxPool2D(),\n",
        "                               tf.keras.layers.Conv2D(128,2,activation='relu',kernel_regularizer='l2'),\n",
        "                               tf.keras.layers.MaxPool2D(),\n",
        "                               tf.keras.layers.GlobalAveragePooling2D(),\n",
        "                               tf.keras.layers.Flatten(),\n",
        "                               tf.keras.layers.Dense(256,activation='relu'),\n",
        "                               tf.keras.layers.Dense(128,activation='relu')\n",
        "                               \n",
        "])\n",
        "  \n",
        "  inputs = tf.keras.layers.Input([*IMAGE_SIZE, 3])\n",
        "  conv5d = conv_5d(inputs)\n",
        "  conv3d = conv_3d(inputs)\n",
        "  split_base = tf.keras.layers.Average()([conv5d,conv3d])\n",
        "  #split_base = tf.keras.layers.Average()(split_base)\n",
        "  split_base_model = tf.keras.layers.BatchNormalization()(split_base_model)\n",
        "  split_base_model = tf.keras.layers.Flatten()(split_base_model)\n",
        "  split_base_model = tf.keras.layers.Dense(512,activation='relu',kernel_regularizer=tf.keras.regularizers.l2())(split_base_model)\n",
        "  split_base_model = tf.keras.layers.Dense(256,activation='relu',kernel_regularizer=tf.keras.regularizers.l2())(split_base_model)\n",
        "  split_base_model = tf.keras.layers.Dense(128,activation='relu')(split_base_model)\n",
        "  split_base_model = tf.keras.layers.Dense(64,activation='relu',)(split_base_model)\n",
        "  split_base_model = tf.keras.layers.Dense(32,activation='relu',)(split_base_model)\n",
        "  split_base_model = tf.keras.layers.Dense(8,activation='relu',)(split_base_model)\n",
        "  split_base_model = tf.keras.layers.Dropout(0.2)(split_base_model)\n",
        "  split_base_model = tf.keras.layers.Dense(5,activation='softmax')(split_base_model)\n",
        "  \n",
        "  model_custom = tf.keras.Model(inputs=inputs,outputs=split_base_model)"
      ],
      "execution_count": null,
      "outputs": []
    },
    {
      "cell_type": "code",
      "metadata": {
        "id": "hJAF4pY1iW0D"
      },
      "source": [
        "initial_learning_rate = 0.001\n",
        "lr_schedule = tf.keras.optimizers.schedules.ExponentialDecay(\n",
        "    initial_learning_rate, decay_steps=100, decay_rate=0.96, staircase=True\n",
        ")\n",
        "\n",
        "checkpoint_cb = tf.keras.callbacks.ModelCheckpoint(\n",
        "    \"best_model.h5\", save_best_only=True\n",
        ")\n",
        "\n",
        "early_stopping_cb = tf.keras.callbacks.EarlyStopping(\n",
        "    patience=10, restore_best_weights=True\n",
        ")"
      ],
      "execution_count": null,
      "outputs": []
    },
    {
      "cell_type": "code",
      "metadata": {
        "colab": {
          "base_uri": "https://localhost:8080/"
        },
        "id": "ahawYSqJcpoK",
        "outputId": "b1e6457b-c2e1-48c4-9ec0-3e04c6edbf17"
      },
      "source": [
        "model_custom.summary()"
      ],
      "execution_count": null,
      "outputs": [
        {
          "output_type": "stream",
          "text": [
            "Model: \"functional_16\"\n",
            "__________________________________________________________________________________________________\n",
            "Layer (type)                    Output Shape         Param #     Connected to                     \n",
            "==================================================================================================\n",
            "input_38 (InputLayer)           [(None, 512, 512, 3) 0                                            \n",
            "__________________________________________________________________________________________________\n",
            "sequential_19 (Sequential)      (None, 128)          368128      input_38[0][0]                   \n",
            "__________________________________________________________________________________________________\n",
            "sequential_20 (Sequential)      (None, 128)          200448      input_38[0][0]                   \n",
            "__________________________________________________________________________________________________\n",
            "average_5 (Average)             (None, 128)          0           sequential_19[0][0]              \n",
            "                                                                 sequential_20[0][0]              \n",
            "__________________________________________________________________________________________________\n",
            "dense_121 (Dense)               (None, 1024)         132096      average_5[0][0]                  \n",
            "__________________________________________________________________________________________________\n",
            "dense_122 (Dense)               (None, 512)          524800      dense_121[0][0]                  \n",
            "__________________________________________________________________________________________________\n",
            "dense_123 (Dense)               (None, 256)          131328      dense_122[0][0]                  \n",
            "__________________________________________________________________________________________________\n",
            "batch_normalization_8 (BatchNor (None, 256)          1024        dense_123[0][0]                  \n",
            "__________________________________________________________________________________________________\n",
            "flatten_13 (Flatten)            (None, 256)          0           batch_normalization_8[0][0]      \n",
            "__________________________________________________________________________________________________\n",
            "dense_124 (Dense)               (None, 512)          131584      flatten_13[0][0]                 \n",
            "__________________________________________________________________________________________________\n",
            "dense_125 (Dense)               (None, 256)          131328      dense_124[0][0]                  \n",
            "__________________________________________________________________________________________________\n",
            "dense_126 (Dense)               (None, 128)          32896       dense_125[0][0]                  \n",
            "__________________________________________________________________________________________________\n",
            "dense_127 (Dense)               (None, 64)           8256        dense_126[0][0]                  \n",
            "__________________________________________________________________________________________________\n",
            "dense_128 (Dense)               (None, 32)           2080        dense_127[0][0]                  \n",
            "__________________________________________________________________________________________________\n",
            "dense_129 (Dense)               (None, 8)            264         dense_128[0][0]                  \n",
            "__________________________________________________________________________________________________\n",
            "dropout_8 (Dropout)             (None, 8)            0           dense_129[0][0]                  \n",
            "__________________________________________________________________________________________________\n",
            "dense_130 (Dense)               (None, 5)            45          dropout_8[0][0]                  \n",
            "==================================================================================================\n",
            "Total params: 1,664,277\n",
            "Trainable params: 1,663,765\n",
            "Non-trainable params: 512\n",
            "__________________________________________________________________________________________________\n"
          ],
          "name": "stdout"
        }
      ]
    },
    {
      "cell_type": "code",
      "metadata": {
        "id": "YMX_PVhl7owa"
      },
      "source": [
        "model_custom.compile(optimizer=tf.keras.optimizers.Adam(learning_rate=1e-4),\n",
        "              loss=tf.keras.losses.SparseCategoricalCrossentropy(),\n",
        "              metrics=['accuracy'])"
      ],
      "execution_count": null,
      "outputs": []
    },
    {
      "cell_type": "code",
      "metadata": {
        "id": "Az5qMxjo7rb_"
      },
      "source": [
        "epochs=10\n",
        "history = model_custom.fit(\n",
        "  train_dataset,\n",
        "  epochs=epochs,\n",
        "  validation_data = validation_dataset,\n",
        "  callbacks=[checkpoint_cb, early_stopping_cb]\n",
        "  #class_weight = cl_w\n",
        "  #steps_per_epoch = 600\n",
        "  #validation_data = val_generator,\n",
        "\n",
        " \n",
        ")"
      ],
      "execution_count": null,
      "outputs": []
    },
    {
      "cell_type": "code",
      "metadata": {
        "id": "1PDgrRpgsNZn"
      },
      "source": [
        "model_custom.optimizer._decayed_lr(tf.float32).numpy()"
      ],
      "execution_count": null,
      "outputs": []
    },
    {
      "cell_type": "code",
      "metadata": {
        "id": "w6sQPv5uwn9O"
      },
      "source": [
        "model_custom.save('effecienetcustom_B4_model.h5')"
      ],
      "execution_count": null,
      "outputs": []
    },
    {
      "cell_type": "markdown",
      "metadata": {
        "id": "G5pafDDFN9dR"
      },
      "source": [
        "# Prediction"
      ]
    },
    {
      "cell_type": "code",
      "metadata": {
        "id": "iH-4SG4fxyDF"
      },
      "source": [
        "prediction,test_data = submit_gen(model_custom,\n",
        "                                  classes=sorted(train_records.label.unique()),\n",
        "                                  dataset_path='/content/test/')"
      ],
      "execution_count": null,
      "outputs": []
    },
    {
      "cell_type": "code",
      "metadata": {
        "id": "onez_SdmxyDF",
        "colab": {
          "base_uri": "https://localhost:8080/"
        },
        "outputId": "e7dcda8c-af0c-41e6-e9d7-9c6b49aad91d"
      },
      "source": [
        "test_data"
      ],
      "execution_count": null,
      "outputs": [
        {
          "output_type": "execute_result",
          "data": {
            "text/plain": [
              "['2216849948.jpg']"
            ]
          },
          "metadata": {
            "tags": []
          },
          "execution_count": 113
        }
      ]
    },
    {
      "cell_type": "code",
      "metadata": {
        "id": "vUWWuRp6xyDF",
        "colab": {
          "base_uri": "https://localhost:8080/",
          "height": 77
        },
        "outputId": "c59b3edc-98e3-4b74-87a0-3ef1016fb66b"
      },
      "source": [
        "submission = pd.DataFrame({\"image_id\":np.squeeze(test_data),\"label\":prediction})\n",
        "submission.head()"
      ],
      "execution_count": null,
      "outputs": [
        {
          "output_type": "execute_result",
          "data": {
            "text/html": [
              "<div>\n",
              "<style scoped>\n",
              "    .dataframe tbody tr th:only-of-type {\n",
              "        vertical-align: middle;\n",
              "    }\n",
              "\n",
              "    .dataframe tbody tr th {\n",
              "        vertical-align: top;\n",
              "    }\n",
              "\n",
              "    .dataframe thead th {\n",
              "        text-align: right;\n",
              "    }\n",
              "</style>\n",
              "<table border=\"1\" class=\"dataframe\">\n",
              "  <thead>\n",
              "    <tr style=\"text-align: right;\">\n",
              "      <th></th>\n",
              "      <th>image_id</th>\n",
              "      <th>label</th>\n",
              "    </tr>\n",
              "  </thead>\n",
              "  <tbody>\n",
              "    <tr>\n",
              "      <th>0</th>\n",
              "      <td>2216849948.jpg</td>\n",
              "      <td>2</td>\n",
              "    </tr>\n",
              "  </tbody>\n",
              "</table>\n",
              "</div>"
            ],
            "text/plain": [
              "         image_id  label\n",
              "0  2216849948.jpg      2"
            ]
          },
          "metadata": {
            "tags": []
          },
          "execution_count": 114
        }
      ]
    },
    {
      "cell_type": "code",
      "metadata": {
        "id": "noB1fgOuxyDF"
      },
      "source": [
        "submission.to_csv('submission.csv',index=False)"
      ],
      "execution_count": null,
      "outputs": []
    },
    {
      "cell_type": "code",
      "metadata": {
        "id": "nz32MGURxyDF"
      },
      "source": [
        "model_res.save('initial_model.h5')"
      ],
      "execution_count": null,
      "outputs": []
    },
    {
      "cell_type": "code",
      "metadata": {
        "id": "Fz7Zu4Y0xyDF"
      },
      "source": [
        "!rm -R ./data_train"
      ],
      "execution_count": null,
      "outputs": []
    }
  ]
}